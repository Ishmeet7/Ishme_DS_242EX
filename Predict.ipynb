{
  "nbformat": 4,
  "nbformat_minor": 0,
  "metadata": {
    "colab": {
      "provenance": [],
      "include_colab_link": true
    },
    "kernelspec": {
      "name": "python3",
      "display_name": "Python 3"
    },
    "language_info": {
      "name": "python"
    },
    "accelerator": "GPU",
    "gpuClass": "standard"
  },
  "cells": [
    {
      "cell_type": "markdown",
      "metadata": {
        "id": "view-in-github",
        "colab_type": "text"
      },
      "source": [
        "<a href=\"https://colab.research.google.com/github/Ishmeet7/Ishme_DS_242EX/blob/main/Predict.ipynb\" target=\"_parent\"><img src=\"https://colab.research.google.com/assets/colab-badge.svg\" alt=\"Open In Colab\"/></a>"
      ]
    },
    {
      "cell_type": "markdown",
      "source": [
        "# Installing and Importing packages"
      ],
      "metadata": {
        "id": "r-Oi-plL8Y1B"
      }
    },
    {
      "cell_type": "code",
      "execution_count": null,
      "metadata": {
        "id": "OicdY7e2XUA5"
      },
      "outputs": [],
      "source": [
        "import pandas as pd #importing libraries\n",
        "import numpy as np\n",
        "import matplotlib.pyplot as plt\n",
        "from numpy import radians, cos, sin, arcsin, sqrt\n",
        "from sklearn.linear_model import LinearRegression\n",
        "from sklearn.preprocessing import PolynomialFeatures\n",
        "from sklearn.ensemble import RandomForestRegressor\n",
        "from sklearn.metrics import mean_absolute_error\n",
        "from sklearn.metrics import mean_squared_error as mse\n",
        "from sklearn.model_selection import train_test_split"
      ]
    },
    {
      "cell_type": "code",
      "source": [
        "from google.colab import drive   #mount drive\n",
        "drive.mount('/content/drive')"
      ],
      "metadata": {
        "id": "qC4Q5mgWYUeF",
        "colab": {
          "base_uri": "https://localhost:8080/"
        },
        "outputId": "5fd8d9c9-d1cf-455c-b084-4abebbf8833a"
      },
      "execution_count": null,
      "outputs": [
        {
          "output_type": "stream",
          "name": "stdout",
          "text": [
            "Mounted at /content/drive\n"
          ]
        }
      ]
    },
    {
      "cell_type": "markdown",
      "source": [
        "# Loading data"
      ],
      "metadata": {
        "id": "HN2narI9_1Pd"
      }
    },
    {
      "cell_type": "code",
      "source": [
        "df = pd.read_parquet('/content/drive/MyDrive/Data/BMTC.parquet.gzip', engine='pyarrow') # This command loads BMTC data into a dataframe. \n",
        "                                                                      # In case of error, install pyarrow using: \n",
        "                                                                      # pip install pyarrow\n",
        "dfInput = pd.read_csv('/content/drive/MyDrive/Data/Input.csv')\n",
        "dfGroundTruth = pd.read_csv('/content/drive/MyDrive/Data/GroundTruth.csv')"
      ],
      "metadata": {
        "id": "q55fwfyJYZUB"
      },
      "execution_count": null,
      "outputs": []
    },
    {
      "cell_type": "code",
      "source": [
        "#df = df[(df['Latitude']>12.95)&(df['Latitude']<=13.00)&(df['Longitude']>77.55)&(df['Longitude']<=77.60)]\n"
      ],
      "metadata": {
        "id": "Z3iU7mUX6ZMZ"
      },
      "execution_count": null,
      "outputs": []
    },
    {
      "cell_type": "markdown",
      "source": [
        "# Exploratory Data Analysis"
      ],
      "metadata": {
        "id": "fhPgwvyV_7Qc"
      }
    },
    {
      "cell_type": "code",
      "source": [
        "g1=df.groupby('BusID') #grouping data using BusID\n",
        "unique=df.BusID.unique()"
      ],
      "metadata": {
        "id": "yj96k9CKY7Az"
      },
      "execution_count": null,
      "outputs": []
    },
    {
      "cell_type": "markdown",
      "source": [
        "# Preprocessing"
      ],
      "metadata": {
        "id": "B9J5M4xI-EiH"
      }
    },
    {
      "cell_type": "code",
      "source": [
        "def pre_processing(df):\n",
        "  d1 = df.drop_duplicates(subset=['Latitude','Longitude','Speed'],keep=(\"first\"),inplace=False) #If the consecutive rows have same latitude,longitude and speed values keeping only first and last row\n",
        "  d2 = df.drop_duplicates(subset=['Latitude','Longitude','Speed'],keep=(\"last\"),inplace=False)\n",
        "  d3 = pd.concat([d1,d2]).drop_duplicates()\n",
        "  return d3"
      ],
      "metadata": {
        "id": "r90ltSM0Zgds"
      },
      "execution_count": null,
      "outputs": []
    },
    {
      "cell_type": "code",
      "source": [
        "pre_processing(df)"
      ],
      "metadata": {
        "colab": {
          "base_uri": "https://localhost:8080/",
          "height": 424
        },
        "id": "KD3WJEud5nbG",
        "outputId": "3f465297-8484-40a5-cddc-d67b930cf37e"
      },
      "execution_count": null,
      "outputs": [
        {
          "output_type": "execute_result",
          "data": {
            "text/plain": [
              "             BusID   Latitude  Longitude  Speed           Timestamp\n",
              "0        150212121  13.074558  77.445549    0.0 2019-08-01 07:00:02\n",
              "152      150212121  13.074558  77.445549    9.0 2019-08-01 07:25:16\n",
              "153      150212121  13.074113  77.445282   21.0 2019-08-01 07:25:26\n",
              "154      150212121  13.074060  77.445267    0.0 2019-08-01 07:25:36\n",
              "173      150212121  13.074060  77.445267   13.0 2019-08-01 07:28:45\n",
              "...            ...        ...        ...    ...                 ...\n",
              "6014786  150813395  13.099629  77.596695    0.0 2019-08-01 18:33:36\n",
              "6014803  150813395  13.099418  77.596924    0.0 2019-08-01 18:36:26\n",
              "6014823  150813395  13.099084  77.597076    0.0 2019-08-01 18:39:44\n",
              "6014852  150813395  13.095264  77.594536    0.0 2019-08-01 18:44:33\n",
              "6014856  150813395  13.095257  77.594521    0.0 2019-08-01 18:45:13\n",
              "\n",
              "[4434308 rows x 5 columns]"
            ],
            "text/html": [
              "\n",
              "  <div id=\"df-a4636b40-30d5-415c-b551-237d13c060de\">\n",
              "    <div class=\"colab-df-container\">\n",
              "      <div>\n",
              "<style scoped>\n",
              "    .dataframe tbody tr th:only-of-type {\n",
              "        vertical-align: middle;\n",
              "    }\n",
              "\n",
              "    .dataframe tbody tr th {\n",
              "        vertical-align: top;\n",
              "    }\n",
              "\n",
              "    .dataframe thead th {\n",
              "        text-align: right;\n",
              "    }\n",
              "</style>\n",
              "<table border=\"1\" class=\"dataframe\">\n",
              "  <thead>\n",
              "    <tr style=\"text-align: right;\">\n",
              "      <th></th>\n",
              "      <th>BusID</th>\n",
              "      <th>Latitude</th>\n",
              "      <th>Longitude</th>\n",
              "      <th>Speed</th>\n",
              "      <th>Timestamp</th>\n",
              "    </tr>\n",
              "  </thead>\n",
              "  <tbody>\n",
              "    <tr>\n",
              "      <th>0</th>\n",
              "      <td>150212121</td>\n",
              "      <td>13.074558</td>\n",
              "      <td>77.445549</td>\n",
              "      <td>0.0</td>\n",
              "      <td>2019-08-01 07:00:02</td>\n",
              "    </tr>\n",
              "    <tr>\n",
              "      <th>152</th>\n",
              "      <td>150212121</td>\n",
              "      <td>13.074558</td>\n",
              "      <td>77.445549</td>\n",
              "      <td>9.0</td>\n",
              "      <td>2019-08-01 07:25:16</td>\n",
              "    </tr>\n",
              "    <tr>\n",
              "      <th>153</th>\n",
              "      <td>150212121</td>\n",
              "      <td>13.074113</td>\n",
              "      <td>77.445282</td>\n",
              "      <td>21.0</td>\n",
              "      <td>2019-08-01 07:25:26</td>\n",
              "    </tr>\n",
              "    <tr>\n",
              "      <th>154</th>\n",
              "      <td>150212121</td>\n",
              "      <td>13.074060</td>\n",
              "      <td>77.445267</td>\n",
              "      <td>0.0</td>\n",
              "      <td>2019-08-01 07:25:36</td>\n",
              "    </tr>\n",
              "    <tr>\n",
              "      <th>173</th>\n",
              "      <td>150212121</td>\n",
              "      <td>13.074060</td>\n",
              "      <td>77.445267</td>\n",
              "      <td>13.0</td>\n",
              "      <td>2019-08-01 07:28:45</td>\n",
              "    </tr>\n",
              "    <tr>\n",
              "      <th>...</th>\n",
              "      <td>...</td>\n",
              "      <td>...</td>\n",
              "      <td>...</td>\n",
              "      <td>...</td>\n",
              "      <td>...</td>\n",
              "    </tr>\n",
              "    <tr>\n",
              "      <th>6014786</th>\n",
              "      <td>150813395</td>\n",
              "      <td>13.099629</td>\n",
              "      <td>77.596695</td>\n",
              "      <td>0.0</td>\n",
              "      <td>2019-08-01 18:33:36</td>\n",
              "    </tr>\n",
              "    <tr>\n",
              "      <th>6014803</th>\n",
              "      <td>150813395</td>\n",
              "      <td>13.099418</td>\n",
              "      <td>77.596924</td>\n",
              "      <td>0.0</td>\n",
              "      <td>2019-08-01 18:36:26</td>\n",
              "    </tr>\n",
              "    <tr>\n",
              "      <th>6014823</th>\n",
              "      <td>150813395</td>\n",
              "      <td>13.099084</td>\n",
              "      <td>77.597076</td>\n",
              "      <td>0.0</td>\n",
              "      <td>2019-08-01 18:39:44</td>\n",
              "    </tr>\n",
              "    <tr>\n",
              "      <th>6014852</th>\n",
              "      <td>150813395</td>\n",
              "      <td>13.095264</td>\n",
              "      <td>77.594536</td>\n",
              "      <td>0.0</td>\n",
              "      <td>2019-08-01 18:44:33</td>\n",
              "    </tr>\n",
              "    <tr>\n",
              "      <th>6014856</th>\n",
              "      <td>150813395</td>\n",
              "      <td>13.095257</td>\n",
              "      <td>77.594521</td>\n",
              "      <td>0.0</td>\n",
              "      <td>2019-08-01 18:45:13</td>\n",
              "    </tr>\n",
              "  </tbody>\n",
              "</table>\n",
              "<p>4434308 rows × 5 columns</p>\n",
              "</div>\n",
              "      <button class=\"colab-df-convert\" onclick=\"convertToInteractive('df-a4636b40-30d5-415c-b551-237d13c060de')\"\n",
              "              title=\"Convert this dataframe to an interactive table.\"\n",
              "              style=\"display:none;\">\n",
              "        \n",
              "  <svg xmlns=\"http://www.w3.org/2000/svg\" height=\"24px\"viewBox=\"0 0 24 24\"\n",
              "       width=\"24px\">\n",
              "    <path d=\"M0 0h24v24H0V0z\" fill=\"none\"/>\n",
              "    <path d=\"M18.56 5.44l.94 2.06.94-2.06 2.06-.94-2.06-.94-.94-2.06-.94 2.06-2.06.94zm-11 1L8.5 8.5l.94-2.06 2.06-.94-2.06-.94L8.5 2.5l-.94 2.06-2.06.94zm10 10l.94 2.06.94-2.06 2.06-.94-2.06-.94-.94-2.06-.94 2.06-2.06.94z\"/><path d=\"M17.41 7.96l-1.37-1.37c-.4-.4-.92-.59-1.43-.59-.52 0-1.04.2-1.43.59L10.3 9.45l-7.72 7.72c-.78.78-.78 2.05 0 2.83L4 21.41c.39.39.9.59 1.41.59.51 0 1.02-.2 1.41-.59l7.78-7.78 2.81-2.81c.8-.78.8-2.07 0-2.86zM5.41 20L4 18.59l7.72-7.72 1.47 1.35L5.41 20z\"/>\n",
              "  </svg>\n",
              "      </button>\n",
              "      \n",
              "  <style>\n",
              "    .colab-df-container {\n",
              "      display:flex;\n",
              "      flex-wrap:wrap;\n",
              "      gap: 12px;\n",
              "    }\n",
              "\n",
              "    .colab-df-convert {\n",
              "      background-color: #E8F0FE;\n",
              "      border: none;\n",
              "      border-radius: 50%;\n",
              "      cursor: pointer;\n",
              "      display: none;\n",
              "      fill: #1967D2;\n",
              "      height: 32px;\n",
              "      padding: 0 0 0 0;\n",
              "      width: 32px;\n",
              "    }\n",
              "\n",
              "    .colab-df-convert:hover {\n",
              "      background-color: #E2EBFA;\n",
              "      box-shadow: 0px 1px 2px rgba(60, 64, 67, 0.3), 0px 1px 3px 1px rgba(60, 64, 67, 0.15);\n",
              "      fill: #174EA6;\n",
              "    }\n",
              "\n",
              "    [theme=dark] .colab-df-convert {\n",
              "      background-color: #3B4455;\n",
              "      fill: #D2E3FC;\n",
              "    }\n",
              "\n",
              "    [theme=dark] .colab-df-convert:hover {\n",
              "      background-color: #434B5C;\n",
              "      box-shadow: 0px 1px 3px 1px rgba(0, 0, 0, 0.15);\n",
              "      filter: drop-shadow(0px 1px 2px rgba(0, 0, 0, 0.3));\n",
              "      fill: #FFFFFF;\n",
              "    }\n",
              "  </style>\n",
              "\n",
              "      <script>\n",
              "        const buttonEl =\n",
              "          document.querySelector('#df-a4636b40-30d5-415c-b551-237d13c060de button.colab-df-convert');\n",
              "        buttonEl.style.display =\n",
              "          google.colab.kernel.accessAllowed ? 'block' : 'none';\n",
              "\n",
              "        async function convertToInteractive(key) {\n",
              "          const element = document.querySelector('#df-a4636b40-30d5-415c-b551-237d13c060de');\n",
              "          const dataTable =\n",
              "            await google.colab.kernel.invokeFunction('convertToInteractive',\n",
              "                                                     [key], {});\n",
              "          if (!dataTable) return;\n",
              "\n",
              "          const docLinkHtml = 'Like what you see? Visit the ' +\n",
              "            '<a target=\"_blank\" href=https://colab.research.google.com/notebooks/data_table.ipynb>data table notebook</a>'\n",
              "            + ' to learn more about interactive tables.';\n",
              "          element.innerHTML = '';\n",
              "          dataTable['output_type'] = 'display_data';\n",
              "          await google.colab.output.renderOutput(dataTable, element);\n",
              "          const docLink = document.createElement('div');\n",
              "          docLink.innerHTML = docLinkHtml;\n",
              "          element.appendChild(docLink);\n",
              "        }\n",
              "      </script>\n",
              "    </div>\n",
              "  </div>\n",
              "  "
            ]
          },
          "metadata": {},
          "execution_count": 76
        }
      ]
    },
    {
      "cell_type": "markdown",
      "source": [
        "## Creating a Subset of Data Based on similar route"
      ],
      "metadata": {
        "id": "Pis5iaEMUqmq"
      }
    },
    {
      "cell_type": "code",
      "source": [
        "g = df.groupby('BusID')\n",
        "\n",
        "bus1 = g.get_group(150218010)\n",
        "bus2 = g.get_group(150813389)\n",
        "\n",
        "bus1.reset_index(inplace = True, drop = True)\n",
        "bus2.reset_index(inplace = True, drop = True)\n",
        "\n",
        "buses = pd.concat([bus1,bus2],axis=0)\n",
        "\n",
        "lat = np.array(buses['Latitude']).reshape(-1, 1)\n",
        "poly_feature = PolynomialFeatures(4)#degree is 4\n",
        "x_poly = poly_feature.fit_transform(lat)#fit data and then transform\n",
        "reg = LinearRegression()\n",
        "reg.fit(x_poly, buses['Longitude'])#fit linear model\n",
        "y_predict = reg.predict(x_poly)#prediction using model\n",
        "rmse = (mse(buses['Longitude'], y_predict)) ** 0.5  #rmse calculation\n",
        "\n",
        "count = 0\n",
        "cluster = pd.DataFrame()\n",
        "for i in g.size().index:\n",
        "    bus = g.get_group(i)\n",
        "    bus.reset_index(inplace = True, drop = True)\n",
        "    lat = np.array(bus['Latitude']).reshape(-1, 1)\n",
        "    x_poly = poly_feature.fit_transform(lat)\n",
        "    y_predict = reg.predict(x_poly)#prediction using model\n",
        "    rmse = (mse(bus['Longitude'], y_predict)) ** 0.5  #rmse calculation\n",
        "    if rmse <= 0.03:\n",
        "        count+=1\n",
        "        cluster = pd.concat([cluster,bus], axis=0)\n",
        "        \n",
        "print(count)\n",
        "\n",
        "\n",
        "plt.figure(figsize=(10,10))\n",
        "plt.scatter(cluster['Latitude'], cluster['Longitude'])\n",
        "xp = np.linspace(cluster['Latitude'].min(), cluster['Latitude'].max(), 1000).reshape(-1, 1)#2923 is len of train data\n",
        "x_poly = poly_feature.fit_transform(xp)\n",
        "y_predict = reg.predict(x_poly)\n",
        "plt.plot(xp,y_predict,color='k')"
      ],
      "metadata": {
        "colab": {
          "base_uri": "https://localhost:8080/",
          "height": 627
        },
        "id": "LkDkmjS9U0eD",
        "outputId": "fe7edc4b-46f4-4161-e792-222c77a877c7"
      },
      "execution_count": null,
      "outputs": [
        {
          "output_type": "stream",
          "name": "stdout",
          "text": [
            "105\n"
          ]
        },
        {
          "output_type": "execute_result",
          "data": {
            "text/plain": [
              "[<matplotlib.lines.Line2D at 0x7f459df96610>]"
            ]
          },
          "metadata": {},
          "execution_count": 85
        },
        {
          "output_type": "display_data",
          "data": {
            "text/plain": [
              "<Figure size 720x720 with 1 Axes>"
            ],
            "image/png": "[encoded data removed]"
          },
          "metadata": {
            "needs_background": "light"
          }
        }
      ]
    },
    {
      "cell_type": "markdown",
      "source": [
        "# Feature Extraction"
      ],
      "metadata": {
        "id": "EBx7ZZzW-P-O"
      }
    },
    {
      "cell_type": "code",
      "source": [
        "#calculating Haversine distance between two points on earth\n",
        "def haversine(lon1, lat1, lon2, lat2):\n",
        "    \"\"\"\n",
        "    Calculate the great circle distance between two points \n",
        "    on the earth (specified in decimal degrees)\n",
        "    \"\"\"\n",
        "\n",
        "    #Convert decimal degrees to Radians:\n",
        "    lon1 = np.radians(lon1.values)\n",
        "    lat1 = np.radians(lat1.values)\n",
        "    lon2 = np.radians(lon2.values)\n",
        "    lat2 = np.radians(lat2.values)\n",
        "\n",
        "    #Implementing Haversine Formula: \n",
        "    dlon = np.subtract(lon2, lon1)\n",
        "    dlat = np.subtract(lat2, lat1)\n",
        "\n",
        "    a = np.add(np.power(np.sin(np.divide(dlat, 2)), 2),  \n",
        "                          np.multiply(np.cos(lat1), \n",
        "                                      np.multiply(np.cos(lat2), \n",
        "                                                  np.power(np.sin(np.divide(dlon, 2)), 2))))\n",
        "    c = np.multiply(2, np.arcsin(np.sqrt(a)))\n",
        "    r = 6371\n",
        "    \n",
        "    return c*r"
      ],
      "metadata": {
        "id": "S5uGEqw_ZoEw"
      },
      "execution_count": null,
      "outputs": []
    },
    {
      "cell_type": "code",
      "source": [
        "d3 = cluster\n",
        "d4=d3.loc[:,[\"Latitude\",'Longitude']]\n",
        "d7=d3.shift(1)             #creating a lag of p=1\n",
        "d5=d4.shift(periods=1, freq=None, axis=0)\n",
        "\n",
        "d5.rename(columns = {'Latitude':'Source_Lat', 'Longitude':'Source_Long'}, inplace = True) #concatenating shifted dataframe to original dataframe and renaming columns\n",
        "d4.rename(columns = {'Latitude':'Dest_Lat', 'Longitude':'Dest_Long'}, inplace = True)\n",
        "d6=pd.concat([d5,d4], axis=1)\n",
        "\n",
        "distance=haversine(d4['Dest_Long'],d4['Dest_Lat'],d5['Source_Long'],d5['Source_Lat'])\n",
        "\n",
        "time=d3['Timestamp']-d7['Timestamp'] #calculating time required to travel distance between two consecutive rows of latitude and logitude\n",
        "\n",
        "time=time.apply(lambda x: x.seconds/60)\n",
        "\n",
        "d6['Distance']=distance   #adding new columns to dataframe\n",
        "d6['Duration']=time"
      ],
      "metadata": {
        "id": "CZdW1ourypyV"
      },
      "execution_count": null,
      "outputs": []
    },
    {
      "cell_type": "code",
      "source": [
        "d6.columns"
      ],
      "metadata": {
        "id": "itB7VvyuatlB",
        "colab": {
          "base_uri": "https://localhost:8080/"
        },
        "outputId": "601eaf2a-59dc-445b-e86f-18713dce0983"
      },
      "execution_count": null,
      "outputs": [
        {
          "output_type": "execute_result",
          "data": {
            "text/plain": [
              "Index(['Source_Lat', 'Source_Long', 'Dest_Lat', 'Dest_Long', 'Distance',\n",
              "       'Duration'],\n",
              "      dtype='object')"
            ]
          },
          "metadata": {},
          "execution_count": 88
        }
      ]
    },
    {
      "cell_type": "code",
      "source": [
        "d6.head() #created dataframe"
      ],
      "metadata": {
        "id": "larLmW-rcGsN",
        "colab": {
          "base_uri": "https://localhost:8080/",
          "height": 206
        },
        "outputId": "832a0135-a950-4596-cc33-78df5b90606e"
      },
      "execution_count": null,
      "outputs": [
        {
          "output_type": "execute_result",
          "data": {
            "text/plain": [
              "   Source_Lat  Source_Long   Dest_Lat  Dest_Long  Distance  Duration\n",
              "0         NaN          NaN  13.043344  77.609070       NaN       NaN\n",
              "1   13.043344    77.609070  13.043061  77.610191  0.125445  0.166667\n",
              "2   13.043061    77.610191  13.042920  77.611275  0.118468  0.166667\n",
              "3   13.042920    77.611275  13.042670  77.612312  0.115723  0.166667\n",
              "4   13.042670    77.612312  13.042445  77.613235  0.103068  0.166667"
            ],
            "text/html": [
              "\n",
              "  <div id=\"df-601f60e7-ea3c-41ae-a3a1-cc87d456ca91\">\n",
              "    <div class=\"colab-df-container\">\n",
              "      <div>\n",
              "<style scoped>\n",
              "    .dataframe tbody tr th:only-of-type {\n",
              "        vertical-align: middle;\n",
              "    }\n",
              "\n",
              "    .dataframe tbody tr th {\n",
              "        vertical-align: top;\n",
              "    }\n",
              "\n",
              "    .dataframe thead th {\n",
              "        text-align: right;\n",
              "    }\n",
              "</style>\n",
              "<table border=\"1\" class=\"dataframe\">\n",
              "  <thead>\n",
              "    <tr style=\"text-align: right;\">\n",
              "      <th></th>\n",
              "      <th>Source_Lat</th>\n",
              "      <th>Source_Long</th>\n",
              "      <th>Dest_Lat</th>\n",
              "      <th>Dest_Long</th>\n",
              "      <th>Distance</th>\n",
              "      <th>Duration</th>\n",
              "    </tr>\n",
              "  </thead>\n",
              "  <tbody>\n",
              "    <tr>\n",
              "      <th>0</th>\n",
              "      <td>NaN</td>\n",
              "      <td>NaN</td>\n",
              "      <td>13.043344</td>\n",
              "      <td>77.609070</td>\n",
              "      <td>NaN</td>\n",
              "      <td>NaN</td>\n",
              "    </tr>\n",
              "    <tr>\n",
              "      <th>1</th>\n",
              "      <td>13.043344</td>\n",
              "      <td>77.609070</td>\n",
              "      <td>13.043061</td>\n",
              "      <td>77.610191</td>\n",
              "      <td>0.125445</td>\n",
              "      <td>0.166667</td>\n",
              "    </tr>\n",
              "    <tr>\n",
              "      <th>2</th>\n",
              "      <td>13.043061</td>\n",
              "      <td>77.610191</td>\n",
              "      <td>13.042920</td>\n",
              "      <td>77.611275</td>\n",
              "      <td>0.118468</td>\n",
              "      <td>0.166667</td>\n",
              "    </tr>\n",
              "    <tr>\n",
              "      <th>3</th>\n",
              "      <td>13.042920</td>\n",
              "      <td>77.611275</td>\n",
              "      <td>13.042670</td>\n",
              "      <td>77.612312</td>\n",
              "      <td>0.115723</td>\n",
              "      <td>0.166667</td>\n",
              "    </tr>\n",
              "    <tr>\n",
              "      <th>4</th>\n",
              "      <td>13.042670</td>\n",
              "      <td>77.612312</td>\n",
              "      <td>13.042445</td>\n",
              "      <td>77.613235</td>\n",
              "      <td>0.103068</td>\n",
              "      <td>0.166667</td>\n",
              "    </tr>\n",
              "  </tbody>\n",
              "</table>\n",
              "</div>\n",
              "      <button class=\"colab-df-convert\" onclick=\"convertToInteractive('df-601f60e7-ea3c-41ae-a3a1-cc87d456ca91')\"\n",
              "              title=\"Convert this dataframe to an interactive table.\"\n",
              "              style=\"display:none;\">\n",
              "        \n",
              "  <svg xmlns=\"http://www.w3.org/2000/svg\" height=\"24px\"viewBox=\"0 0 24 24\"\n",
              "       width=\"24px\">\n",
              "    <path d=\"M0 0h24v24H0V0z\" fill=\"none\"/>\n",
              "    <path d=\"M18.56 5.44l.94 2.06.94-2.06 2.06-.94-2.06-.94-.94-2.06-.94 2.06-2.06.94zm-11 1L8.5 8.5l.94-2.06 2.06-.94-2.06-.94L8.5 2.5l-.94 2.06-2.06.94zm10 10l.94 2.06.94-2.06 2.06-.94-2.06-.94-.94-2.06-.94 2.06-2.06.94z\"/><path d=\"M17.41 7.96l-1.37-1.37c-.4-.4-.92-.59-1.43-.59-.52 0-1.04.2-1.43.59L10.3 9.45l-7.72 7.72c-.78.78-.78 2.05 0 2.83L4 21.41c.39.39.9.59 1.41.59.51 0 1.02-.2 1.41-.59l7.78-7.78 2.81-2.81c.8-.78.8-2.07 0-2.86zM5.41 20L4 18.59l7.72-7.72 1.47 1.35L5.41 20z\"/>\n",
              "  </svg>\n",
              "      </button>\n",
              "      \n",
              "  <style>\n",
              "    .colab-df-container {\n",
              "      display:flex;\n",
              "      flex-wrap:wrap;\n",
              "      gap: 12px;\n",
              "    }\n",
              "\n",
              "    .colab-df-convert {\n",
              "      background-color: #E8F0FE;\n",
              "      border: none;\n",
              "      border-radius: 50%;\n",
              "      cursor: pointer;\n",
              "      display: none;\n",
              "      fill: #1967D2;\n",
              "      height: 32px;\n",
              "      padding: 0 0 0 0;\n",
              "      width: 32px;\n",
              "    }\n",
              "\n",
              "    .colab-df-convert:hover {\n",
              "      background-color: #E2EBFA;\n",
              "      box-shadow: 0px 1px 2px rgba(60, 64, 67, 0.3), 0px 1px 3px 1px rgba(60, 64, 67, 0.15);\n",
              "      fill: #174EA6;\n",
              "    }\n",
              "\n",
              "    [theme=dark] .colab-df-convert {\n",
              "      background-color: #3B4455;\n",
              "      fill: #D2E3FC;\n",
              "    }\n",
              "\n",
              "    [theme=dark] .colab-df-convert:hover {\n",
              "      background-color: #434B5C;\n",
              "      box-shadow: 0px 1px 3px 1px rgba(0, 0, 0, 0.15);\n",
              "      filter: drop-shadow(0px 1px 2px rgba(0, 0, 0, 0.3));\n",
              "      fill: #FFFFFF;\n",
              "    }\n",
              "  </style>\n",
              "\n",
              "      <script>\n",
              "        const buttonEl =\n",
              "          document.querySelector('#df-601f60e7-ea3c-41ae-a3a1-cc87d456ca91 button.colab-df-convert');\n",
              "        buttonEl.style.display =\n",
              "          google.colab.kernel.accessAllowed ? 'block' : 'none';\n",
              "\n",
              "        async function convertToInteractive(key) {\n",
              "          const element = document.querySelector('#df-601f60e7-ea3c-41ae-a3a1-cc87d456ca91');\n",
              "          const dataTable =\n",
              "            await google.colab.kernel.invokeFunction('convertToInteractive',\n",
              "                                                     [key], {});\n",
              "          if (!dataTable) return;\n",
              "\n",
              "          const docLinkHtml = 'Like what you see? Visit the ' +\n",
              "            '<a target=\"_blank\" href=https://colab.research.google.com/notebooks/data_table.ipynb>data table notebook</a>'\n",
              "            + ' to learn more about interactive tables.';\n",
              "          element.innerHTML = '';\n",
              "          dataTable['output_type'] = 'display_data';\n",
              "          await google.colab.output.renderOutput(dataTable, element);\n",
              "          const docLink = document.createElement('div');\n",
              "          docLink.innerHTML = docLinkHtml;\n",
              "          element.appendChild(docLink);\n",
              "        }\n",
              "      </script>\n",
              "    </div>\n",
              "  </div>\n",
              "  "
            ]
          },
          "metadata": {},
          "execution_count": 89
        }
      ]
    },
    {
      "cell_type": "code",
      "source": [
        "d6.replace([np.inf, -np.inf], np.nan, inplace=True)    #replacing very large values with Nan\n",
        "d6.drop(d6.tail(1).index, #dropping the first and last rows from dataframe\n",
        "        inplace = True)\n",
        "d6.drop(d6.head(1).index,\n",
        "        inplace = True)\n",
        "\n",
        "pd.set_option('mode.use_inf_as_na', True)\n",
        "d6.dropna(how='any', inplace=True)       #dropping rows with Nan values from new dataframe\n",
        "# check = d6[d6.isna().any(axis=1)]\n",
        "\n",
        "# d6.drop(['Duration'],axis=1)"
      ],
      "metadata": {
        "id": "BJg6QTsocJ7Y"
      },
      "execution_count": null,
      "outputs": []
    },
    {
      "cell_type": "code",
      "source": [
        "d6"
      ],
      "metadata": {
        "id": "EROMyIWdcTvr",
        "colab": {
          "base_uri": "https://localhost:8080/",
          "height": 424
        },
        "outputId": "c5f89a33-afe8-4bb1-9aec-7c2f9e2c3429"
      },
      "execution_count": null,
      "outputs": [
        {
          "output_type": "execute_result",
          "data": {
            "text/plain": [
              "      Source_Lat  Source_Long   Dest_Lat  Dest_Long  Distance  Duration\n",
              "1      13.043344    77.609070  13.043061  77.610191  0.125445  0.166667\n",
              "2      13.043061    77.610191  13.042920  77.611275  0.118468  0.166667\n",
              "3      13.042920    77.611275  13.042670  77.612312  0.115723  0.166667\n",
              "4      13.042670    77.612312  13.042445  77.613235  0.103068  0.166667\n",
              "5      13.042445    77.613235  13.042300  77.613518  0.034638  0.166667\n",
              "...          ...          ...        ...        ...       ...       ...\n",
              "3441   12.916583    77.572472  12.916560  77.572182  0.031534  0.166667\n",
              "3442   12.916560    77.572182  12.916540  77.572044  0.015121  0.166667\n",
              "3443   12.916540    77.572044  12.916533  77.571754  0.031440  0.166667\n",
              "3444   12.916533    77.571754  12.916572  77.571442  0.034092  0.166667\n",
              "3445   12.916572    77.571442  12.916570  77.571236  0.022328  0.166667\n",
              "\n",
              "[329871 rows x 6 columns]"
            ],
            "text/html": [
              "\n",
              "  <div id=\"df-f8a18abd-65ba-417a-9075-33a30338d53a\">\n",
              "    <div class=\"colab-df-container\">\n",
              "      <div>\n",
              "<style scoped>\n",
              "    .dataframe tbody tr th:only-of-type {\n",
              "        vertical-align: middle;\n",
              "    }\n",
              "\n",
              "    .dataframe tbody tr th {\n",
              "        vertical-align: top;\n",
              "    }\n",
              "\n",
              "    .dataframe thead th {\n",
              "        text-align: right;\n",
              "    }\n",
              "</style>\n",
              "<table border=\"1\" class=\"dataframe\">\n",
              "  <thead>\n",
              "    <tr style=\"text-align: right;\">\n",
              "      <th></th>\n",
              "      <th>Source_Lat</th>\n",
              "      <th>Source_Long</th>\n",
              "      <th>Dest_Lat</th>\n",
              "      <th>Dest_Long</th>\n",
              "      <th>Distance</th>\n",
              "      <th>Duration</th>\n",
              "    </tr>\n",
              "  </thead>\n",
              "  <tbody>\n",
              "    <tr>\n",
              "      <th>1</th>\n",
              "      <td>13.043344</td>\n",
              "      <td>77.609070</td>\n",
              "      <td>13.043061</td>\n",
              "      <td>77.610191</td>\n",
              "      <td>0.125445</td>\n",
              "      <td>0.166667</td>\n",
              "    </tr>\n",
              "    <tr>\n",
              "      <th>2</th>\n",
              "      <td>13.043061</td>\n",
              "      <td>77.610191</td>\n",
              "      <td>13.042920</td>\n",
              "      <td>77.611275</td>\n",
              "      <td>0.118468</td>\n",
              "      <td>0.166667</td>\n",
              "    </tr>\n",
              "    <tr>\n",
              "      <th>3</th>\n",
              "      <td>13.042920</td>\n",
              "      <td>77.611275</td>\n",
              "      <td>13.042670</td>\n",
              "      <td>77.612312</td>\n",
              "      <td>0.115723</td>\n",
              "      <td>0.166667</td>\n",
              "    </tr>\n",
              "    <tr>\n",
              "      <th>4</th>\n",
              "      <td>13.042670</td>\n",
              "      <td>77.612312</td>\n",
              "      <td>13.042445</td>\n",
              "      <td>77.613235</td>\n",
              "      <td>0.103068</td>\n",
              "      <td>0.166667</td>\n",
              "    </tr>\n",
              "    <tr>\n",
              "      <th>5</th>\n",
              "      <td>13.042445</td>\n",
              "      <td>77.613235</td>\n",
              "      <td>13.042300</td>\n",
              "      <td>77.613518</td>\n",
              "      <td>0.034638</td>\n",
              "      <td>0.166667</td>\n",
              "    </tr>\n",
              "    <tr>\n",
              "      <th>...</th>\n",
              "      <td>...</td>\n",
              "      <td>...</td>\n",
              "      <td>...</td>\n",
              "      <td>...</td>\n",
              "      <td>...</td>\n",
              "      <td>...</td>\n",
              "    </tr>\n",
              "    <tr>\n",
              "      <th>3441</th>\n",
              "      <td>12.916583</td>\n",
              "      <td>77.572472</td>\n",
              "      <td>12.916560</td>\n",
              "      <td>77.572182</td>\n",
              "      <td>0.031534</td>\n",
              "      <td>0.166667</td>\n",
              "    </tr>\n",
              "    <tr>\n",
              "      <th>3442</th>\n",
              "      <td>12.916560</td>\n",
              "      <td>77.572182</td>\n",
              "      <td>12.916540</td>\n",
              "      <td>77.572044</td>\n",
              "      <td>0.015121</td>\n",
              "      <td>0.166667</td>\n",
              "    </tr>\n",
              "    <tr>\n",
              "      <th>3443</th>\n",
              "      <td>12.916540</td>\n",
              "      <td>77.572044</td>\n",
              "      <td>12.916533</td>\n",
              "      <td>77.571754</td>\n",
              "      <td>0.031440</td>\n",
              "      <td>0.166667</td>\n",
              "    </tr>\n",
              "    <tr>\n",
              "      <th>3444</th>\n",
              "      <td>12.916533</td>\n",
              "      <td>77.571754</td>\n",
              "      <td>12.916572</td>\n",
              "      <td>77.571442</td>\n",
              "      <td>0.034092</td>\n",
              "      <td>0.166667</td>\n",
              "    </tr>\n",
              "    <tr>\n",
              "      <th>3445</th>\n",
              "      <td>12.916572</td>\n",
              "      <td>77.571442</td>\n",
              "      <td>12.916570</td>\n",
              "      <td>77.571236</td>\n",
              "      <td>0.022328</td>\n",
              "      <td>0.166667</td>\n",
              "    </tr>\n",
              "  </tbody>\n",
              "</table>\n",
              "<p>329871 rows × 6 columns</p>\n",
              "</div>\n",
              "      <button class=\"colab-df-convert\" onclick=\"convertToInteractive('df-f8a18abd-65ba-417a-9075-33a30338d53a')\"\n",
              "              title=\"Convert this dataframe to an interactive table.\"\n",
              "              style=\"display:none;\">\n",
              "        \n",
              "  <svg xmlns=\"http://www.w3.org/2000/svg\" height=\"24px\"viewBox=\"0 0 24 24\"\n",
              "       width=\"24px\">\n",
              "    <path d=\"M0 0h24v24H0V0z\" fill=\"none\"/>\n",
              "    <path d=\"M18.56 5.44l.94 2.06.94-2.06 2.06-.94-2.06-.94-.94-2.06-.94 2.06-2.06.94zm-11 1L8.5 8.5l.94-2.06 2.06-.94-2.06-.94L8.5 2.5l-.94 2.06-2.06.94zm10 10l.94 2.06.94-2.06 2.06-.94-2.06-.94-.94-2.06-.94 2.06-2.06.94z\"/><path d=\"M17.41 7.96l-1.37-1.37c-.4-.4-.92-.59-1.43-.59-.52 0-1.04.2-1.43.59L10.3 9.45l-7.72 7.72c-.78.78-.78 2.05 0 2.83L4 21.41c.39.39.9.59 1.41.59.51 0 1.02-.2 1.41-.59l7.78-7.78 2.81-2.81c.8-.78.8-2.07 0-2.86zM5.41 20L4 18.59l7.72-7.72 1.47 1.35L5.41 20z\"/>\n",
              "  </svg>\n",
              "      </button>\n",
              "      \n",
              "  <style>\n",
              "    .colab-df-container {\n",
              "      display:flex;\n",
              "      flex-wrap:wrap;\n",
              "      gap: 12px;\n",
              "    }\n",
              "\n",
              "    .colab-df-convert {\n",
              "      background-color: #E8F0FE;\n",
              "      border: none;\n",
              "      border-radius: 50%;\n",
              "      cursor: pointer;\n",
              "      display: none;\n",
              "      fill: #1967D2;\n",
              "      height: 32px;\n",
              "      padding: 0 0 0 0;\n",
              "      width: 32px;\n",
              "    }\n",
              "\n",
              "    .colab-df-convert:hover {\n",
              "      background-color: #E2EBFA;\n",
              "      box-shadow: 0px 1px 2px rgba(60, 64, 67, 0.3), 0px 1px 3px 1px rgba(60, 64, 67, 0.15);\n",
              "      fill: #174EA6;\n",
              "    }\n",
              "\n",
              "    [theme=dark] .colab-df-convert {\n",
              "      background-color: #3B4455;\n",
              "      fill: #D2E3FC;\n",
              "    }\n",
              "\n",
              "    [theme=dark] .colab-df-convert:hover {\n",
              "      background-color: #434B5C;\n",
              "      box-shadow: 0px 1px 3px 1px rgba(0, 0, 0, 0.15);\n",
              "      filter: drop-shadow(0px 1px 2px rgba(0, 0, 0, 0.3));\n",
              "      fill: #FFFFFF;\n",
              "    }\n",
              "  </style>\n",
              "\n",
              "      <script>\n",
              "        const buttonEl =\n",
              "          document.querySelector('#df-f8a18abd-65ba-417a-9075-33a30338d53a button.colab-df-convert');\n",
              "        buttonEl.style.display =\n",
              "          google.colab.kernel.accessAllowed ? 'block' : 'none';\n",
              "\n",
              "        async function convertToInteractive(key) {\n",
              "          const element = document.querySelector('#df-f8a18abd-65ba-417a-9075-33a30338d53a');\n",
              "          const dataTable =\n",
              "            await google.colab.kernel.invokeFunction('convertToInteractive',\n",
              "                                                     [key], {});\n",
              "          if (!dataTable) return;\n",
              "\n",
              "          const docLinkHtml = 'Like what you see? Visit the ' +\n",
              "            '<a target=\"_blank\" href=https://colab.research.google.com/notebooks/data_table.ipynb>data table notebook</a>'\n",
              "            + ' to learn more about interactive tables.';\n",
              "          element.innerHTML = '';\n",
              "          dataTable['output_type'] = 'display_data';\n",
              "          await google.colab.output.renderOutput(dataTable, element);\n",
              "          const docLink = document.createElement('div');\n",
              "          docLink.innerHTML = docLinkHtml;\n",
              "          element.appendChild(docLink);\n",
              "        }\n",
              "      </script>\n",
              "    </div>\n",
              "  </div>\n",
              "  "
            ]
          },
          "metadata": {},
          "execution_count": 91
        }
      ]
    },
    {
      "cell_type": "code",
      "source": [
        "X_train=d6.drop(['Duration'],axis=1) #creating training dataset \n",
        "#dropping Duration attribute"
      ],
      "metadata": {
        "id": "ISycrFmbdUv5"
      },
      "execution_count": null,
      "outputs": []
    },
    {
      "cell_type": "code",
      "source": [
        "X_train"
      ],
      "metadata": {
        "id": "lVkI7g69hi1m",
        "colab": {
          "base_uri": "https://localhost:8080/",
          "height": 424
        },
        "outputId": "538f5d79-161c-4b6f-bcb1-6ce12b0241d8"
      },
      "execution_count": null,
      "outputs": [
        {
          "output_type": "execute_result",
          "data": {
            "text/plain": [
              "      Source_Lat  Source_Long   Dest_Lat  Dest_Long  Distance\n",
              "1      13.043344    77.609070  13.043061  77.610191  0.125445\n",
              "2      13.043061    77.610191  13.042920  77.611275  0.118468\n",
              "3      13.042920    77.611275  13.042670  77.612312  0.115723\n",
              "4      13.042670    77.612312  13.042445  77.613235  0.103068\n",
              "5      13.042445    77.613235  13.042300  77.613518  0.034638\n",
              "...          ...          ...        ...        ...       ...\n",
              "3441   12.916583    77.572472  12.916560  77.572182  0.031534\n",
              "3442   12.916560    77.572182  12.916540  77.572044  0.015121\n",
              "3443   12.916540    77.572044  12.916533  77.571754  0.031440\n",
              "3444   12.916533    77.571754  12.916572  77.571442  0.034092\n",
              "3445   12.916572    77.571442  12.916570  77.571236  0.022328\n",
              "\n",
              "[329871 rows x 5 columns]"
            ],
            "text/html": [
              "\n",
              "  <div id=\"df-437120ad-4bf6-4771-b263-ad69a4d3df60\">\n",
              "    <div class=\"colab-df-container\">\n",
              "      <div>\n",
              "<style scoped>\n",
              "    .dataframe tbody tr th:only-of-type {\n",
              "        vertical-align: middle;\n",
              "    }\n",
              "\n",
              "    .dataframe tbody tr th {\n",
              "        vertical-align: top;\n",
              "    }\n",
              "\n",
              "    .dataframe thead th {\n",
              "        text-align: right;\n",
              "    }\n",
              "</style>\n",
              "<table border=\"1\" class=\"dataframe\">\n",
              "  <thead>\n",
              "    <tr style=\"text-align: right;\">\n",
              "      <th></th>\n",
              "      <th>Source_Lat</th>\n",
              "      <th>Source_Long</th>\n",
              "      <th>Dest_Lat</th>\n",
              "      <th>Dest_Long</th>\n",
              "      <th>Distance</th>\n",
              "    </tr>\n",
              "  </thead>\n",
              "  <tbody>\n",
              "    <tr>\n",
              "      <th>1</th>\n",
              "      <td>13.043344</td>\n",
              "      <td>77.609070</td>\n",
              "      <td>13.043061</td>\n",
              "      <td>77.610191</td>\n",
              "      <td>0.125445</td>\n",
              "    </tr>\n",
              "    <tr>\n",
              "      <th>2</th>\n",
              "      <td>13.043061</td>\n",
              "      <td>77.610191</td>\n",
              "      <td>13.042920</td>\n",
              "      <td>77.611275</td>\n",
              "      <td>0.118468</td>\n",
              "    </tr>\n",
              "    <tr>\n",
              "      <th>3</th>\n",
              "      <td>13.042920</td>\n",
              "      <td>77.611275</td>\n",
              "      <td>13.042670</td>\n",
              "      <td>77.612312</td>\n",
              "      <td>0.115723</td>\n",
              "    </tr>\n",
              "    <tr>\n",
              "      <th>4</th>\n",
              "      <td>13.042670</td>\n",
              "      <td>77.612312</td>\n",
              "      <td>13.042445</td>\n",
              "      <td>77.613235</td>\n",
              "      <td>0.103068</td>\n",
              "    </tr>\n",
              "    <tr>\n",
              "      <th>5</th>\n",
              "      <td>13.042445</td>\n",
              "      <td>77.613235</td>\n",
              "      <td>13.042300</td>\n",
              "      <td>77.613518</td>\n",
              "      <td>0.034638</td>\n",
              "    </tr>\n",
              "    <tr>\n",
              "      <th>...</th>\n",
              "      <td>...</td>\n",
              "      <td>...</td>\n",
              "      <td>...</td>\n",
              "      <td>...</td>\n",
              "      <td>...</td>\n",
              "    </tr>\n",
              "    <tr>\n",
              "      <th>3441</th>\n",
              "      <td>12.916583</td>\n",
              "      <td>77.572472</td>\n",
              "      <td>12.916560</td>\n",
              "      <td>77.572182</td>\n",
              "      <td>0.031534</td>\n",
              "    </tr>\n",
              "    <tr>\n",
              "      <th>3442</th>\n",
              "      <td>12.916560</td>\n",
              "      <td>77.572182</td>\n",
              "      <td>12.916540</td>\n",
              "      <td>77.572044</td>\n",
              "      <td>0.015121</td>\n",
              "    </tr>\n",
              "    <tr>\n",
              "      <th>3443</th>\n",
              "      <td>12.916540</td>\n",
              "      <td>77.572044</td>\n",
              "      <td>12.916533</td>\n",
              "      <td>77.571754</td>\n",
              "      <td>0.031440</td>\n",
              "    </tr>\n",
              "    <tr>\n",
              "      <th>3444</th>\n",
              "      <td>12.916533</td>\n",
              "      <td>77.571754</td>\n",
              "      <td>12.916572</td>\n",
              "      <td>77.571442</td>\n",
              "      <td>0.034092</td>\n",
              "    </tr>\n",
              "    <tr>\n",
              "      <th>3445</th>\n",
              "      <td>12.916572</td>\n",
              "      <td>77.571442</td>\n",
              "      <td>12.916570</td>\n",
              "      <td>77.571236</td>\n",
              "      <td>0.022328</td>\n",
              "    </tr>\n",
              "  </tbody>\n",
              "</table>\n",
              "<p>329871 rows × 5 columns</p>\n",
              "</div>\n",
              "      <button class=\"colab-df-convert\" onclick=\"convertToInteractive('df-437120ad-4bf6-4771-b263-ad69a4d3df60')\"\n",
              "              title=\"Convert this dataframe to an interactive table.\"\n",
              "              style=\"display:none;\">\n",
              "        \n",
              "  <svg xmlns=\"http://www.w3.org/2000/svg\" height=\"24px\"viewBox=\"0 0 24 24\"\n",
              "       width=\"24px\">\n",
              "    <path d=\"M0 0h24v24H0V0z\" fill=\"none\"/>\n",
              "    <path d=\"M18.56 5.44l.94 2.06.94-2.06 2.06-.94-2.06-.94-.94-2.06-.94 2.06-2.06.94zm-11 1L8.5 8.5l.94-2.06 2.06-.94-2.06-.94L8.5 2.5l-.94 2.06-2.06.94zm10 10l.94 2.06.94-2.06 2.06-.94-2.06-.94-.94-2.06-.94 2.06-2.06.94z\"/><path d=\"M17.41 7.96l-1.37-1.37c-.4-.4-.92-.59-1.43-.59-.52 0-1.04.2-1.43.59L10.3 9.45l-7.72 7.72c-.78.78-.78 2.05 0 2.83L4 21.41c.39.39.9.59 1.41.59.51 0 1.02-.2 1.41-.59l7.78-7.78 2.81-2.81c.8-.78.8-2.07 0-2.86zM5.41 20L4 18.59l7.72-7.72 1.47 1.35L5.41 20z\"/>\n",
              "  </svg>\n",
              "      </button>\n",
              "      \n",
              "  <style>\n",
              "    .colab-df-container {\n",
              "      display:flex;\n",
              "      flex-wrap:wrap;\n",
              "      gap: 12px;\n",
              "    }\n",
              "\n",
              "    .colab-df-convert {\n",
              "      background-color: #E8F0FE;\n",
              "      border: none;\n",
              "      border-radius: 50%;\n",
              "      cursor: pointer;\n",
              "      display: none;\n",
              "      fill: #1967D2;\n",
              "      height: 32px;\n",
              "      padding: 0 0 0 0;\n",
              "      width: 32px;\n",
              "    }\n",
              "\n",
              "    .colab-df-convert:hover {\n",
              "      background-color: #E2EBFA;\n",
              "      box-shadow: 0px 1px 2px rgba(60, 64, 67, 0.3), 0px 1px 3px 1px rgba(60, 64, 67, 0.15);\n",
              "      fill: #174EA6;\n",
              "    }\n",
              "\n",
              "    [theme=dark] .colab-df-convert {\n",
              "      background-color: #3B4455;\n",
              "      fill: #D2E3FC;\n",
              "    }\n",
              "\n",
              "    [theme=dark] .colab-df-convert:hover {\n",
              "      background-color: #434B5C;\n",
              "      box-shadow: 0px 1px 3px 1px rgba(0, 0, 0, 0.15);\n",
              "      filter: drop-shadow(0px 1px 2px rgba(0, 0, 0, 0.3));\n",
              "      fill: #FFFFFF;\n",
              "    }\n",
              "  </style>\n",
              "\n",
              "      <script>\n",
              "        const buttonEl =\n",
              "          document.querySelector('#df-437120ad-4bf6-4771-b263-ad69a4d3df60 button.colab-df-convert');\n",
              "        buttonEl.style.display =\n",
              "          google.colab.kernel.accessAllowed ? 'block' : 'none';\n",
              "\n",
              "        async function convertToInteractive(key) {\n",
              "          const element = document.querySelector('#df-437120ad-4bf6-4771-b263-ad69a4d3df60');\n",
              "          const dataTable =\n",
              "            await google.colab.kernel.invokeFunction('convertToInteractive',\n",
              "                                                     [key], {});\n",
              "          if (!dataTable) return;\n",
              "\n",
              "          const docLinkHtml = 'Like what you see? Visit the ' +\n",
              "            '<a target=\"_blank\" href=https://colab.research.google.com/notebooks/data_table.ipynb>data table notebook</a>'\n",
              "            + ' to learn more about interactive tables.';\n",
              "          element.innerHTML = '';\n",
              "          dataTable['output_type'] = 'display_data';\n",
              "          await google.colab.output.renderOutput(dataTable, element);\n",
              "          const docLink = document.createElement('div');\n",
              "          docLink.innerHTML = docLinkHtml;\n",
              "          element.appendChild(docLink);\n",
              "        }\n",
              "      </script>\n",
              "    </div>\n",
              "  </div>\n",
              "  "
            ]
          },
          "metadata": {},
          "execution_count": 93
        }
      ]
    },
    {
      "cell_type": "code",
      "source": [
        "y_train=d6['Duration']  #creating target variable"
      ],
      "metadata": {
        "id": "dQReycKthpNU"
      },
      "execution_count": null,
      "outputs": []
    },
    {
      "cell_type": "code",
      "source": [
        "y_train"
      ],
      "metadata": {
        "id": "N2SekVU_hwQ1",
        "colab": {
          "base_uri": "https://localhost:8080/"
        },
        "outputId": "f43c7908-fe50-4e0f-f6a2-7fec6a585447"
      },
      "execution_count": null,
      "outputs": [
        {
          "output_type": "execute_result",
          "data": {
            "text/plain": [
              "1       0.166667\n",
              "2       0.166667\n",
              "3       0.166667\n",
              "4       0.166667\n",
              "5       0.166667\n",
              "          ...   \n",
              "3441    0.166667\n",
              "3442    0.166667\n",
              "3443    0.166667\n",
              "3444    0.166667\n",
              "3445    0.166667\n",
              "Name: Duration, Length: 329871, dtype: float64"
            ]
          },
          "metadata": {},
          "execution_count": 95
        }
      ]
    },
    {
      "cell_type": "code",
      "source": [
        "d6.to_parquet('data.parquet.gzip',engine='pyarrow',compression='gzip')"
      ],
      "metadata": {
        "id": "qZtnup0ppSav"
      },
      "execution_count": null,
      "outputs": []
    },
    {
      "cell_type": "code",
      "source": [
        "# d6[d6['Duration']>=720]\n",
        "# len(d6[d6['Distance']>=30])\n",
        "out = pd.cut(d6['Distance'], bins=[-0.1, 0, 0.05, 0.1, 0.2, 0.4, 1, 2, 5, 10, 20, 40, 50], include_lowest=True)\n",
        "out1 = pd.cut(d6['Duration'], bins=[-0.1, 0, 0.1, 0.5, 1, 4, 10, 20, 50, 90, 180, 300, 500, 800, 1200, 1500], include_lowest=True)\n",
        "out1.value_counts()"
      ],
      "metadata": {
        "colab": {
          "base_uri": "https://localhost:8080/"
        },
        "id": "cdjoOxjtnPLA",
        "outputId": "c5ac3657-66a0-4cb7-a4ee-3016d7e3dcd7"
      },
      "execution_count": null,
      "outputs": [
        {
          "output_type": "execute_result",
          "data": {
            "text/plain": [
              "(0.1, 0.5]          325600\n",
              "(0.5, 1.0]            1565\n",
              "(0.0, 0.1]            1474\n",
              "(10.0, 20.0]           665\n",
              "(1.0, 4.0]             368\n",
              "(20.0, 50.0]           128\n",
              "(4.0, 10.0]             29\n",
              "(-0.101, 0.0]           23\n",
              "(50.0, 90.0]            14\n",
              "(180.0, 300.0]           3\n",
              "(90.0, 180.0]            1\n",
              "(300.0, 500.0]           1\n",
              "(500.0, 800.0]           0\n",
              "(800.0, 1200.0]          0\n",
              "(1200.0, 1500.0]         0\n",
              "Name: Duration, dtype: int64"
            ]
          },
          "metadata": {},
          "execution_count": 98
        }
      ]
    },
    {
      "cell_type": "code",
      "source": [
        "out.value_counts()"
      ],
      "metadata": {
        "colab": {
          "base_uri": "https://localhost:8080/"
        },
        "id": "hGhWvu_rc3wr",
        "outputId": "ea9aa0d9-1209-4884-cb46-304be6ecccb3"
      },
      "execution_count": null,
      "outputs": [
        {
          "output_type": "execute_result",
          "data": {
            "text/plain": [
              "(-0.101, 0.0]    128304\n",
              "(0.0, 0.05]      113786\n",
              "(0.05, 0.1]       50896\n",
              "(0.1, 0.2]        34734\n",
              "(0.2, 0.4]         1086\n",
              "(0.4, 1.0]          558\n",
              "(2.0, 5.0]          259\n",
              "(1.0, 2.0]          134\n",
              "(5.0, 10.0]         114\n",
              "(10.0, 20.0]          0\n",
              "(20.0, 40.0]          0\n",
              "(40.0, 50.0]          0\n",
              "Name: Distance, dtype: int64"
            ]
          },
          "metadata": {},
          "execution_count": 99
        }
      ]
    },
    {
      "cell_type": "code",
      "source": [
        "test_df=dfInput\n",
        "\n",
        "distance1=haversine(test_df['Dest_Long'],test_df['Dest_Lat'],test_df['Source_Long'],test_df['Source_Lat'])\n",
        "\n",
        "test_df['Distance']=distance1         #creating distance attribute in testing csv\n",
        "\n",
        "# test_df.drop(\"Unnamed: 0\",axis=1,inplace=True) #dropping extra column from testing csv\n",
        "print(test_df.columns)\n",
        "\n",
        "X_test=test_df"
      ],
      "metadata": {
        "id": "okHKSY61hzhB",
        "colab": {
          "base_uri": "https://localhost:8080/"
        },
        "outputId": "894fefc5-6dab-4765-b653-684733cc9e93"
      },
      "execution_count": null,
      "outputs": [
        {
          "output_type": "stream",
          "name": "stdout",
          "text": [
            "Index(['Source_Lat', 'Source_Long', 'Dest_Lat', 'Dest_Long', 'Distance'], dtype='object')\n"
          ]
        }
      ]
    },
    {
      "cell_type": "code",
      "source": [
        "X_test.replace([np.inf, -np.inf], np.nan, inplace=True) #replacing very large values with Nan\n"
      ],
      "metadata": {
        "id": "FnQwO1S-mOIZ"
      },
      "execution_count": null,
      "outputs": []
    },
    {
      "cell_type": "code",
      "source": [
        "#checking for Nan value of distance in testing csv\n",
        "X = X_test['Distance'].isna()\n",
        "c=0\n",
        "for i in X:\n",
        "  if i :\n",
        "    print(X_test[c])\n",
        "  c+=1\n",
        "print(c)\n"
      ],
      "metadata": {
        "id": "hHPBexvJkF-x",
        "colab": {
          "base_uri": "https://localhost:8080/"
        },
        "outputId": "8710fb83-2bda-4e4a-e8d8-b0b55f4d1070"
      },
      "execution_count": null,
      "outputs": [
        {
          "output_type": "stream",
          "name": "stdout",
          "text": [
            "1205\n"
          ]
        }
      ]
    },
    {
      "cell_type": "code",
      "source": [
        "y_test=dfGroundTruth\n",
        "print(y_test.columns)\n",
        "# y_test.drop(\"Unnamed: 0\",axis=1,inplace=True)"
      ],
      "metadata": {
        "id": "LMH36o2Hh5p6",
        "colab": {
          "base_uri": "https://localhost:8080/"
        },
        "outputId": "2e28d4c8-4246-477b-f415-ab18ccd79f72"
      },
      "execution_count": null,
      "outputs": [
        {
          "output_type": "stream",
          "name": "stdout",
          "text": [
            "Index(['Unnamed: 0', 'TT'], dtype='object')\n"
          ]
        }
      ]
    },
    {
      "cell_type": "code",
      "source": [
        "y_test=y_test['TT']\n",
        "# X_test.drop('TT',axis=1)"
      ],
      "metadata": {
        "id": "SwTAYcHQsikf"
      },
      "execution_count": null,
      "outputs": []
    },
    {
      "cell_type": "code",
      "source": [
        "test=pd.concat([X_test,y_test], axis=1)  \n",
        "# X_test.dropna(how='any', inplace=True) #dropping  rows containing Nan values from dataset"
      ],
      "metadata": {
        "id": "i41q2dXVryqX"
      },
      "execution_count": null,
      "outputs": []
    },
    {
      "cell_type": "markdown",
      "source": [
        "# Linear Regression Model"
      ],
      "metadata": {
        "id": "5wFNDfnX_rFF"
      }
    },
    {
      "cell_type": "code",
      "source": [
        "reg_model=LinearRegression() \n",
        "reg_model.fit(X_train, y_train)"
      ],
      "metadata": {
        "id": "w3JqnOv2jJ9o",
        "colab": {
          "base_uri": "https://localhost:8080/"
        },
        "outputId": "8c9bd247-ff21-49be-9651-c005761090db"
      },
      "execution_count": null,
      "outputs": [
        {
          "output_type": "execute_result",
          "data": {
            "text/plain": [
              "LinearRegression()"
            ]
          },
          "metadata": {},
          "execution_count": 100
        }
      ]
    },
    {
      "cell_type": "code",
      "source": [
        "test = test[(test['Source_Lat']>12.95)&(test['Source_Lat']<=13.00)&(test['Source_Long']>77.55)&(test['Source_Long']<=77.60)]"
      ],
      "metadata": {
        "id": "nrGnUG69HiLB"
      },
      "execution_count": null,
      "outputs": []
    },
    {
      "cell_type": "code",
      "source": [
        "test.columns"
      ],
      "metadata": {
        "id": "gguATuwDpIJT",
        "colab": {
          "base_uri": "https://localhost:8080/"
        },
        "outputId": "0760ddfc-efe3-4272-9118-db45d641f25f"
      },
      "execution_count": null,
      "outputs": [
        {
          "output_type": "execute_result",
          "data": {
            "text/plain": [
              "Index(['Source_Lat', 'Source_Long', 'Dest_Lat', 'Dest_Long', 'Distance', 'TT'], dtype='object')"
            ]
          },
          "metadata": {},
          "execution_count": 119
        }
      ]
    },
    {
      "cell_type": "code",
      "source": [
        "y_test=test['TT']"
      ],
      "metadata": {
        "id": "jx0tmfiQph-j"
      },
      "execution_count": null,
      "outputs": []
    },
    {
      "cell_type": "code",
      "source": [
        "test.drop(\"TT\",axis=1,inplace=True)"
      ],
      "metadata": {
        "id": "BVQAa2eHpoOM"
      },
      "execution_count": null,
      "outputs": []
    },
    {
      "cell_type": "code",
      "source": [
        "print(reg_model.score(test, y_test))"
      ],
      "metadata": {
        "id": "qjAkZzwojYn2",
        "colab": {
          "base_uri": "https://localhost:8080/"
        },
        "outputId": "1019d0d0-d39f-47e5-fb4a-9fea41e8e57c"
      },
      "execution_count": null,
      "outputs": [
        {
          "output_type": "stream",
          "name": "stdout",
          "text": [
            "0.48984796937147557\n"
          ]
        }
      ]
    },
    {
      "cell_type": "markdown",
      "source": [],
      "metadata": {
        "id": "xuBNPj_4XZK1"
      }
    },
    {
      "cell_type": "markdown",
      "source": [
        "# Random Forest Model"
      ],
      "metadata": {
        "id": "q3iQL14-_QaM"
      }
    },
    {
      "cell_type": "code",
      "source": [
        "Xtrain,Xtest,ytrain,ytest = train_test_split(X_train,y_train, train_size = 0.006, random_state=42) "
      ],
      "metadata": {
        "id": "iQLhY64I6bck"
      },
      "execution_count": null,
      "outputs": []
    },
    {
      "cell_type": "markdown",
      "source": [],
      "metadata": {
        "id": "D_r30HPb8YEv"
      }
    },
    {
      "cell_type": "code",
      "source": [
        "forest_model = RandomForestRegressor(random_state=1,oob_score=True,)\n",
        "forest_model.fit(Xtrain,ytrain)\n",
        "#print(\"yes\")"
      ],
      "metadata": {
        "id": "rFp612Om-PUt",
        "colab": {
          "base_uri": "https://localhost:8080/"
        },
        "outputId": "91783210-a4a1-4e54-fbe4-247a6c6cafe2"
      },
      "execution_count": null,
      "outputs": [
        {
          "output_type": "execute_result",
          "data": {
            "text/plain": [
              "RandomForestRegressor(oob_score=True, random_state=1)"
            ]
          },
          "metadata": {},
          "execution_count": 193
        }
      ]
    },
    {
      "cell_type": "code",
      "source": [
        "pred = forest_model.predict(X_test)\n",
        "print(\"Mean absolute error obtained is:\",mean_absolute_error(y_test, pred))"
      ],
      "metadata": {
        "id": "9SWboOXP32nq",
        "colab": {
          "base_uri": "https://localhost:8080/"
        },
        "outputId": "e834f3a9-7f8e-4b34-c18e-0bcf3e4be3f4"
      },
      "execution_count": null,
      "outputs": [
        {
          "output_type": "stream",
          "name": "stdout",
          "text": [
            "Mean absolute error obtained is: 136.21600995850625\n"
          ]
        }
      ]
    },
    {
      "cell_type": "code",
      "source": [
        "#dfInput['ETT']=pred"
      ],
      "metadata": {
        "id": "Ka2U-kZoTZMP"
      },
      "execution_count": null,
      "outputs": []
    },
    {
      "cell_type": "code",
      "source": [
        "#dfInput"
      ],
      "metadata": {
        "id": "C-cGeI22sgLY"
      },
      "execution_count": null,
      "outputs": []
    },
    {
      "cell_type": "code",
      "source": [
        "dfGroundTruth"
      ],
      "metadata": {
        "id": "CK9Vhkwuq69h",
        "colab": {
          "base_uri": "https://localhost:8080/",
          "height": 424
        },
        "outputId": "e2ee963f-2c3d-46b6-a353-d344bc156b4b"
      },
      "execution_count": null,
      "outputs": [
        {
          "output_type": "execute_result",
          "data": {
            "text/plain": [
              "      Unnamed: 0         TT\n",
              "0              0   2.833333\n",
              "1              1   1.500000\n",
              "2              2  21.250000\n",
              "3              3   2.000000\n",
              "4              4  35.733333\n",
              "...          ...        ...\n",
              "1200        1200  27.233333\n",
              "1201        1201  26.750000\n",
              "1202        1202  53.600000\n",
              "1203        1203  59.616667\n",
              "1204        1204  59.816667\n",
              "\n",
              "[1205 rows x 2 columns]"
            ],
            "text/html": [
              "\n",
              "  <div id=\"df-a576199d-ddc2-433d-9763-6ea9e5c41b6c\">\n",
              "    <div class=\"colab-df-container\">\n",
              "      <div>\n",
              "<style scoped>\n",
              "    .dataframe tbody tr th:only-of-type {\n",
              "        vertical-align: middle;\n",
              "    }\n",
              "\n",
              "    .dataframe tbody tr th {\n",
              "        vertical-align: top;\n",
              "    }\n",
              "\n",
              "    .dataframe thead th {\n",
              "        text-align: right;\n",
              "    }\n",
              "</style>\n",
              "<table border=\"1\" class=\"dataframe\">\n",
              "  <thead>\n",
              "    <tr style=\"text-align: right;\">\n",
              "      <th></th>\n",
              "      <th>Unnamed: 0</th>\n",
              "      <th>TT</th>\n",
              "    </tr>\n",
              "  </thead>\n",
              "  <tbody>\n",
              "    <tr>\n",
              "      <th>0</th>\n",
              "      <td>0</td>\n",
              "      <td>2.833333</td>\n",
              "    </tr>\n",
              "    <tr>\n",
              "      <th>1</th>\n",
              "      <td>1</td>\n",
              "      <td>1.500000</td>\n",
              "    </tr>\n",
              "    <tr>\n",
              "      <th>2</th>\n",
              "      <td>2</td>\n",
              "      <td>21.250000</td>\n",
              "    </tr>\n",
              "    <tr>\n",
              "      <th>3</th>\n",
              "      <td>3</td>\n",
              "      <td>2.000000</td>\n",
              "    </tr>\n",
              "    <tr>\n",
              "      <th>4</th>\n",
              "      <td>4</td>\n",
              "      <td>35.733333</td>\n",
              "    </tr>\n",
              "    <tr>\n",
              "      <th>...</th>\n",
              "      <td>...</td>\n",
              "      <td>...</td>\n",
              "    </tr>\n",
              "    <tr>\n",
              "      <th>1200</th>\n",
              "      <td>1200</td>\n",
              "      <td>27.233333</td>\n",
              "    </tr>\n",
              "    <tr>\n",
              "      <th>1201</th>\n",
              "      <td>1201</td>\n",
              "      <td>26.750000</td>\n",
              "    </tr>\n",
              "    <tr>\n",
              "      <th>1202</th>\n",
              "      <td>1202</td>\n",
              "      <td>53.600000</td>\n",
              "    </tr>\n",
              "    <tr>\n",
              "      <th>1203</th>\n",
              "      <td>1203</td>\n",
              "      <td>59.616667</td>\n",
              "    </tr>\n",
              "    <tr>\n",
              "      <th>1204</th>\n",
              "      <td>1204</td>\n",
              "      <td>59.816667</td>\n",
              "    </tr>\n",
              "  </tbody>\n",
              "</table>\n",
              "<p>1205 rows × 2 columns</p>\n",
              "</div>\n",
              "      <button class=\"colab-df-convert\" onclick=\"convertToInteractive('df-a576199d-ddc2-433d-9763-6ea9e5c41b6c')\"\n",
              "              title=\"Convert this dataframe to an interactive table.\"\n",
              "              style=\"display:none;\">\n",
              "        \n",
              "  <svg xmlns=\"http://www.w3.org/2000/svg\" height=\"24px\"viewBox=\"0 0 24 24\"\n",
              "       width=\"24px\">\n",
              "    <path d=\"M0 0h24v24H0V0z\" fill=\"none\"/>\n",
              "    <path d=\"M18.56 5.44l.94 2.06.94-2.06 2.06-.94-2.06-.94-.94-2.06-.94 2.06-2.06.94zm-11 1L8.5 8.5l.94-2.06 2.06-.94-2.06-.94L8.5 2.5l-.94 2.06-2.06.94zm10 10l.94 2.06.94-2.06 2.06-.94-2.06-.94-.94-2.06-.94 2.06-2.06.94z\"/><path d=\"M17.41 7.96l-1.37-1.37c-.4-.4-.92-.59-1.43-.59-.52 0-1.04.2-1.43.59L10.3 9.45l-7.72 7.72c-.78.78-.78 2.05 0 2.83L4 21.41c.39.39.9.59 1.41.59.51 0 1.02-.2 1.41-.59l7.78-7.78 2.81-2.81c.8-.78.8-2.07 0-2.86zM5.41 20L4 18.59l7.72-7.72 1.47 1.35L5.41 20z\"/>\n",
              "  </svg>\n",
              "      </button>\n",
              "      \n",
              "  <style>\n",
              "    .colab-df-container {\n",
              "      display:flex;\n",
              "      flex-wrap:wrap;\n",
              "      gap: 12px;\n",
              "    }\n",
              "\n",
              "    .colab-df-convert {\n",
              "      background-color: #E8F0FE;\n",
              "      border: none;\n",
              "      border-radius: 50%;\n",
              "      cursor: pointer;\n",
              "      display: none;\n",
              "      fill: #1967D2;\n",
              "      height: 32px;\n",
              "      padding: 0 0 0 0;\n",
              "      width: 32px;\n",
              "    }\n",
              "\n",
              "    .colab-df-convert:hover {\n",
              "      background-color: #E2EBFA;\n",
              "      box-shadow: 0px 1px 2px rgba(60, 64, 67, 0.3), 0px 1px 3px 1px rgba(60, 64, 67, 0.15);\n",
              "      fill: #174EA6;\n",
              "    }\n",
              "\n",
              "    [theme=dark] .colab-df-convert {\n",
              "      background-color: #3B4455;\n",
              "      fill: #D2E3FC;\n",
              "    }\n",
              "\n",
              "    [theme=dark] .colab-df-convert:hover {\n",
              "      background-color: #434B5C;\n",
              "      box-shadow: 0px 1px 3px 1px rgba(0, 0, 0, 0.15);\n",
              "      filter: drop-shadow(0px 1px 2px rgba(0, 0, 0, 0.3));\n",
              "      fill: #FFFFFF;\n",
              "    }\n",
              "  </style>\n",
              "\n",
              "      <script>\n",
              "        const buttonEl =\n",
              "          document.querySelector('#df-a576199d-ddc2-433d-9763-6ea9e5c41b6c button.colab-df-convert');\n",
              "        buttonEl.style.display =\n",
              "          google.colab.kernel.accessAllowed ? 'block' : 'none';\n",
              "\n",
              "        async function convertToInteractive(key) {\n",
              "          const element = document.querySelector('#df-a576199d-ddc2-433d-9763-6ea9e5c41b6c');\n",
              "          const dataTable =\n",
              "            await google.colab.kernel.invokeFunction('convertToInteractive',\n",
              "                                                     [key], {});\n",
              "          if (!dataTable) return;\n",
              "\n",
              "          const docLinkHtml = 'Like what you see? Visit the ' +\n",
              "            '<a target=\"_blank\" href=https://colab.research.google.com/notebooks/data_table.ipynb>data table notebook</a>'\n",
              "            + ' to learn more about interactive tables.';\n",
              "          element.innerHTML = '';\n",
              "          dataTable['output_type'] = 'display_data';\n",
              "          await google.colab.output.renderOutput(dataTable, element);\n",
              "          const docLink = document.createElement('div');\n",
              "          docLink.innerHTML = docLinkHtml;\n",
              "          element.appendChild(docLink);\n",
              "        }\n",
              "      </script>\n",
              "    </div>\n",
              "  </div>\n",
              "  "
            ]
          },
          "metadata": {},
          "execution_count": 197
        }
      ]
    },
    {
      "cell_type": "markdown",
      "source": [
        "# For Evaluation\n",
        "function for evauation\n",
        "  2. Function arguments:\n",
        "    \n",
        "    a. df: It is a pandas dataframe that contains the data from BMTC.parquet.gzip\n",
        "   \n",
        "    b. dfInput: It is a pandas dataframe that contains the input from Input.csv\n",
        "\n",
        "3. Returns:\n",
        "\n",
        "    a. dfOutput: It is a pandas dataframe that contains the output\n"
      ],
      "metadata": {
        "id": "XLzoz2WNtPZ9"
      }
    },
    {
      "cell_type": "code",
      "source": [
        "def EstimatedTravelTime(df, dfInput): # The output of this function will be evaluated\n",
        "    # Function body - Begins\n",
        "    # Make changes here.  \n",
        "                              \n",
        "    dfOutput = pd.DataFrame()\n",
        "\n",
        "\n",
        "    # Function body - Ends\n",
        "    return dfOutput"
      ],
      "metadata": {
        "id": "P09_kbGatHJL"
      },
      "execution_count": null,
      "outputs": []
    },
    {
      "cell_type": "code",
      "source": [
        "dfOutput = EstimatedTravelTime(df, dfInput)"
      ],
      "metadata": {
        "id": "ZEPtfj5StN9r"
      },
      "execution_count": null,
      "outputs": []
    },
    {
      "cell_type": "markdown",
      "source": [
        "# AutoML"
      ],
      "metadata": {
        "id": "F9fe63zYZktT"
      }
    },
    {
      "cell_type": "code",
      "source": [
        "#!apt install -y build-essential swig curl"
      ],
      "metadata": {
        "id": "9kBXiS9BadRm"
      },
      "execution_count": null,
      "outputs": []
    },
    {
      "cell_type": "code",
      "source": [
        "# !pip install auto-sklearn"
      ],
      "metadata": {
        "id": "JwqK6AXU2DHN"
      },
      "execution_count": null,
      "outputs": []
    },
    {
      "cell_type": "code",
      "source": [
        "# Install packages\n",
        "# !curl https://raw.githubusercontent.com/automl/auto-sklearn/master/requirements.txt | xargs -n 1 -L 1 pip install\n",
        "# !pip install auto-sklearn"
      ],
      "metadata": {
        "id": "6hgd3gZTF9e5"
      },
      "execution_count": null,
      "outputs": []
    },
    {
      "cell_type": "code",
      "source": [
        "# from autosklearn.regression import AutoSklearnRegressor\n",
        "# # Create the AutoSklearnRegessor\n",
        "# sklearn = AutoSklearnRegressor(time_left_for_this_task=360,per_run_time_limit=30,memory_limit=5000,n_jobs=-1)\n",
        "# # Fit the training data\n",
        "# sklearn.fit(Xtrain, ytrain)\n",
        "# # Sprint Statistics\n",
        "# print(sklearn.sprint_statistics())\n",
        "# # Predict the validation data\n",
        "# pred_sklearn = sklearn.predict(X_test)\n",
        "# # Compute the RMSE\n",
        "# rmse_sklearn=MSE(y_test, pred_sklearn)**0.5\n",
        "# print('RMSE: ' + str(rmse_sklearn))"
      ],
      "metadata": {
        "id": "aw8BukKZ3jZ3"
      },
      "execution_count": null,
      "outputs": []
    },
    {
      "cell_type": "code",
      "source": [
        "# sklearn.get_models_with_weights()"
      ],
      "metadata": {
        "id": "zi6Oc-z097qN"
      },
      "execution_count": null,
      "outputs": []
    },
    {
      "cell_type": "code",
      "source": [
        "# sklearn.leaderboard()"
      ],
      "metadata": {
        "id": "V4LpP7Dw-IJL"
      },
      "execution_count": null,
      "outputs": []
    },
    {
      "cell_type": "code",
      "source": [
        "# from autosklearn.regression import AutoSklearnRegressor\n",
        "# # Create the AutoSklearnRegessor\n",
        "# sklearn = AutoSklearnRegressor(time_left_for_this_task=360,per_run_time_limit=45,memory_limit=5500,n_jobs=-1)\n",
        "# # Fit the training data\n",
        "# sklearn.fit(Xtrain, ytrain)\n",
        "# # Sprint Statistics\n",
        "# print(sklearn.sprint_statistics())\n",
        "# # Predict the validation data\n",
        "# pred_sklearn = sklearn.predict(X_test)\n",
        "# # Compute the RMSE\n",
        "# rmse_sklearn=MSE(y_test, pred_sklearn)**0.5\n",
        "# print('RMSE: ' + str(rmse_sklearn))"
      ],
      "metadata": {
        "id": "kaOkbJPuqD-O"
      },
      "execution_count": null,
      "outputs": []
    },
    {
      "cell_type": "code",
      "source": [
        "# sklearn.leaderboard()"
      ],
      "metadata": {
        "id": "g9Y-YZVW-mLp"
      },
      "execution_count": null,
      "outputs": []
    },
    {
      "cell_type": "code",
      "source": [
        "# from autosklearn.regression import AutoSklearnRegressor\n",
        "# # Create the AutoSklearnRegessor\n",
        "# sklearn = AutoSklearnRegressor(time_left_for_this_task=36000,per_run_time_limit=3600,memory_limit=5000,n_jobs=-1)\n",
        "# # Fit the training data\n",
        "# sklearn.fit(Xtrain, ytrain)\n",
        "# # Sprint Statistics\n",
        "# print(sklearn.sprint_statistics())\n",
        "# # Predict the validation data\n",
        "# pred_sklearn = sklearn.predict(X_test)\n",
        "# # Compute the RMSE\n",
        "# rmse_sklearn=MSE(y_test, pred_sklearn)**0.5\n",
        "# print('RMSE: ' + str(rmse_sklearn))"
      ],
      "metadata": {
        "id": "XcKyrGSOv7jy"
      },
      "execution_count": null,
      "outputs": []
    },
    {
      "cell_type": "code",
      "source": [
        "# import matplotlib.pyplot as plt \n",
        "# # Scatter plot true and predicted values\n",
        "# plt.scatter(pred_sklearn, y_val, alpha=0.2)\n",
        "# plt.xlabel('predicted')\n",
        "# plt.ylabel('true value')"
      ],
      "metadata": {
        "id": "SCCE6N6xlqKz"
      },
      "execution_count": null,
      "outputs": []
    }
  ]
}