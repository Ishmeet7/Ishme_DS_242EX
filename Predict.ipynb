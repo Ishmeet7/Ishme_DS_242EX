{
  "nbformat": 4,
  "nbformat_minor": 0,
  "metadata": {
    "colab": {
      "provenance": [],
      "authorship_tag": "ABX9TyNIUfdBHHUfhfd9KetN2lBh",
      "include_colab_link": true
    },
    "kernelspec": {
      "name": "python3",
      "display_name": "Python 3"
    },
    "language_info": {
      "name": "python"
    },
    "accelerator": "GPU",
    "gpuClass": "standard"
  },
  "cells": [
    {
      "cell_type": "markdown",
      "metadata": {
        "id": "view-in-github",
        "colab_type": "text"
      },
      "source": [
        "<a href=\"https://colab.research.google.com/github/Ishmeet7/Ishme_DS_242EX/blob/main/Predict.ipynb\" target=\"_parent\"><img src=\"https://colab.research.google.com/assets/colab-badge.svg\" alt=\"Open In Colab\"/></a>"
      ]
    },
    {
      "cell_type": "markdown",
      "source": [
        "# Installing and Importing packages"
      ],
      "metadata": {
        "id": "r-Oi-plL8Y1B"
      }
    },
    {
      "cell_type": "code",
      "execution_count": null,
      "metadata": {
        "id": "OicdY7e2XUA5"
      },
      "outputs": [],
      "source": [
        "import pandas as pd #importing libraries\n",
        "import numpy as np\n",
        "from numpy import radians, cos, sin, arcsin, sqrt\n",
        "from sklearn.linear_model import LinearRegression\n",
        "from sklearn.ensemble import RandomForestRegressor\n",
        "from sklearn.metrics import mean_absolute_error\n",
        "from sklearn.model_selection import train_test_split"
      ]
    },
    {
      "cell_type": "code",
      "source": [
        "from google.colab import drive   #mount drive\n",
        "drive.mount('/content/drive')"
      ],
      "metadata": {
        "colab": {
          "base_uri": "https://localhost:8080/"
        },
        "id": "qC4Q5mgWYUeF",
        "outputId": "af6c14cd-8dd2-4bd3-df1c-c7876666eed4"
      },
      "execution_count": null,
      "outputs": [
        {
          "output_type": "stream",
          "name": "stdout",
          "text": [
            "Drive already mounted at /content/drive; to attempt to forcibly remount, call drive.mount(\"/content/drive\", force_remount=True).\n"
          ]
        }
      ]
    },
    {
      "cell_type": "markdown",
      "source": [
        "# Loading data"
      ],
      "metadata": {
        "id": "HN2narI9_1Pd"
      }
    },
    {
      "cell_type": "code",
      "source": [
        "df = pd.read_parquet('/content/drive/MyDrive/Data/BMTC.parquet.gzip', engine='pyarrow') # This command loads BMTC data into a dataframe. \n",
        "                                                                      # In case of error, install pyarrow using: \n",
        "                                                                      # pip install pyarrow\n",
        "dfInput = pd.read_csv('/content/drive/MyDrive/Data/Input.csv')\n",
        "dfGroundTruth = pd.read_csv('/content/drive/MyDrive/Data/GroundTruth.csv')"
      ],
      "metadata": {
        "id": "q55fwfyJYZUB"
      },
      "execution_count": null,
      "outputs": []
    },
    {
      "cell_type": "code",
      "source": [
        "df\n"
      ],
      "metadata": {
        "colab": {
          "base_uri": "https://localhost:8080/",
          "height": 424
        },
        "id": "Z3iU7mUX6ZMZ",
        "outputId": "0420312d-f1ea-4244-db87-6d6d909b816b"
      },
      "execution_count": null,
      "outputs": [
        {
          "output_type": "execute_result",
          "data": {
            "text/plain": [
              "             BusID   Latitude  Longitude  Speed           Timestamp\n",
              "0        150212121  13.074558  77.445549    0.0 2019-08-01 07:00:02\n",
              "1        150212121  13.074558  77.445549    0.0 2019-08-01 07:00:12\n",
              "2        150212121  13.074558  77.445549    0.0 2019-08-01 07:00:22\n",
              "3        150212121  13.074558  77.445549    0.0 2019-08-01 07:00:32\n",
              "4        150212121  13.074558  77.445549    0.0 2019-08-01 07:00:42\n",
              "...            ...        ...        ...    ...                 ...\n",
              "6014941  150813395  13.097612  77.565689   30.0 2019-08-01 18:59:20\n",
              "6014942  150813395  13.097538  77.564873   34.0 2019-08-01 18:59:30\n",
              "6014943  150813395  13.097462  77.564049   38.0 2019-08-01 18:59:40\n",
              "6014944  150813395  13.097604  77.563217   21.0 2019-08-01 18:59:50\n",
              "6014945  150813395  13.097601  77.563103    0.0 2019-08-01 19:00:00\n",
              "\n",
              "[6014946 rows x 5 columns]"
            ],
            "text/html": [
              "\n",
              "  <div id=\"df-cafc5fab-274c-4a4e-9604-8824c7c9b86c\">\n",
              "    <div class=\"colab-df-container\">\n",
              "      <div>\n",
              "<style scoped>\n",
              "    .dataframe tbody tr th:only-of-type {\n",
              "        vertical-align: middle;\n",
              "    }\n",
              "\n",
              "    .dataframe tbody tr th {\n",
              "        vertical-align: top;\n",
              "    }\n",
              "\n",
              "    .dataframe thead th {\n",
              "        text-align: right;\n",
              "    }\n",
              "</style>\n",
              "<table border=\"1\" class=\"dataframe\">\n",
              "  <thead>\n",
              "    <tr style=\"text-align: right;\">\n",
              "      <th></th>\n",
              "      <th>BusID</th>\n",
              "      <th>Latitude</th>\n",
              "      <th>Longitude</th>\n",
              "      <th>Speed</th>\n",
              "      <th>Timestamp</th>\n",
              "    </tr>\n",
              "  </thead>\n",
              "  <tbody>\n",
              "    <tr>\n",
              "      <th>0</th>\n",
              "      <td>150212121</td>\n",
              "      <td>13.074558</td>\n",
              "      <td>77.445549</td>\n",
              "      <td>0.0</td>\n",
              "      <td>2019-08-01 07:00:02</td>\n",
              "    </tr>\n",
              "    <tr>\n",
              "      <th>1</th>\n",
              "      <td>150212121</td>\n",
              "      <td>13.074558</td>\n",
              "      <td>77.445549</td>\n",
              "      <td>0.0</td>\n",
              "      <td>2019-08-01 07:00:12</td>\n",
              "    </tr>\n",
              "    <tr>\n",
              "      <th>2</th>\n",
              "      <td>150212121</td>\n",
              "      <td>13.074558</td>\n",
              "      <td>77.445549</td>\n",
              "      <td>0.0</td>\n",
              "      <td>2019-08-01 07:00:22</td>\n",
              "    </tr>\n",
              "    <tr>\n",
              "      <th>3</th>\n",
              "      <td>150212121</td>\n",
              "      <td>13.074558</td>\n",
              "      <td>77.445549</td>\n",
              "      <td>0.0</td>\n",
              "      <td>2019-08-01 07:00:32</td>\n",
              "    </tr>\n",
              "    <tr>\n",
              "      <th>4</th>\n",
              "      <td>150212121</td>\n",
              "      <td>13.074558</td>\n",
              "      <td>77.445549</td>\n",
              "      <td>0.0</td>\n",
              "      <td>2019-08-01 07:00:42</td>\n",
              "    </tr>\n",
              "    <tr>\n",
              "      <th>...</th>\n",
              "      <td>...</td>\n",
              "      <td>...</td>\n",
              "      <td>...</td>\n",
              "      <td>...</td>\n",
              "      <td>...</td>\n",
              "    </tr>\n",
              "    <tr>\n",
              "      <th>6014941</th>\n",
              "      <td>150813395</td>\n",
              "      <td>13.097612</td>\n",
              "      <td>77.565689</td>\n",
              "      <td>30.0</td>\n",
              "      <td>2019-08-01 18:59:20</td>\n",
              "    </tr>\n",
              "    <tr>\n",
              "      <th>6014942</th>\n",
              "      <td>150813395</td>\n",
              "      <td>13.097538</td>\n",
              "      <td>77.564873</td>\n",
              "      <td>34.0</td>\n",
              "      <td>2019-08-01 18:59:30</td>\n",
              "    </tr>\n",
              "    <tr>\n",
              "      <th>6014943</th>\n",
              "      <td>150813395</td>\n",
              "      <td>13.097462</td>\n",
              "      <td>77.564049</td>\n",
              "      <td>38.0</td>\n",
              "      <td>2019-08-01 18:59:40</td>\n",
              "    </tr>\n",
              "    <tr>\n",
              "      <th>6014944</th>\n",
              "      <td>150813395</td>\n",
              "      <td>13.097604</td>\n",
              "      <td>77.563217</td>\n",
              "      <td>21.0</td>\n",
              "      <td>2019-08-01 18:59:50</td>\n",
              "    </tr>\n",
              "    <tr>\n",
              "      <th>6014945</th>\n",
              "      <td>150813395</td>\n",
              "      <td>13.097601</td>\n",
              "      <td>77.563103</td>\n",
              "      <td>0.0</td>\n",
              "      <td>2019-08-01 19:00:00</td>\n",
              "    </tr>\n",
              "  </tbody>\n",
              "</table>\n",
              "<p>6014946 rows × 5 columns</p>\n",
              "</div>\n",
              "      <button class=\"colab-df-convert\" onclick=\"convertToInteractive('df-cafc5fab-274c-4a4e-9604-8824c7c9b86c')\"\n",
              "              title=\"Convert this dataframe to an interactive table.\"\n",
              "              style=\"display:none;\">\n",
              "        \n",
              "  <svg xmlns=\"http://www.w3.org/2000/svg\" height=\"24px\"viewBox=\"0 0 24 24\"\n",
              "       width=\"24px\">\n",
              "    <path d=\"M0 0h24v24H0V0z\" fill=\"none\"/>\n",
              "    <path d=\"M18.56 5.44l.94 2.06.94-2.06 2.06-.94-2.06-.94-.94-2.06-.94 2.06-2.06.94zm-11 1L8.5 8.5l.94-2.06 2.06-.94-2.06-.94L8.5 2.5l-.94 2.06-2.06.94zm10 10l.94 2.06.94-2.06 2.06-.94-2.06-.94-.94-2.06-.94 2.06-2.06.94z\"/><path d=\"M17.41 7.96l-1.37-1.37c-.4-.4-.92-.59-1.43-.59-.52 0-1.04.2-1.43.59L10.3 9.45l-7.72 7.72c-.78.78-.78 2.05 0 2.83L4 21.41c.39.39.9.59 1.41.59.51 0 1.02-.2 1.41-.59l7.78-7.78 2.81-2.81c.8-.78.8-2.07 0-2.86zM5.41 20L4 18.59l7.72-7.72 1.47 1.35L5.41 20z\"/>\n",
              "  </svg>\n",
              "      </button>\n",
              "      \n",
              "  <style>\n",
              "    .colab-df-container {\n",
              "      display:flex;\n",
              "      flex-wrap:wrap;\n",
              "      gap: 12px;\n",
              "    }\n",
              "\n",
              "    .colab-df-convert {\n",
              "      background-color: #E8F0FE;\n",
              "      border: none;\n",
              "      border-radius: 50%;\n",
              "      cursor: pointer;\n",
              "      display: none;\n",
              "      fill: #1967D2;\n",
              "      height: 32px;\n",
              "      padding: 0 0 0 0;\n",
              "      width: 32px;\n",
              "    }\n",
              "\n",
              "    .colab-df-convert:hover {\n",
              "      background-color: #E2EBFA;\n",
              "      box-shadow: 0px 1px 2px rgba(60, 64, 67, 0.3), 0px 1px 3px 1px rgba(60, 64, 67, 0.15);\n",
              "      fill: #174EA6;\n",
              "    }\n",
              "\n",
              "    [theme=dark] .colab-df-convert {\n",
              "      background-color: #3B4455;\n",
              "      fill: #D2E3FC;\n",
              "    }\n",
              "\n",
              "    [theme=dark] .colab-df-convert:hover {\n",
              "      background-color: #434B5C;\n",
              "      box-shadow: 0px 1px 3px 1px rgba(0, 0, 0, 0.15);\n",
              "      filter: drop-shadow(0px 1px 2px rgba(0, 0, 0, 0.3));\n",
              "      fill: #FFFFFF;\n",
              "    }\n",
              "  </style>\n",
              "\n",
              "      <script>\n",
              "        const buttonEl =\n",
              "          document.querySelector('#df-cafc5fab-274c-4a4e-9604-8824c7c9b86c button.colab-df-convert');\n",
              "        buttonEl.style.display =\n",
              "          google.colab.kernel.accessAllowed ? 'block' : 'none';\n",
              "\n",
              "        async function convertToInteractive(key) {\n",
              "          const element = document.querySelector('#df-cafc5fab-274c-4a4e-9604-8824c7c9b86c');\n",
              "          const dataTable =\n",
              "            await google.colab.kernel.invokeFunction('convertToInteractive',\n",
              "                                                     [key], {});\n",
              "          if (!dataTable) return;\n",
              "\n",
              "          const docLinkHtml = 'Like what you see? Visit the ' +\n",
              "            '<a target=\"_blank\" href=https://colab.research.google.com/notebooks/data_table.ipynb>data table notebook</a>'\n",
              "            + ' to learn more about interactive tables.';\n",
              "          element.innerHTML = '';\n",
              "          dataTable['output_type'] = 'display_data';\n",
              "          await google.colab.output.renderOutput(dataTable, element);\n",
              "          const docLink = document.createElement('div');\n",
              "          docLink.innerHTML = docLinkHtml;\n",
              "          element.appendChild(docLink);\n",
              "        }\n",
              "      </script>\n",
              "    </div>\n",
              "  </div>\n",
              "  "
            ]
          },
          "metadata": {},
          "execution_count": 94
        }
      ]
    },
    {
      "cell_type": "markdown",
      "source": [
        "# Exploratory Data Analysis"
      ],
      "metadata": {
        "id": "fhPgwvyV_7Qc"
      }
    },
    {
      "cell_type": "code",
      "source": [
        "g1=df.groupby('BusID') #grouping data using BusID\n",
        "unique=df.BusID.unique()"
      ],
      "metadata": {
        "id": "yj96k9CKY7Az"
      },
      "execution_count": null,
      "outputs": []
    },
    {
      "cell_type": "markdown",
      "source": [
        "# Preprocessing"
      ],
      "metadata": {
        "id": "B9J5M4xI-EiH"
      }
    },
    {
      "cell_type": "code",
      "source": [
        "def pre_processing(df):\n",
        "  d1 = df.drop_duplicates(subset=['Latitude','Longitude','Speed'],keep=(\"first\"),inplace=False) #If the consecutive rows have same latitude,longitude and speed values keeping only first and last row\n",
        "  d2 = df.drop_duplicates(subset=['Latitude','Longitude','Speed'],keep=(\"last\"),inplace=False)\n",
        "  d3 = pd.concat([d1,d2.loc[set(d2.index) - set(d1.index)]])"
      ],
      "metadata": {
        "id": "r90ltSM0Zgds"
      },
      "execution_count": null,
      "outputs": []
    },
    {
      "cell_type": "markdown",
      "source": [
        "# Feature Extraction"
      ],
      "metadata": {
        "id": "EBx7ZZzW-P-O"
      }
    },
    {
      "cell_type": "code",
      "source": [
        "#calculating Haversine distance between two points on earth\n",
        "def haversine(lon1, lat1, lon2, lat2):\n",
        "    \"\"\"\n",
        "    Calculate the great circle distance between two points \n",
        "    on the earth (specified in decimal degrees)\n",
        "    \"\"\"\n",
        "\n",
        "    #Convert decimal degrees to Radians:\n",
        "    lon1 = np.radians(lon1.values)\n",
        "    lat1 = np.radians(lat1.values)\n",
        "    lon2 = np.radians(lon2.values)\n",
        "    lat2 = np.radians(lat2.values)\n",
        "\n",
        "    #Implementing Haversine Formula: \n",
        "    dlon = np.subtract(lon2, lon1)\n",
        "    dlat = np.subtract(lat2, lat1)\n",
        "\n",
        "    a = np.add(np.power(np.sin(np.divide(dlat, 2)), 2),  \n",
        "                          np.multiply(np.cos(lat1), \n",
        "                                      np.multiply(np.cos(lat2), \n",
        "                                                  np.power(np.sin(np.divide(dlon, 2)), 2))))\n",
        "    c = np.multiply(2, np.arcsin(np.sqrt(a)))\n",
        "    r = 6371\n",
        "    \n",
        "    return c*r"
      ],
      "metadata": {
        "id": "S5uGEqw_ZoEw"
      },
      "execution_count": null,
      "outputs": []
    },
    {
      "cell_type": "code",
      "source": [
        "d4=d3.loc[:,[\"Latitude\",'Longitude']]\n",
        "d7=d3.shift(1)             #creating a lag of p=1\n",
        "d5=d4.shift(periods=1, freq=None, axis=0)\n",
        "\n",
        "d5.rename(columns = {'Latitude':'Source_Lat', 'Longitude':'Source_Long'}, inplace = True) #concatenating shifted dataframe to original dataframe and renaming columns\n",
        "d4.rename(columns = {'Latitude':'Dest_Lat', 'Longitude':'Dest_Long'}, inplace = True)\n",
        "d6=pd.concat([d5,d4], axis=1)\n",
        "\n",
        "distance=haversine(d4['Dest_Long'],d4['Dest_Lat'],d5['Source_Long'],d5['Source_Lat'])\n",
        "\n",
        "time=d3['Timestamp']-d7['Timestamp'] #calculating time required to travel distance between two consecutive rows of latitude and logitude\n",
        "\n",
        "time=time.apply(lambda x: x.seconds/60)\n",
        "\n",
        "d6['Distance']=distance   #adding new columns to dataframe\n",
        "d6['Duration']=time"
      ],
      "metadata": {
        "id": "CZdW1ourypyV"
      },
      "execution_count": null,
      "outputs": []
    },
    {
      "cell_type": "code",
      "source": [
        "d6.columns"
      ],
      "metadata": {
        "colab": {
          "base_uri": "https://localhost:8080/"
        },
        "id": "itB7VvyuatlB",
        "outputId": "0a6bd3b2-6f91-4490-b221-3cd1b59b6fcc"
      },
      "execution_count": null,
      "outputs": [
        {
          "output_type": "execute_result",
          "data": {
            "text/plain": [
              "Index(['Source_Lat', 'Source_Long', 'Dest_Lat', 'Dest_Long', 'Distance',\n",
              "       'Duration'],\n",
              "      dtype='object')"
            ]
          },
          "metadata": {},
          "execution_count": 43
        }
      ]
    },
    {
      "cell_type": "code",
      "source": [
        "d6.head() #created dataframe"
      ],
      "metadata": {
        "colab": {
          "base_uri": "https://localhost:8080/",
          "height": 206
        },
        "id": "larLmW-rcGsN",
        "outputId": "82c63385-c442-4acd-bbdb-b50c8d818c83"
      },
      "execution_count": null,
      "outputs": [
        {
          "output_type": "execute_result",
          "data": {
            "text/plain": [
              "     Source_Lat  Source_Long   Dest_Lat  Dest_Long  Distance   Duration\n",
              "0           NaN          NaN  13.074558  77.445549       NaN        NaN\n",
              "152   13.074558    77.445549  13.074558  77.445549  0.000000  25.233333\n",
              "153   13.074558    77.445549  13.074113  77.445282  0.057313   0.166667\n",
              "154   13.074113    77.445282  13.074060  77.445267  0.006113   0.166667\n",
              "173   13.074060    77.445267  13.074060  77.445267  0.000000   3.150000"
            ],
            "text/html": [
              "\n",
              "  <div id=\"df-d8619fec-4522-4e92-8a35-9357382cfe23\">\n",
              "    <div class=\"colab-df-container\">\n",
              "      <div>\n",
              "<style scoped>\n",
              "    .dataframe tbody tr th:only-of-type {\n",
              "        vertical-align: middle;\n",
              "    }\n",
              "\n",
              "    .dataframe tbody tr th {\n",
              "        vertical-align: top;\n",
              "    }\n",
              "\n",
              "    .dataframe thead th {\n",
              "        text-align: right;\n",
              "    }\n",
              "</style>\n",
              "<table border=\"1\" class=\"dataframe\">\n",
              "  <thead>\n",
              "    <tr style=\"text-align: right;\">\n",
              "      <th></th>\n",
              "      <th>Source_Lat</th>\n",
              "      <th>Source_Long</th>\n",
              "      <th>Dest_Lat</th>\n",
              "      <th>Dest_Long</th>\n",
              "      <th>Distance</th>\n",
              "      <th>Duration</th>\n",
              "    </tr>\n",
              "  </thead>\n",
              "  <tbody>\n",
              "    <tr>\n",
              "      <th>0</th>\n",
              "      <td>NaN</td>\n",
              "      <td>NaN</td>\n",
              "      <td>13.074558</td>\n",
              "      <td>77.445549</td>\n",
              "      <td>NaN</td>\n",
              "      <td>NaN</td>\n",
              "    </tr>\n",
              "    <tr>\n",
              "      <th>152</th>\n",
              "      <td>13.074558</td>\n",
              "      <td>77.445549</td>\n",
              "      <td>13.074558</td>\n",
              "      <td>77.445549</td>\n",
              "      <td>0.000000</td>\n",
              "      <td>25.233333</td>\n",
              "    </tr>\n",
              "    <tr>\n",
              "      <th>153</th>\n",
              "      <td>13.074558</td>\n",
              "      <td>77.445549</td>\n",
              "      <td>13.074113</td>\n",
              "      <td>77.445282</td>\n",
              "      <td>0.057313</td>\n",
              "      <td>0.166667</td>\n",
              "    </tr>\n",
              "    <tr>\n",
              "      <th>154</th>\n",
              "      <td>13.074113</td>\n",
              "      <td>77.445282</td>\n",
              "      <td>13.074060</td>\n",
              "      <td>77.445267</td>\n",
              "      <td>0.006113</td>\n",
              "      <td>0.166667</td>\n",
              "    </tr>\n",
              "    <tr>\n",
              "      <th>173</th>\n",
              "      <td>13.074060</td>\n",
              "      <td>77.445267</td>\n",
              "      <td>13.074060</td>\n",
              "      <td>77.445267</td>\n",
              "      <td>0.000000</td>\n",
              "      <td>3.150000</td>\n",
              "    </tr>\n",
              "  </tbody>\n",
              "</table>\n",
              "</div>\n",
              "      <button class=\"colab-df-convert\" onclick=\"convertToInteractive('df-d8619fec-4522-4e92-8a35-9357382cfe23')\"\n",
              "              title=\"Convert this dataframe to an interactive table.\"\n",
              "              style=\"display:none;\">\n",
              "        \n",
              "  <svg xmlns=\"http://www.w3.org/2000/svg\" height=\"24px\"viewBox=\"0 0 24 24\"\n",
              "       width=\"24px\">\n",
              "    <path d=\"M0 0h24v24H0V0z\" fill=\"none\"/>\n",
              "    <path d=\"M18.56 5.44l.94 2.06.94-2.06 2.06-.94-2.06-.94-.94-2.06-.94 2.06-2.06.94zm-11 1L8.5 8.5l.94-2.06 2.06-.94-2.06-.94L8.5 2.5l-.94 2.06-2.06.94zm10 10l.94 2.06.94-2.06 2.06-.94-2.06-.94-.94-2.06-.94 2.06-2.06.94z\"/><path d=\"M17.41 7.96l-1.37-1.37c-.4-.4-.92-.59-1.43-.59-.52 0-1.04.2-1.43.59L10.3 9.45l-7.72 7.72c-.78.78-.78 2.05 0 2.83L4 21.41c.39.39.9.59 1.41.59.51 0 1.02-.2 1.41-.59l7.78-7.78 2.81-2.81c.8-.78.8-2.07 0-2.86zM5.41 20L4 18.59l7.72-7.72 1.47 1.35L5.41 20z\"/>\n",
              "  </svg>\n",
              "      </button>\n",
              "      \n",
              "  <style>\n",
              "    .colab-df-container {\n",
              "      display:flex;\n",
              "      flex-wrap:wrap;\n",
              "      gap: 12px;\n",
              "    }\n",
              "\n",
              "    .colab-df-convert {\n",
              "      background-color: #E8F0FE;\n",
              "      border: none;\n",
              "      border-radius: 50%;\n",
              "      cursor: pointer;\n",
              "      display: none;\n",
              "      fill: #1967D2;\n",
              "      height: 32px;\n",
              "      padding: 0 0 0 0;\n",
              "      width: 32px;\n",
              "    }\n",
              "\n",
              "    .colab-df-convert:hover {\n",
              "      background-color: #E2EBFA;\n",
              "      box-shadow: 0px 1px 2px rgba(60, 64, 67, 0.3), 0px 1px 3px 1px rgba(60, 64, 67, 0.15);\n",
              "      fill: #174EA6;\n",
              "    }\n",
              "\n",
              "    [theme=dark] .colab-df-convert {\n",
              "      background-color: #3B4455;\n",
              "      fill: #D2E3FC;\n",
              "    }\n",
              "\n",
              "    [theme=dark] .colab-df-convert:hover {\n",
              "      background-color: #434B5C;\n",
              "      box-shadow: 0px 1px 3px 1px rgba(0, 0, 0, 0.15);\n",
              "      filter: drop-shadow(0px 1px 2px rgba(0, 0, 0, 0.3));\n",
              "      fill: #FFFFFF;\n",
              "    }\n",
              "  </style>\n",
              "\n",
              "      <script>\n",
              "        const buttonEl =\n",
              "          document.querySelector('#df-d8619fec-4522-4e92-8a35-9357382cfe23 button.colab-df-convert');\n",
              "        buttonEl.style.display =\n",
              "          google.colab.kernel.accessAllowed ? 'block' : 'none';\n",
              "\n",
              "        async function convertToInteractive(key) {\n",
              "          const element = document.querySelector('#df-d8619fec-4522-4e92-8a35-9357382cfe23');\n",
              "          const dataTable =\n",
              "            await google.colab.kernel.invokeFunction('convertToInteractive',\n",
              "                                                     [key], {});\n",
              "          if (!dataTable) return;\n",
              "\n",
              "          const docLinkHtml = 'Like what you see? Visit the ' +\n",
              "            '<a target=\"_blank\" href=https://colab.research.google.com/notebooks/data_table.ipynb>data table notebook</a>'\n",
              "            + ' to learn more about interactive tables.';\n",
              "          element.innerHTML = '';\n",
              "          dataTable['output_type'] = 'display_data';\n",
              "          await google.colab.output.renderOutput(dataTable, element);\n",
              "          const docLink = document.createElement('div');\n",
              "          docLink.innerHTML = docLinkHtml;\n",
              "          element.appendChild(docLink);\n",
              "        }\n",
              "      </script>\n",
              "    </div>\n",
              "  </div>\n",
              "  "
            ]
          },
          "metadata": {},
          "execution_count": 44
        }
      ]
    },
    {
      "cell_type": "code",
      "source": [
        "d6.replace([np.inf, -np.inf], np.nan, inplace=True)    #replacing very large values with Nan\n",
        "d6.drop(d6.tail(2).index, #dropping the first and last 2 rows from dataframe\n",
        "        inplace = True)\n",
        "d6.drop(d6.head(2).index,\n",
        "        inplace = True)\n",
        "\n",
        "pd.set_option('mode.use_inf_as_na', True)\n",
        "d6.dropna(how='any', inplace=True)       #dropping rows with Nan values from new dataframe\n",
        "# check = d6[d6.isna().any(axis=1)]\n",
        "\n",
        "# d6.drop(['Duration'],axis=1)"
      ],
      "metadata": {
        "id": "BJg6QTsocJ7Y"
      },
      "execution_count": null,
      "outputs": []
    },
    {
      "cell_type": "code",
      "source": [
        "d6"
      ],
      "metadata": {
        "id": "EROMyIWdcTvr"
      },
      "execution_count": null,
      "outputs": []
    },
    {
      "cell_type": "code",
      "source": [
        "X_train=d6.drop(['Duration'],axis=1) #creating training dataset \n",
        "#dropping Duration attribute"
      ],
      "metadata": {
        "id": "ISycrFmbdUv5"
      },
      "execution_count": null,
      "outputs": []
    },
    {
      "cell_type": "code",
      "source": [
        "X_train"
      ],
      "metadata": {
        "id": "lVkI7g69hi1m"
      },
      "execution_count": null,
      "outputs": []
    },
    {
      "cell_type": "code",
      "source": [
        "y_train=d6['Duration']  #creating target variable"
      ],
      "metadata": {
        "id": "dQReycKthpNU"
      },
      "execution_count": null,
      "outputs": []
    },
    {
      "cell_type": "code",
      "source": [
        "y_train"
      ],
      "metadata": {
        "id": "N2SekVU_hwQ1"
      },
      "execution_count": null,
      "outputs": []
    },
    {
      "cell_type": "code",
      "source": [
        "test_df=dfInput\n",
        "\n",
        "distance1=haversine(test_df['Dest_Long'],test_df['Dest_Lat'],test_df['Source_Long'],test_df['Source_Lat'])\n",
        "\n",
        "test_df['Distance']=distance1         #creating distance attribute in testing csv\n",
        "print(test_df.columns)\n",
        "\n",
        "test_df.drop(\"Unnamed: 0\",axis=1,inplace=True) #dropping extra column from testing csv\n",
        "\n",
        "X_test=test_df"
      ],
      "metadata": {
        "id": "okHKSY61hzhB"
      },
      "execution_count": null,
      "outputs": []
    },
    {
      "cell_type": "code",
      "source": [
        "X_test.replace([np.inf, -np.inf], np.nan, inplace=True) #replacing very large values with Nan\n"
      ],
      "metadata": {
        "id": "FnQwO1S-mOIZ"
      },
      "execution_count": null,
      "outputs": []
    },
    {
      "cell_type": "code",
      "source": [
        "X_test      #checking for Nan value of distance in testing csv\n",
        "X = X_test['Distance'].isna()\n",
        "c=0\n",
        "for i in X:\n",
        "  if i :\n",
        "    print(X_test[c])\n",
        "  c+=1\n",
        "print(c)\n"
      ],
      "metadata": {
        "id": "hHPBexvJkF-x"
      },
      "execution_count": null,
      "outputs": []
    },
    {
      "cell_type": "code",
      "source": [
        "y_test=dfGroundTruth\n",
        "print(y_test.columns)\n",
        "# y_test.drop(\"Unnamed: 0\",axis=1,inplace=True)"
      ],
      "metadata": {
        "id": "LMH36o2Hh5p6"
      },
      "execution_count": null,
      "outputs": []
    },
    {
      "cell_type": "code",
      "source": [
        "X_test=pd.concat([X_test,y_test], axis=1)  \n",
        "X_test.dropna(how='any', inplace=True) #dropping  rows containing Nan values from dataset"
      ],
      "metadata": {
        "id": "i41q2dXVryqX"
      },
      "execution_count": null,
      "outputs": []
    },
    {
      "cell_type": "code",
      "source": [
        "y_test=X_test['TT']\n",
        "X_test.drop('TT',axis=1)"
      ],
      "metadata": {
        "id": "SwTAYcHQsikf"
      },
      "execution_count": null,
      "outputs": []
    },
    {
      "cell_type": "markdown",
      "source": [
        "# Linear Regression Model"
      ],
      "metadata": {
        "id": "5wFNDfnX_rFF"
      }
    },
    {
      "cell_type": "code",
      "source": [
        "reg_model=LinearRegression() "
      ],
      "metadata": {
        "id": "w3JqnOv2jJ9o"
      },
      "execution_count": null,
      "outputs": []
    },
    {
      "cell_type": "code",
      "source": [
        "reg_model.fit(X_train, y_train)"
      ],
      "metadata": {
        "id": "psM51fTSjTcT"
      },
      "execution_count": null,
      "outputs": []
    },
    {
      "cell_type": "code",
      "source": [
        "X_test.columns"
      ],
      "metadata": {
        "id": "gguATuwDpIJT"
      },
      "execution_count": null,
      "outputs": []
    },
    {
      "cell_type": "code",
      "source": [
        "X_test.drop(\"Unnamed: 0\",axis=1,inplace=True)"
      ],
      "metadata": {
        "id": "Bh3CZQb8pPfX"
      },
      "execution_count": null,
      "outputs": []
    },
    {
      "cell_type": "code",
      "source": [
        "y_test=X_test['TT']"
      ],
      "metadata": {
        "id": "jx0tmfiQph-j"
      },
      "execution_count": null,
      "outputs": []
    },
    {
      "cell_type": "code",
      "source": [
        "X_test.drop(\"TT\",axis=1,inplace=True)"
      ],
      "metadata": {
        "id": "BVQAa2eHpoOM"
      },
      "execution_count": null,
      "outputs": []
    },
    {
      "cell_type": "code",
      "source": [
        "print(reg_model.score(X_test, y_test))"
      ],
      "metadata": {
        "id": "qjAkZzwojYn2"
      },
      "execution_count": null,
      "outputs": []
    },
    {
      "cell_type": "markdown",
      "source": [],
      "metadata": {
        "id": "xuBNPj_4XZK1"
      }
    },
    {
      "cell_type": "markdown",
      "source": [
        "# Random Forest Model"
      ],
      "metadata": {
        "id": "q3iQL14-_QaM"
      }
    },
    {
      "cell_type": "code",
      "source": [
        "Xtrain,Xtest,ytrain,ytest = train_test_split(X_train,y_train, train_size = 0.006, random_state=42) "
      ],
      "metadata": {
        "id": "iQLhY64I6bck"
      },
      "execution_count": null,
      "outputs": []
    },
    {
      "cell_type": "markdown",
      "source": [],
      "metadata": {
        "id": "D_r30HPb8YEv"
      }
    },
    {
      "cell_type": "code",
      "source": [
        "forest_model = RandomForestRegressor(random_state=1,oob_score=True,)\n",
        "forest_model.fit(Xtrain,ytrain)\n",
        "#print(\"yes\")"
      ],
      "metadata": {
        "id": "rFp612Om-PUt",
        "colab": {
          "base_uri": "https://localhost:8080/"
        },
        "outputId": "2afa4014-bab8-473d-a637-504cfe5f0764"
      },
      "execution_count": null,
      "outputs": [
        {
          "output_type": "execute_result",
          "data": {
            "text/plain": [
              "RandomForestRegressor(oob_score=True, random_state=1)"
            ]
          },
          "metadata": {},
          "execution_count": 65
        }
      ]
    },
    {
      "cell_type": "code",
      "source": [
        "pred = forest_model.predict(X_test)\n",
        "print(\"Mean absolute error obtained is:\",mean_absolute_error(y_test, pred))"
      ],
      "metadata": {
        "id": "9SWboOXP32nq",
        "colab": {
          "base_uri": "https://localhost:8080/"
        },
        "outputId": "7ab28bc8-73a6-4659-db5f-0e1983df7bee"
      },
      "execution_count": null,
      "outputs": [
        {
          "output_type": "stream",
          "name": "stdout",
          "text": [
            "Mean absolute error obtained is: 485.8630272475795\n"
          ]
        }
      ]
    },
    {
      "cell_type": "code",
      "source": [
        "#dfInput['ETT']=pred"
      ],
      "metadata": {
        "id": "Ka2U-kZoTZMP"
      },
      "execution_count": null,
      "outputs": []
    },
    {
      "cell_type": "code",
      "source": [
        "#dfInput"
      ],
      "metadata": {
        "colab": {
          "base_uri": "https://localhost:8080/",
          "height": 424
        },
        "id": "C-cGeI22sgLY",
        "outputId": "40a37603-a99f-420b-8659-5129ff64f69c"
      },
      "execution_count": null,
      "outputs": [
        {
          "output_type": "execute_result",
          "data": {
            "text/plain": [
              "      Source_Lat  Source_Long   Dest_Lat  Dest_Long   Distance         ETT\n",
              "0      12.941644    77.557335  12.942002  77.551605   0.622237    3.092333\n",
              "1      12.845487    77.662079  12.845881  77.667892   0.631720   31.854167\n",
              "2      12.973492    77.622871  12.957303  77.621246   1.808726  470.183333\n",
              "3      12.819298    77.688995  12.814241  77.692986   0.709538   25.009833\n",
              "4      12.973240    77.615402  13.016170  77.627800   4.958999  693.851667\n",
              "...          ...          ...        ...        ...        ...         ...\n",
              "1200   13.097792    77.591736  13.154475  77.568077   6.803679  598.720500\n",
              "1201   12.794702    77.624046  12.863790  77.616608   7.724445  631.248000\n",
              "1202   12.922270    77.743591  12.983501  77.752258   6.873050  669.910167\n",
              "1203   12.918303    77.589500  12.923568  77.655655   7.193703  847.488667\n",
              "1204   12.984523    77.600754  13.083735  77.560806  11.850318  444.514167\n",
              "\n",
              "[1205 rows x 6 columns]"
            ],
            "text/html": [
              "\n",
              "  <div id=\"df-3fea1ce1-1138-49a8-8847-f6f2653d93c3\">\n",
              "    <div class=\"colab-df-container\">\n",
              "      <div>\n",
              "<style scoped>\n",
              "    .dataframe tbody tr th:only-of-type {\n",
              "        vertical-align: middle;\n",
              "    }\n",
              "\n",
              "    .dataframe tbody tr th {\n",
              "        vertical-align: top;\n",
              "    }\n",
              "\n",
              "    .dataframe thead th {\n",
              "        text-align: right;\n",
              "    }\n",
              "</style>\n",
              "<table border=\"1\" class=\"dataframe\">\n",
              "  <thead>\n",
              "    <tr style=\"text-align: right;\">\n",
              "      <th></th>\n",
              "      <th>Source_Lat</th>\n",
              "      <th>Source_Long</th>\n",
              "      <th>Dest_Lat</th>\n",
              "      <th>Dest_Long</th>\n",
              "      <th>Distance</th>\n",
              "      <th>ETT</th>\n",
              "    </tr>\n",
              "  </thead>\n",
              "  <tbody>\n",
              "    <tr>\n",
              "      <th>0</th>\n",
              "      <td>12.941644</td>\n",
              "      <td>77.557335</td>\n",
              "      <td>12.942002</td>\n",
              "      <td>77.551605</td>\n",
              "      <td>0.622237</td>\n",
              "      <td>3.092333</td>\n",
              "    </tr>\n",
              "    <tr>\n",
              "      <th>1</th>\n",
              "      <td>12.845487</td>\n",
              "      <td>77.662079</td>\n",
              "      <td>12.845881</td>\n",
              "      <td>77.667892</td>\n",
              "      <td>0.631720</td>\n",
              "      <td>31.854167</td>\n",
              "    </tr>\n",
              "    <tr>\n",
              "      <th>2</th>\n",
              "      <td>12.973492</td>\n",
              "      <td>77.622871</td>\n",
              "      <td>12.957303</td>\n",
              "      <td>77.621246</td>\n",
              "      <td>1.808726</td>\n",
              "      <td>470.183333</td>\n",
              "    </tr>\n",
              "    <tr>\n",
              "      <th>3</th>\n",
              "      <td>12.819298</td>\n",
              "      <td>77.688995</td>\n",
              "      <td>12.814241</td>\n",
              "      <td>77.692986</td>\n",
              "      <td>0.709538</td>\n",
              "      <td>25.009833</td>\n",
              "    </tr>\n",
              "    <tr>\n",
              "      <th>4</th>\n",
              "      <td>12.973240</td>\n",
              "      <td>77.615402</td>\n",
              "      <td>13.016170</td>\n",
              "      <td>77.627800</td>\n",
              "      <td>4.958999</td>\n",
              "      <td>693.851667</td>\n",
              "    </tr>\n",
              "    <tr>\n",
              "      <th>...</th>\n",
              "      <td>...</td>\n",
              "      <td>...</td>\n",
              "      <td>...</td>\n",
              "      <td>...</td>\n",
              "      <td>...</td>\n",
              "      <td>...</td>\n",
              "    </tr>\n",
              "    <tr>\n",
              "      <th>1200</th>\n",
              "      <td>13.097792</td>\n",
              "      <td>77.591736</td>\n",
              "      <td>13.154475</td>\n",
              "      <td>77.568077</td>\n",
              "      <td>6.803679</td>\n",
              "      <td>598.720500</td>\n",
              "    </tr>\n",
              "    <tr>\n",
              "      <th>1201</th>\n",
              "      <td>12.794702</td>\n",
              "      <td>77.624046</td>\n",
              "      <td>12.863790</td>\n",
              "      <td>77.616608</td>\n",
              "      <td>7.724445</td>\n",
              "      <td>631.248000</td>\n",
              "    </tr>\n",
              "    <tr>\n",
              "      <th>1202</th>\n",
              "      <td>12.922270</td>\n",
              "      <td>77.743591</td>\n",
              "      <td>12.983501</td>\n",
              "      <td>77.752258</td>\n",
              "      <td>6.873050</td>\n",
              "      <td>669.910167</td>\n",
              "    </tr>\n",
              "    <tr>\n",
              "      <th>1203</th>\n",
              "      <td>12.918303</td>\n",
              "      <td>77.589500</td>\n",
              "      <td>12.923568</td>\n",
              "      <td>77.655655</td>\n",
              "      <td>7.193703</td>\n",
              "      <td>847.488667</td>\n",
              "    </tr>\n",
              "    <tr>\n",
              "      <th>1204</th>\n",
              "      <td>12.984523</td>\n",
              "      <td>77.600754</td>\n",
              "      <td>13.083735</td>\n",
              "      <td>77.560806</td>\n",
              "      <td>11.850318</td>\n",
              "      <td>444.514167</td>\n",
              "    </tr>\n",
              "  </tbody>\n",
              "</table>\n",
              "<p>1205 rows × 6 columns</p>\n",
              "</div>\n",
              "      <button class=\"colab-df-convert\" onclick=\"convertToInteractive('df-3fea1ce1-1138-49a8-8847-f6f2653d93c3')\"\n",
              "              title=\"Convert this dataframe to an interactive table.\"\n",
              "              style=\"display:none;\">\n",
              "        \n",
              "  <svg xmlns=\"http://www.w3.org/2000/svg\" height=\"24px\"viewBox=\"0 0 24 24\"\n",
              "       width=\"24px\">\n",
              "    <path d=\"M0 0h24v24H0V0z\" fill=\"none\"/>\n",
              "    <path d=\"M18.56 5.44l.94 2.06.94-2.06 2.06-.94-2.06-.94-.94-2.06-.94 2.06-2.06.94zm-11 1L8.5 8.5l.94-2.06 2.06-.94-2.06-.94L8.5 2.5l-.94 2.06-2.06.94zm10 10l.94 2.06.94-2.06 2.06-.94-2.06-.94-.94-2.06-.94 2.06-2.06.94z\"/><path d=\"M17.41 7.96l-1.37-1.37c-.4-.4-.92-.59-1.43-.59-.52 0-1.04.2-1.43.59L10.3 9.45l-7.72 7.72c-.78.78-.78 2.05 0 2.83L4 21.41c.39.39.9.59 1.41.59.51 0 1.02-.2 1.41-.59l7.78-7.78 2.81-2.81c.8-.78.8-2.07 0-2.86zM5.41 20L4 18.59l7.72-7.72 1.47 1.35L5.41 20z\"/>\n",
              "  </svg>\n",
              "      </button>\n",
              "      \n",
              "  <style>\n",
              "    .colab-df-container {\n",
              "      display:flex;\n",
              "      flex-wrap:wrap;\n",
              "      gap: 12px;\n",
              "    }\n",
              "\n",
              "    .colab-df-convert {\n",
              "      background-color: #E8F0FE;\n",
              "      border: none;\n",
              "      border-radius: 50%;\n",
              "      cursor: pointer;\n",
              "      display: none;\n",
              "      fill: #1967D2;\n",
              "      height: 32px;\n",
              "      padding: 0 0 0 0;\n",
              "      width: 32px;\n",
              "    }\n",
              "\n",
              "    .colab-df-convert:hover {\n",
              "      background-color: #E2EBFA;\n",
              "      box-shadow: 0px 1px 2px rgba(60, 64, 67, 0.3), 0px 1px 3px 1px rgba(60, 64, 67, 0.15);\n",
              "      fill: #174EA6;\n",
              "    }\n",
              "\n",
              "    [theme=dark] .colab-df-convert {\n",
              "      background-color: #3B4455;\n",
              "      fill: #D2E3FC;\n",
              "    }\n",
              "\n",
              "    [theme=dark] .colab-df-convert:hover {\n",
              "      background-color: #434B5C;\n",
              "      box-shadow: 0px 1px 3px 1px rgba(0, 0, 0, 0.15);\n",
              "      filter: drop-shadow(0px 1px 2px rgba(0, 0, 0, 0.3));\n",
              "      fill: #FFFFFF;\n",
              "    }\n",
              "  </style>\n",
              "\n",
              "      <script>\n",
              "        const buttonEl =\n",
              "          document.querySelector('#df-3fea1ce1-1138-49a8-8847-f6f2653d93c3 button.colab-df-convert');\n",
              "        buttonEl.style.display =\n",
              "          google.colab.kernel.accessAllowed ? 'block' : 'none';\n",
              "\n",
              "        async function convertToInteractive(key) {\n",
              "          const element = document.querySelector('#df-3fea1ce1-1138-49a8-8847-f6f2653d93c3');\n",
              "          const dataTable =\n",
              "            await google.colab.kernel.invokeFunction('convertToInteractive',\n",
              "                                                     [key], {});\n",
              "          if (!dataTable) return;\n",
              "\n",
              "          const docLinkHtml = 'Like what you see? Visit the ' +\n",
              "            '<a target=\"_blank\" href=https://colab.research.google.com/notebooks/data_table.ipynb>data table notebook</a>'\n",
              "            + ' to learn more about interactive tables.';\n",
              "          element.innerHTML = '';\n",
              "          dataTable['output_type'] = 'display_data';\n",
              "          await google.colab.output.renderOutput(dataTable, element);\n",
              "          const docLink = document.createElement('div');\n",
              "          docLink.innerHTML = docLinkHtml;\n",
              "          element.appendChild(docLink);\n",
              "        }\n",
              "      </script>\n",
              "    </div>\n",
              "  </div>\n",
              "  "
            ]
          },
          "metadata": {},
          "execution_count": 90
        }
      ]
    },
    {
      "cell_type": "code",
      "source": [
        "dfGroundTruth"
      ],
      "metadata": {
        "colab": {
          "base_uri": "https://localhost:8080/",
          "height": 424
        },
        "id": "CK9Vhkwuq69h",
        "outputId": "214bd33e-f605-4b9f-b87c-74fbd34fa4da"
      },
      "execution_count": null,
      "outputs": [
        {
          "output_type": "execute_result",
          "data": {
            "text/plain": [
              "      Unnamed: 0         TT\n",
              "0              0   2.833333\n",
              "1              1   1.500000\n",
              "2              2  21.250000\n",
              "3              3   2.000000\n",
              "4              4  35.733333\n",
              "...          ...        ...\n",
              "1200        1200  27.233333\n",
              "1201        1201  26.750000\n",
              "1202        1202  53.600000\n",
              "1203        1203  59.616667\n",
              "1204        1204  59.816667\n",
              "\n",
              "[1205 rows x 2 columns]"
            ],
            "text/html": [
              "\n",
              "  <div id=\"df-76842bf4-f564-4707-a867-37f1fa60acbe\">\n",
              "    <div class=\"colab-df-container\">\n",
              "      <div>\n",
              "<style scoped>\n",
              "    .dataframe tbody tr th:only-of-type {\n",
              "        vertical-align: middle;\n",
              "    }\n",
              "\n",
              "    .dataframe tbody tr th {\n",
              "        vertical-align: top;\n",
              "    }\n",
              "\n",
              "    .dataframe thead th {\n",
              "        text-align: right;\n",
              "    }\n",
              "</style>\n",
              "<table border=\"1\" class=\"dataframe\">\n",
              "  <thead>\n",
              "    <tr style=\"text-align: right;\">\n",
              "      <th></th>\n",
              "      <th>Unnamed: 0</th>\n",
              "      <th>TT</th>\n",
              "    </tr>\n",
              "  </thead>\n",
              "  <tbody>\n",
              "    <tr>\n",
              "      <th>0</th>\n",
              "      <td>0</td>\n",
              "      <td>2.833333</td>\n",
              "    </tr>\n",
              "    <tr>\n",
              "      <th>1</th>\n",
              "      <td>1</td>\n",
              "      <td>1.500000</td>\n",
              "    </tr>\n",
              "    <tr>\n",
              "      <th>2</th>\n",
              "      <td>2</td>\n",
              "      <td>21.250000</td>\n",
              "    </tr>\n",
              "    <tr>\n",
              "      <th>3</th>\n",
              "      <td>3</td>\n",
              "      <td>2.000000</td>\n",
              "    </tr>\n",
              "    <tr>\n",
              "      <th>4</th>\n",
              "      <td>4</td>\n",
              "      <td>35.733333</td>\n",
              "    </tr>\n",
              "    <tr>\n",
              "      <th>...</th>\n",
              "      <td>...</td>\n",
              "      <td>...</td>\n",
              "    </tr>\n",
              "    <tr>\n",
              "      <th>1200</th>\n",
              "      <td>1200</td>\n",
              "      <td>27.233333</td>\n",
              "    </tr>\n",
              "    <tr>\n",
              "      <th>1201</th>\n",
              "      <td>1201</td>\n",
              "      <td>26.750000</td>\n",
              "    </tr>\n",
              "    <tr>\n",
              "      <th>1202</th>\n",
              "      <td>1202</td>\n",
              "      <td>53.600000</td>\n",
              "    </tr>\n",
              "    <tr>\n",
              "      <th>1203</th>\n",
              "      <td>1203</td>\n",
              "      <td>59.616667</td>\n",
              "    </tr>\n",
              "    <tr>\n",
              "      <th>1204</th>\n",
              "      <td>1204</td>\n",
              "      <td>59.816667</td>\n",
              "    </tr>\n",
              "  </tbody>\n",
              "</table>\n",
              "<p>1205 rows × 2 columns</p>\n",
              "</div>\n",
              "      <button class=\"colab-df-convert\" onclick=\"convertToInteractive('df-76842bf4-f564-4707-a867-37f1fa60acbe')\"\n",
              "              title=\"Convert this dataframe to an interactive table.\"\n",
              "              style=\"display:none;\">\n",
              "        \n",
              "  <svg xmlns=\"http://www.w3.org/2000/svg\" height=\"24px\"viewBox=\"0 0 24 24\"\n",
              "       width=\"24px\">\n",
              "    <path d=\"M0 0h24v24H0V0z\" fill=\"none\"/>\n",
              "    <path d=\"M18.56 5.44l.94 2.06.94-2.06 2.06-.94-2.06-.94-.94-2.06-.94 2.06-2.06.94zm-11 1L8.5 8.5l.94-2.06 2.06-.94-2.06-.94L8.5 2.5l-.94 2.06-2.06.94zm10 10l.94 2.06.94-2.06 2.06-.94-2.06-.94-.94-2.06-.94 2.06-2.06.94z\"/><path d=\"M17.41 7.96l-1.37-1.37c-.4-.4-.92-.59-1.43-.59-.52 0-1.04.2-1.43.59L10.3 9.45l-7.72 7.72c-.78.78-.78 2.05 0 2.83L4 21.41c.39.39.9.59 1.41.59.51 0 1.02-.2 1.41-.59l7.78-7.78 2.81-2.81c.8-.78.8-2.07 0-2.86zM5.41 20L4 18.59l7.72-7.72 1.47 1.35L5.41 20z\"/>\n",
              "  </svg>\n",
              "      </button>\n",
              "      \n",
              "  <style>\n",
              "    .colab-df-container {\n",
              "      display:flex;\n",
              "      flex-wrap:wrap;\n",
              "      gap: 12px;\n",
              "    }\n",
              "\n",
              "    .colab-df-convert {\n",
              "      background-color: #E8F0FE;\n",
              "      border: none;\n",
              "      border-radius: 50%;\n",
              "      cursor: pointer;\n",
              "      display: none;\n",
              "      fill: #1967D2;\n",
              "      height: 32px;\n",
              "      padding: 0 0 0 0;\n",
              "      width: 32px;\n",
              "    }\n",
              "\n",
              "    .colab-df-convert:hover {\n",
              "      background-color: #E2EBFA;\n",
              "      box-shadow: 0px 1px 2px rgba(60, 64, 67, 0.3), 0px 1px 3px 1px rgba(60, 64, 67, 0.15);\n",
              "      fill: #174EA6;\n",
              "    }\n",
              "\n",
              "    [theme=dark] .colab-df-convert {\n",
              "      background-color: #3B4455;\n",
              "      fill: #D2E3FC;\n",
              "    }\n",
              "\n",
              "    [theme=dark] .colab-df-convert:hover {\n",
              "      background-color: #434B5C;\n",
              "      box-shadow: 0px 1px 3px 1px rgba(0, 0, 0, 0.15);\n",
              "      filter: drop-shadow(0px 1px 2px rgba(0, 0, 0, 0.3));\n",
              "      fill: #FFFFFF;\n",
              "    }\n",
              "  </style>\n",
              "\n",
              "      <script>\n",
              "        const buttonEl =\n",
              "          document.querySelector('#df-76842bf4-f564-4707-a867-37f1fa60acbe button.colab-df-convert');\n",
              "        buttonEl.style.display =\n",
              "          google.colab.kernel.accessAllowed ? 'block' : 'none';\n",
              "\n",
              "        async function convertToInteractive(key) {\n",
              "          const element = document.querySelector('#df-76842bf4-f564-4707-a867-37f1fa60acbe');\n",
              "          const dataTable =\n",
              "            await google.colab.kernel.invokeFunction('convertToInteractive',\n",
              "                                                     [key], {});\n",
              "          if (!dataTable) return;\n",
              "\n",
              "          const docLinkHtml = 'Like what you see? Visit the ' +\n",
              "            '<a target=\"_blank\" href=https://colab.research.google.com/notebooks/data_table.ipynb>data table notebook</a>'\n",
              "            + ' to learn more about interactive tables.';\n",
              "          element.innerHTML = '';\n",
              "          dataTable['output_type'] = 'display_data';\n",
              "          await google.colab.output.renderOutput(dataTable, element);\n",
              "          const docLink = document.createElement('div');\n",
              "          docLink.innerHTML = docLinkHtml;\n",
              "          element.appendChild(docLink);\n",
              "        }\n",
              "      </script>\n",
              "    </div>\n",
              "  </div>\n",
              "  "
            ]
          },
          "metadata": {},
          "execution_count": 78
        }
      ]
    },
    {
      "cell_type": "markdown",
      "source": [
        "# For Evaluation\n",
        "function for evauation\n",
        "  2. Function arguments:\n",
        "    \n",
        "    a. df: It is a pandas dataframe that contains the data from BMTC.parquet.gzip\n",
        "   \n",
        "    b. dfInput: It is a pandas dataframe that contains the input from Input.csv\n",
        "\n",
        "3. Returns:\n",
        "\n",
        "    a. dfOutput: It is a pandas dataframe that contains the output\n"
      ],
      "metadata": {
        "id": "XLzoz2WNtPZ9"
      }
    },
    {
      "cell_type": "code",
      "source": [
        "def EstimatedTravelTime(df, dfInput): # The output of this function will be evaluated\n",
        "    # Function body - Begins\n",
        "    # Make changes here.  \n",
        "                              \n",
        "    dfOutput = pd.DataFrame()\n",
        "\n",
        "\n",
        "    # Function body - Ends\n",
        "    return dfOutput"
      ],
      "metadata": {
        "id": "P09_kbGatHJL"
      },
      "execution_count": null,
      "outputs": []
    },
    {
      "cell_type": "code",
      "source": [
        "dfOutput = EstimatedTravelTime(df, dfInput)"
      ],
      "metadata": {
        "id": "ZEPtfj5StN9r"
      },
      "execution_count": null,
      "outputs": []
    },
    {
      "cell_type": "markdown",
      "source": [
        "# AutoML"
      ],
      "metadata": {
        "id": "F9fe63zYZktT"
      }
    },
    {
      "cell_type": "code",
      "source": [
        "#!apt install -y build-essential swig curl"
      ],
      "metadata": {
        "id": "9kBXiS9BadRm"
      },
      "execution_count": null,
      "outputs": []
    },
    {
      "cell_type": "code",
      "source": [
        "# !pip install auto-sklearn"
      ],
      "metadata": {
        "id": "JwqK6AXU2DHN"
      },
      "execution_count": null,
      "outputs": []
    },
    {
      "cell_type": "code",
      "source": [
        "# Install packages\n",
        "# !curl https://raw.githubusercontent.com/automl/auto-sklearn/master/requirements.txt | xargs -n 1 -L 1 pip install\n",
        "# !pip install auto-sklearn"
      ],
      "metadata": {
        "id": "6hgd3gZTF9e5"
      },
      "execution_count": null,
      "outputs": []
    },
    {
      "cell_type": "code",
      "source": [
        "# from autosklearn.regression import AutoSklearnRegressor\n",
        "# # Create the AutoSklearnRegessor\n",
        "# sklearn = AutoSklearnRegressor(time_left_for_this_task=360,per_run_time_limit=30,memory_limit=5000,n_jobs=-1)\n",
        "# # Fit the training data\n",
        "# sklearn.fit(Xtrain, ytrain)\n",
        "# # Sprint Statistics\n",
        "# print(sklearn.sprint_statistics())\n",
        "# # Predict the validation data\n",
        "# pred_sklearn = sklearn.predict(X_test)\n",
        "# # Compute the RMSE\n",
        "# rmse_sklearn=MSE(y_test, pred_sklearn)**0.5\n",
        "# print('RMSE: ' + str(rmse_sklearn))"
      ],
      "metadata": {
        "id": "aw8BukKZ3jZ3"
      },
      "execution_count": null,
      "outputs": []
    },
    {
      "cell_type": "code",
      "source": [
        "# sklearn.get_models_with_weights()"
      ],
      "metadata": {
        "id": "zi6Oc-z097qN"
      },
      "execution_count": null,
      "outputs": []
    },
    {
      "cell_type": "code",
      "source": [
        "# sklearn.leaderboard()"
      ],
      "metadata": {
        "id": "V4LpP7Dw-IJL"
      },
      "execution_count": null,
      "outputs": []
    },
    {
      "cell_type": "code",
      "source": [
        "# from autosklearn.regression import AutoSklearnRegressor\n",
        "# # Create the AutoSklearnRegessor\n",
        "# sklearn = AutoSklearnRegressor(time_left_for_this_task=360,per_run_time_limit=45,memory_limit=5500,n_jobs=-1)\n",
        "# # Fit the training data\n",
        "# sklearn.fit(Xtrain, ytrain)\n",
        "# # Sprint Statistics\n",
        "# print(sklearn.sprint_statistics())\n",
        "# # Predict the validation data\n",
        "# pred_sklearn = sklearn.predict(X_test)\n",
        "# # Compute the RMSE\n",
        "# rmse_sklearn=MSE(y_test, pred_sklearn)**0.5\n",
        "# print('RMSE: ' + str(rmse_sklearn))"
      ],
      "metadata": {
        "id": "kaOkbJPuqD-O"
      },
      "execution_count": null,
      "outputs": []
    },
    {
      "cell_type": "code",
      "source": [
        "# sklearn.leaderboard()"
      ],
      "metadata": {
        "id": "g9Y-YZVW-mLp"
      },
      "execution_count": null,
      "outputs": []
    },
    {
      "cell_type": "code",
      "source": [
        "# from autosklearn.regression import AutoSklearnRegressor\n",
        "# # Create the AutoSklearnRegessor\n",
        "# sklearn = AutoSklearnRegressor(time_left_for_this_task=36000,per_run_time_limit=3600,memory_limit=5000,n_jobs=-1)\n",
        "# # Fit the training data\n",
        "# sklearn.fit(Xtrain, ytrain)\n",
        "# # Sprint Statistics\n",
        "# print(sklearn.sprint_statistics())\n",
        "# # Predict the validation data\n",
        "# pred_sklearn = sklearn.predict(X_test)\n",
        "# # Compute the RMSE\n",
        "# rmse_sklearn=MSE(y_test, pred_sklearn)**0.5\n",
        "# print('RMSE: ' + str(rmse_sklearn))"
      ],
      "metadata": {
        "id": "XcKyrGSOv7jy"
      },
      "execution_count": null,
      "outputs": []
    },
    {
      "cell_type": "code",
      "source": [
        "# import matplotlib.pyplot as plt \n",
        "# # Scatter plot true and predicted values\n",
        "# plt.scatter(pred_sklearn, y_val, alpha=0.2)\n",
        "# plt.xlabel('predicted')\n",
        "# plt.ylabel('true value')"
      ],
      "metadata": {
        "id": "SCCE6N6xlqKz"
      },
      "execution_count": null,
      "outputs": []
    }
  ]
}