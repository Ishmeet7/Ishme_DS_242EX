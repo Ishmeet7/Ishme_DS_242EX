{
  "nbformat": 4,
  "nbformat_minor": 0,
  "metadata": {
    "colab": {
      "provenance": [],
      "include_colab_link": true
    },
    "kernelspec": {
      "name": "python3",
      "display_name": "Python 3"
    },
    "language_info": {
      "name": "python"
    },
    "accelerator": "GPU",
    "gpuClass": "standard"
  },
  "cells": [
    {
      "cell_type": "markdown",
      "metadata": {
        "id": "view-in-github",
        "colab_type": "text"
      },
      "source": [
        "<a href=\"https://colab.research.google.com/github/Ishmeet7/Ishme_DS_242EX/blob/main/Predict.ipynb\" target=\"_parent\"><img src=\"https://colab.research.google.com/assets/colab-badge.svg\" alt=\"Open In Colab\"/></a>"
      ]
    },
    {
      "cell_type": "markdown",
      "source": [
        "# Installing and Importing packages"
      ],
      "metadata": {
        "id": "r-Oi-plL8Y1B"
      }
    },
    {
      "cell_type": "code",
      "execution_count": 1,
      "metadata": {
        "id": "OicdY7e2XUA5"
      },
      "outputs": [],
      "source": [
        "import pandas as pd #importing libraries\n",
        "import numpy as np\n",
        "import matplotlib.pyplot as plt\n",
        "from numpy import radians, cos, sin, arcsin, sqrt\n",
        "from sklearn.linear_model import LinearRegression\n",
        "from sklearn.preprocessing import PolynomialFeatures\n",
        "from sklearn.ensemble import RandomForestRegressor\n",
        "from sklearn.metrics import mean_absolute_error\n",
        "from sklearn.metrics import mean_squared_error as mse\n",
        "from sklearn.model_selection import train_test_split\n",
        "import seaborn as sns"
      ]
    },
    {
      "cell_type": "code",
      "source": [
        "from google.colab import drive   #mount drive\n",
        "drive.mount('/content/drive')"
      ],
      "metadata": {
        "id": "qC4Q5mgWYUeF"
      },
      "execution_count": null,
      "outputs": []
    },
    {
      "cell_type": "markdown",
      "source": [
        "# Loading data"
      ],
      "metadata": {
        "id": "HN2narI9_1Pd"
      }
    },
    {
      "cell_type": "code",
      "source": [
        "df = pd.read_parquet('/content/drive/MyDrive/Data/BMTC.parquet.gzip', engine='pyarrow') # This command loads BMTC data into a dataframe. \n",
        "                                                                      # In case of error, install pyarrow using: \n",
        "                                                                      # pip install pyarrow\n",
        "dfInput = pd.read_csv('/content/drive/MyDrive/Data/Input.csv')\n",
        "dfGroundTruth = pd.read_csv('/content/drive/MyDrive/Data/GroundTruth.csv')"
      ],
      "metadata": {
        "id": "q55fwfyJYZUB"
      },
      "execution_count": null,
      "outputs": []
    },
    {
      "cell_type": "code",
      "source": [
        "df.info()"
      ],
      "metadata": {
        "id": "wWVIIrBj2Ews"
      },
      "execution_count": null,
      "outputs": []
    },
    {
      "cell_type": "code",
      "source": [
        "df.describe()"
      ],
      "metadata": {
        "id": "0PHJAC_s2JVb"
      },
      "execution_count": null,
      "outputs": []
    },
    {
      "cell_type": "code",
      "source": [],
      "metadata": {
        "id": "YT0NidnQ2Zx0"
      },
      "execution_count": null,
      "outputs": []
    },
    {
      "cell_type": "code",
      "source": [
        "#g=df.groupby('BusID', as_index=False)[\"Timestamp\"].sort_values()\n",
        "\n",
        "#g[\"Timestamp\"], format=\"%Y-%m-%d %H:%M:%S\").sort_values()"
      ],
      "metadata": {
        "id": "meXUeoYjk65_"
      },
      "execution_count": null,
      "outputs": []
    },
    {
      "cell_type": "code",
      "source": [
        "dfGroundTruth"
      ],
      "metadata": {
        "id": "M2atVwNggKSX"
      },
      "execution_count": null,
      "outputs": []
    },
    {
      "cell_type": "code",
      "source": [
        "#df = df[(df['Latitude']>12.95)&(df['Latitude']<=13.00)&(df['Longitude']>77.55)&(df['Longitude']<=77.60)]\n"
      ],
      "metadata": {
        "id": "Z3iU7mUX6ZMZ"
      },
      "execution_count": null,
      "outputs": []
    },
    {
      "cell_type": "code",
      "source": [
        "df"
      ],
      "metadata": {
        "id": "vMkrV3VRc1bm"
      },
      "execution_count": null,
      "outputs": []
    },
    {
      "cell_type": "markdown",
      "source": [
        "# Exploratory Data Analysis"
      ],
      "metadata": {
        "id": "fhPgwvyV_7Qc"
      }
    },
    {
      "cell_type": "code",
      "source": [
        "g1=df.groupby('BusID') #grouping data using BusID\n",
        "unique=df.BusID.unique()"
      ],
      "metadata": {
        "id": "yj96k9CKY7Az"
      },
      "execution_count": null,
      "outputs": []
    },
    {
      "cell_type": "code",
      "source": [
        "plt.scatter(df[\"Latitude\"],df[\"Longitude\"])"
      ],
      "metadata": {
        "id": "_0X-uAmlaBvo"
      },
      "execution_count": null,
      "outputs": []
    },
    {
      "cell_type": "markdown",
      "source": [
        "# Preprocessing"
      ],
      "metadata": {
        "id": "B9J5M4xI-EiH"
      }
    },
    {
      "cell_type": "code",
      "source": [
        "def pre_processing(df):\n",
        "  d1 = df.drop_duplicates(subset=['Latitude','Longitude','Speed'],keep=(\"first\"),inplace=False) #If the consecutive rows have same latitude,longitude and speed values keeping only first and last row\n",
        "  d2 = df.drop_duplicates(subset=['Latitude','Longitude','Speed'],keep=(\"last\"),inplace=False)\n",
        "  d3 = pd.concat([d1,d2]).drop_duplicates()\n",
        "  return d3"
      ],
      "metadata": {
        "id": "r90ltSM0Zgds"
      },
      "execution_count": null,
      "outputs": []
    },
    {
      "cell_type": "code",
      "source": [
        "pre_processing(df)"
      ],
      "metadata": {
        "id": "KD3WJEud5nbG"
      },
      "execution_count": null,
      "outputs": []
    },
    {
      "cell_type": "markdown",
      "source": [
        "## Creating a Subset of Data Based on similar route"
      ],
      "metadata": {
        "id": "Pis5iaEMUqmq"
      }
    },
    {
      "cell_type": "code",
      "source": [
        "g = df.groupby('BusID')\n",
        "\n",
        "bus1 = g.get_group(150218010)\n",
        "bus2 = g.get_group(150813389)\n",
        "\n",
        "bus1.reset_index(inplace = True, drop = True)\n",
        "bus2.reset_index(inplace = True, drop = True)\n",
        "\n",
        "buses = pd.concat([bus1,bus2],axis=0)\n",
        "\n",
        "lat = np.array(buses['Latitude']).reshape(-1, 1)\n",
        "poly_feature = PolynomialFeatures(4)#degree is 4\n",
        "x_poly = poly_feature.fit_transform(lat)#fit data and then transform\n",
        "reg = LinearRegression()\n",
        "reg.fit(x_poly, buses['Longitude'])#fit linear model\n",
        "y_predict = reg.predict(x_poly)#prediction using model\n",
        "rmse = (mse(buses['Longitude'], y_predict)) ** 0.5  #rmse calculation\n",
        "\n",
        "count = 0\n",
        "cluster = pd.DataFrame()\n",
        "for i in g.size().index:\n",
        "    bus = g.get_group(i)\n",
        "    bus.reset_index(inplace = True, drop = True)\n",
        "    lat = np.array(bus['Latitude']).reshape(-1, 1)\n",
        "    x_poly = poly_feature.fit_transform(lat)\n",
        "    y_predict = reg.predict(x_poly)#prediction using model\n",
        "    rmse = (mse(bus['Longitude'], y_predict)) ** 0.5  #rmse calculation\n",
        "    if rmse <= 0.03:\n",
        "        count+=1\n",
        "        cluster = pd.concat([cluster,bus], axis=0)\n",
        "        \n",
        "print(count)\n",
        "\n",
        "\n",
        "plt.figure(figsize=(10,10))\n",
        "plt.scatter(cluster['Latitude'], cluster['Longitude'])\n",
        "xp = np.linspace(cluster['Latitude'].min(), cluster['Latitude'].max(), 1000).reshape(-1, 1)#2923 is len of train data\n",
        "x_poly = poly_feature.fit_transform(xp)\n",
        "y_predict = reg.predict(x_poly)\n",
        "plt.plot(xp,y_predict,color='k')"
      ],
      "metadata": {
        "id": "LkDkmjS9U0eD"
      },
      "execution_count": null,
      "outputs": []
    },
    {
      "cell_type": "code",
      "source": [
        "dfInput.columns"
      ],
      "metadata": {
        "id": "ZztUWZJYbjWo"
      },
      "execution_count": null,
      "outputs": []
    },
    {
      "cell_type": "code",
      "source": [
        "for i in range(40,50):\n",
        "    plt.plot([dfInput['Source_Lat'][i],dfInput['Dest_Lat'][i]],[dfInput['Source_Long'][i],dfInput['Dest_Long'][i]])\n"
      ],
      "metadata": {
        "id": "G4mmL58YbUTn"
      },
      "execution_count": null,
      "outputs": []
    },
    {
      "cell_type": "markdown",
      "source": [
        "# Feature Extraction"
      ],
      "metadata": {
        "id": "EBx7ZZzW-P-O"
      }
    },
    {
      "cell_type": "code",
      "source": [
        "#calculating Haversine distance between two points on earth\n",
        "def haversine(lon1, lat1, lon2, lat2):\n",
        "    \"\"\"\n",
        "    Calculate the great circle distance between two points \n",
        "    on the earth (specified in decimal degrees)\n",
        "    \"\"\"\n",
        "\n",
        "    #Convert decimal degrees to Radians:\n",
        "    lon1 = np.radians(lon1.values)\n",
        "    lat1 = np.radians(lat1.values)\n",
        "    lon2 = np.radians(lon2.values)\n",
        "    lat2 = np.radians(lat2.values)\n",
        "\n",
        "    #Implementing Haversine Formula: \n",
        "    dlon = np.subtract(lon2, lon1)\n",
        "    dlat = np.subtract(lat2, lat1)\n",
        "\n",
        "    a = np.add(np.power(np.sin(np.divide(dlat, 2)), 2),  \n",
        "                          np.multiply(np.cos(lat1), \n",
        "                                      np.multiply(np.cos(lat2), \n",
        "                                                  np.power(np.sin(np.divide(dlon, 2)), 2))))\n",
        "    c = np.multiply(2, np.arcsin(np.sqrt(a)))\n",
        "    r = 6371\n",
        "    \n",
        "    return c*r"
      ],
      "metadata": {
        "id": "S5uGEqw_ZoEw"
      },
      "execution_count": null,
      "outputs": []
    },
    {
      "cell_type": "code",
      "source": [
        "d3 = cluster\n",
        "d4=d3.loc[:,[\"Latitude\",'Longitude']]\n",
        "d7=d3.shift(1)             #creating a lag of p=1\n",
        "d5=d4.shift(periods=1, freq=None, axis=0)\n",
        "\n",
        "d5.rename(columns = {'Latitude':'Source_Lat', 'Longitude':'Source_Long'}, inplace = True) #concatenating shifted dataframe to original dataframe and renaming columns\n",
        "d4.rename(columns = {'Latitude':'Dest_Lat', 'Longitude':'Dest_Long'}, inplace = True)\n",
        "d6=pd.concat([d5,d4], axis=1)\n",
        "\n",
        "distance=haversine(d4['Dest_Long'],d4['Dest_Lat'],d5['Source_Long'],d5['Source_Lat'])\n",
        "\n",
        "time=d3['Timestamp']-d7['Timestamp'] #calculating time required to travel distance between two consecutive rows of latitude and logitude\n",
        "\n",
        "time=time.apply(lambda x: x.seconds/60)\n",
        "\n",
        "d6['Distance']=distance   #adding new columns to dataframe\n",
        "d6['Duration']=time"
      ],
      "metadata": {
        "id": "CZdW1ourypyV"
      },
      "execution_count": null,
      "outputs": []
    },
    {
      "cell_type": "code",
      "source": [
        "d6.columns"
      ],
      "metadata": {
        "id": "itB7VvyuatlB"
      },
      "execution_count": null,
      "outputs": []
    },
    {
      "cell_type": "code",
      "source": [
        "d6.info()"
      ],
      "metadata": {
        "id": "0FdHQzQ72sB0"
      },
      "execution_count": null,
      "outputs": []
    },
    {
      "cell_type": "code",
      "source": [
        "d6.describe()"
      ],
      "metadata": {
        "id": "1JBelFB-2vSZ"
      },
      "execution_count": null,
      "outputs": []
    },
    {
      "cell_type": "code",
      "source": [
        "d6.head() #created dataframe"
      ],
      "metadata": {
        "id": "larLmW-rcGsN"
      },
      "execution_count": null,
      "outputs": []
    },
    {
      "cell_type": "code",
      "source": [
        "d6.replace([np.inf, -np.inf], np.nan, inplace=True)    #replacing very large values with Nan\n",
        "d6.drop(d6.tail(1).index, #dropping the first and last rows from dataframe\n",
        "        inplace = True)\n",
        "d6.drop(d6.head(1).index,\n",
        "        inplace = True)\n",
        "\n",
        "pd.set_option('mode.use_inf_as_na', True)\n",
        "d6.dropna(how='any', inplace=True)       #dropping rows with Nan values from new dataframe\n",
        "# check = d6[d6.isna().any(axis=1)]\n",
        "\n",
        "# d6.drop(['Duration'],axis=1)"
      ],
      "metadata": {
        "id": "BJg6QTsocJ7Y"
      },
      "execution_count": null,
      "outputs": []
    },
    {
      "cell_type": "code",
      "source": [
        "d6.reset_index(inplace=True)\n",
        "for i in range(500):\n",
        "    plt.plot([d6['Source_Lat'][i],d6['Dest_Lat'][i]],[d6['Source_Long'][i],d6['Dest_Long'][i]])"
      ],
      "metadata": {
        "id": "JkHRHq7g-Qk8"
      },
      "execution_count": null,
      "outputs": []
    },
    {
      "cell_type": "code",
      "source": [
        "X_train=d6.drop(['Duration'],axis=1) #creating training dataset \n",
        "#dropping Duration attribute"
      ],
      "metadata": {
        "id": "ISycrFmbdUv5"
      },
      "execution_count": null,
      "outputs": []
    },
    {
      "cell_type": "code",
      "source": [
        "X_train"
      ],
      "metadata": {
        "id": "lVkI7g69hi1m"
      },
      "execution_count": null,
      "outputs": []
    },
    {
      "cell_type": "code",
      "source": [
        "y_train=d6['Duration']  #creating target variable"
      ],
      "metadata": {
        "id": "dQReycKthpNU"
      },
      "execution_count": null,
      "outputs": []
    },
    {
      "cell_type": "code",
      "source": [
        "y_train"
      ],
      "metadata": {
        "id": "N2SekVU_hwQ1"
      },
      "execution_count": null,
      "outputs": []
    },
    {
      "cell_type": "code",
      "source": [
        "d6.to_parquet('data.parquet.gzip',engine='pyarrow',compression='gzip')"
      ],
      "metadata": {
        "id": "qZtnup0ppSav"
      },
      "execution_count": null,
      "outputs": []
    },
    {
      "cell_type": "code",
      "source": [
        "sns.heatmap(d6.corr(method ='pearson'),annot=True, fmt=\".4f\",cmap=\"crest\")"
      ],
      "metadata": {
        "id": "LIj5bLBgeUo0"
      },
      "execution_count": null,
      "outputs": []
    },
    {
      "cell_type": "code",
      "source": [
        "# d6[d6['Duration']>=720]\n",
        "# len(d6[d6['Distance']>=30])\n",
        "out = pd.cut(d6['Distance'], bins=[-0.1, 0, 0.05, 0.1, 0.2, 0.4, 1, 2, 5, 10, 20, 40, 50], include_lowest=True)\n",
        "out1 = pd.cut(d6['Duration'], bins=[-0.1, 0, 0.1, 0.5, 1, 4, 10, 20, 50, 90, 180, 300, 500, 800, 1200, 1500], include_lowest=True)\n",
        "out1.value_counts()"
      ],
      "metadata": {
        "id": "cdjoOxjtnPLA"
      },
      "execution_count": null,
      "outputs": []
    },
    {
      "cell_type": "code",
      "source": [
        "d6[\"Distance\"].max(),d6[\"Distance\"].min()"
      ],
      "metadata": {
        "id": "PfHQmAAycI5T"
      },
      "execution_count": null,
      "outputs": []
    },
    {
      "cell_type": "code",
      "source": [
        "!pip install scipy"
      ],
      "metadata": {
        "id": "f3qSvt004zPR"
      },
      "execution_count": null,
      "outputs": []
    },
    {
      "cell_type": "code",
      "source": [
        "\n",
        "import scipy\n",
        "scipy.stats.skew(d6, axis = 0, bias = True)"
      ],
      "metadata": {
        "id": "utoXSM9w4PUJ"
      },
      "execution_count": null,
      "outputs": []
    },
    {
      "cell_type": "code",
      "source": [
        "out.value_counts()"
      ],
      "metadata": {
        "id": "hGhWvu_rc3wr"
      },
      "execution_count": null,
      "outputs": []
    },
    {
      "cell_type": "code",
      "source": [
        "# use this method to create the test data along with the labels\n",
        "def create_test(input,truth):      # pass the X labels and y labels as parameters\n",
        "    test_df = input \n",
        "    distance1=haversine(test_df['Dest_Long'],test_df['Dest_Lat'],test_df['Source_Long'],test_df['Source_Lat'])\n",
        "    test_df['Distance']=distance1         #creating distance attribute\n",
        "    test_df.replace([np.inf, -np.inf], np.nan, inplace=True)      #replacing very large values with Nan\n",
        "    if \"Unnamed: 0\" in truth.columns:\n",
        "        truth.drop(\"Unnamed: 0\",axis=1,inplace=True)\n",
        "    if \"Unnamed: 0\" in test_df.columns:\n",
        "        test_df.drop(\"Unnamed: 0\",axis=1,inplace=True)\n",
        "    test = pd.concat([test_df,truth],axis=1)\n",
        "    return test\n"
      ],
      "metadata": {
        "id": "gI3XHTOJ6e6H"
      },
      "execution_count": null,
      "outputs": []
    },
    {
      "cell_type": "code",
      "source": [
        "test_df=dfInput\n",
        "\n",
        "distance1=haversine(test_df['Dest_Long'],test_df['Dest_Lat'],test_df['Source_Long'],test_df['Source_Lat'])\n",
        "\n",
        "test_df['Distance']=distance1         #creating distance attribute in testing csv\n",
        "\n",
        "# test_df.drop(\"Unnamed: 0\",axis=1,inplace=True) #dropping extra column from testing csv\n",
        "print(test_df.columns)\n",
        "\n",
        "X_test=test_df"
      ],
      "metadata": {
        "id": "okHKSY61hzhB"
      },
      "execution_count": null,
      "outputs": []
    },
    {
      "cell_type": "code",
      "source": [
        "test_df[\"Distance\"].mean()\n",
        "test_df[\"Distance\"].median()\n",
        "print(test_df[\"Distance\"].max())\n",
        "print(test_df[\"Distance\"].min())"
      ],
      "metadata": {
        "id": "EfgNb424aFnn"
      },
      "execution_count": null,
      "outputs": []
    },
    {
      "cell_type": "code",
      "source": [
        "X_test.replace([np.inf, -np.inf], np.nan, inplace=True) #replacing very large values with Nan\n"
      ],
      "metadata": {
        "id": "FnQwO1S-mOIZ"
      },
      "execution_count": null,
      "outputs": []
    },
    {
      "cell_type": "code",
      "source": [
        "#checking for Nan value of distance in testing csv\n",
        "X = X_test['Distance'].isna()\n",
        "c=0\n",
        "for i in X:\n",
        "  if i :\n",
        "    print(X_test[c])\n",
        "  c+=1\n",
        "print(c)\n"
      ],
      "metadata": {
        "id": "hHPBexvJkF-x"
      },
      "execution_count": null,
      "outputs": []
    },
    {
      "cell_type": "code",
      "source": [
        "y_test=dfGroundTruth\n",
        "print(y_test.columns)\n",
        "# y_test.drop(\"Unnamed: 0\",axis=1,inplace=True)"
      ],
      "metadata": {
        "id": "LMH36o2Hh5p6"
      },
      "execution_count": null,
      "outputs": []
    },
    {
      "cell_type": "code",
      "source": [
        "y_test=y_test['TT']\n",
        "# X_test.drop('TT',axis=1)"
      ],
      "metadata": {
        "id": "SwTAYcHQsikf"
      },
      "execution_count": null,
      "outputs": []
    },
    {
      "cell_type": "code",
      "source": [
        "test=pd.concat([X_test,y_test], axis=1)  \n",
        "# X_test.dropna(how='any', inplace=True) #dropping  rows containing Nan values from dataset"
      ],
      "metadata": {
        "id": "i41q2dXVryqX"
      },
      "execution_count": null,
      "outputs": []
    },
    {
      "cell_type": "code",
      "source": [
        "test\n",
        "speed=test[\"Distance\"]/test[\"TT\"]\n",
        "speed.min()"
      ],
      "metadata": {
        "id": "jw7sdGrBLG54"
      },
      "execution_count": null,
      "outputs": []
    },
    {
      "cell_type": "markdown",
      "source": [
        "# Linear Regression Model"
      ],
      "metadata": {
        "id": "5wFNDfnX_rFF"
      }
    },
    {
      "cell_type": "code",
      "source": [
        "reg_model=LinearRegression() \n",
        "reg_model.fit(X_train, y_train)"
      ],
      "metadata": {
        "id": "w3JqnOv2jJ9o"
      },
      "execution_count": null,
      "outputs": []
    },
    {
      "cell_type": "code",
      "source": [
        "#test = test[(test['Source_Lat']>12.95)&(test['Source_Lat']<=13.00)&(test['Source_Long']>77.55)&(test['Source_Long']<=77.60)]"
      ],
      "metadata": {
        "id": "nrGnUG69HiLB"
      },
      "execution_count": null,
      "outputs": []
    },
    {
      "cell_type": "code",
      "source": [
        "test.columns"
      ],
      "metadata": {
        "id": "gguATuwDpIJT"
      },
      "execution_count": null,
      "outputs": []
    },
    {
      "cell_type": "code",
      "source": [
        "y_test=test['TT']"
      ],
      "metadata": {
        "id": "jx0tmfiQph-j"
      },
      "execution_count": null,
      "outputs": []
    },
    {
      "cell_type": "code",
      "source": [
        "test.corr(method ='pearson')"
      ],
      "metadata": {
        "id": "kksClSiZcAkj"
      },
      "execution_count": null,
      "outputs": []
    },
    {
      "cell_type": "code",
      "source": [
        "test.drop(\"TT\",axis=1,inplace=True)"
      ],
      "metadata": {
        "id": "BVQAa2eHpoOM"
      },
      "execution_count": null,
      "outputs": []
    },
    {
      "cell_type": "code",
      "source": [
        "test.drop(\"Unnamed: 0\",axis=1,inplace=True)"
      ],
      "metadata": {
        "id": "n2leVJKNq2pL"
      },
      "execution_count": null,
      "outputs": []
    },
    {
      "cell_type": "code",
      "source": [
        "print(\"rmse\",reg_model.score(test, y_test))"
      ],
      "metadata": {
        "id": "qjAkZzwojYn2"
      },
      "execution_count": null,
      "outputs": []
    },
    {
      "cell_type": "code",
      "source": [
        "\n",
        "pred = reg_model.predict(test)\n",
        "print(\"mae = \",mean_absolute_error(y_test,pred))"
      ],
      "metadata": {
        "id": "mVfm6S9poZ9N"
      },
      "execution_count": null,
      "outputs": []
    },
    {
      "cell_type": "code",
      "source": [
        "pred = pd.DataFrame(pred)\n",
        "check = pd.concat([y_test,pred],axis=1)\n",
        "check = check.sort_values(by='TT')\n",
        "check\n",
        "plt.figure(figsize=(10,10))\n",
        "plt.plot(check['TT'],check[0])\n"
      ],
      "metadata": {
        "id": "C-rbmSIvCgcm"
      },
      "execution_count": null,
      "outputs": []
    },
    {
      "cell_type": "markdown",
      "source": [],
      "metadata": {
        "id": "xuBNPj_4XZK1"
      }
    },
    {
      "cell_type": "markdown",
      "source": [
        "# Random Forest Model"
      ],
      "metadata": {
        "id": "q3iQL14-_QaM"
      }
    },
    {
      "cell_type": "code",
      "source": [
        "#Xtrain,Xtest,ytrain,ytest = train_test_split(X_train,y_train, train_size = 0.6, random_state=42,shuffle=False) "
      ],
      "metadata": {
        "id": "iQLhY64I6bck"
      },
      "execution_count": null,
      "outputs": []
    },
    {
      "cell_type": "markdown",
      "source": [],
      "metadata": {
        "id": "D_r30HPb8YEv"
      }
    },
    {
      "cell_type": "code",
      "source": [
        "# forest_model = RandomForestRegressor(random_state=1,oob_score=True,)\n",
        "# forest_model.fit(X_train, y_train)\n",
        "# #print(\"yes\")"
      ],
      "metadata": {
        "id": "rFp612Om-PUt"
      },
      "execution_count": null,
      "outputs": []
    },
    {
      "cell_type": "code",
      "source": [
        "forest_model = RandomForestRegressor(random_state=1,oob_score=True,)\n",
        "forest_model.fit(X_train.head(18000), y_train.head(18000))"
      ],
      "metadata": {
        "id": "aSFRkmFssfT8"
      },
      "execution_count": null,
      "outputs": []
    },
    {
      "cell_type": "code",
      "source": [
        "pred = forest_model.predict(test)\n",
        "print(\"Mean absolute error obtained is:\",mean_absolute_error(y_test, pred))"
      ],
      "metadata": {
        "id": "9SWboOXP32nq"
      },
      "execution_count": null,
      "outputs": []
    },
    {
      "cell_type": "code",
      "source": [
        "#dfInput['ETT']=pred"
      ],
      "metadata": {
        "id": "Ka2U-kZoTZMP"
      },
      "execution_count": null,
      "outputs": []
    },
    {
      "cell_type": "code",
      "source": [
        "#dfInput"
      ],
      "metadata": {
        "id": "C-cGeI22sgLY"
      },
      "execution_count": null,
      "outputs": []
    },
    {
      "cell_type": "code",
      "source": [
        "dfGroundTruth"
      ],
      "metadata": {
        "id": "CK9Vhkwuq69h"
      },
      "execution_count": null,
      "outputs": []
    },
    {
      "cell_type": "markdown",
      "source": [
        "# For Evaluation\n",
        "function for evauation\n",
        "  2. Function arguments:\n",
        "    \n",
        "    a. df: It is a pandas dataframe that contains the data from BMTC.parquet.gzip\n",
        "   \n",
        "    b. dfInput: It is a pandas dataframe that contains the input from Input.csv\n",
        "\n",
        "3. Returns:\n",
        "\n",
        "    a. dfOutput: It is a pandas dataframe that contains the output\n"
      ],
      "metadata": {
        "id": "XLzoz2WNtPZ9"
      }
    },
    {
      "cell_type": "code",
      "source": [
        "def EstimatedTravelTime(df, dfInput): # The output of this function will be evaluated\n",
        "    # Function body - Begins\n",
        "    # Make changes here.  \n",
        "                              \n",
        "    dfOutput = pd.DataFrame()\n",
        "\n",
        "\n",
        "    # Function body - Ends\n",
        "    return dfOutput"
      ],
      "metadata": {
        "id": "P09_kbGatHJL"
      },
      "execution_count": null,
      "outputs": []
    },
    {
      "cell_type": "code",
      "source": [
        "dfOutput = EstimatedTravelTime(df, dfInput)"
      ],
      "metadata": {
        "id": "ZEPtfj5StN9r"
      },
      "execution_count": null,
      "outputs": []
    },
    {
      "cell_type": "code",
      "source": [
        "bus_df= pd.read_parquet('/content/drive/MyDrive/Data/BMTC.parquet.gzip', engine='pyarrow')\n",
        "# bus_df=bus_df.drop([\"BusID\",\"Speed\"],axis=1)\n",
        "# source=bus_df.sample(n=400,replace=True,random_state=1)\n",
        "\n",
        "# source.rename(columns = {'Latitude':'Source_Lat',\"Longitude\":\"Source_Long\",\"Timestamp\":\"t1\"}, inplace = True)\n",
        "# source.reset_index(inplace = True)\n",
        "# destination=bus_df.sample(n=400,random_state=2)\n",
        "# destination.reset_index(inplace = True)\n",
        "# destination.rename(columns = {'Latitude':'Dest_Lat',\"Longitude\":\"Dest_Long\",\"Timestamp\":\"t2\"}, inplace = True)\n",
        "# merge_df=pd.concat([source,destination],axis=1)\n",
        "#merge_df=pd.merge(source,destination,axis=1,)"
      ],
      "metadata": {
        "id": "sC5Ez0BlvroL"
      },
      "execution_count": null,
      "outputs": []
    },
    {
      "cell_type": "code",
      "source": [
        "#bus_df=bus_df.groupby('BusID')"
      ],
      "metadata": {
        "id": "wW18W3uYHAO_"
      },
      "execution_count": null,
      "outputs": []
    },
    {
      "cell_type": "code",
      "source": [
        "# merge_df.columns\n",
        "# merge_df[\"Distance\"]=haversine(merge_df['Dest_Long'],merge_df['Dest_Lat'],merge_df['Source_Long'],merge_df['Source_Lat'])\n",
        "# time=merge_df\n",
        "# merge_df[\"Duration\"]="
      ],
      "metadata": {
        "id": "scqnniFczqMI"
      },
      "execution_count": null,
      "outputs": []
    },
    {
      "cell_type": "code",
      "source": [
        "bus_df.drop(\"Speed\",axis=1,inplace=True)"
      ],
      "metadata": {
        "id": "EraEOYu6HaXI"
      },
      "execution_count": null,
      "outputs": []
    },
    {
      "cell_type": "code",
      "source": [
        "\n",
        "bus_df=bus_df.groupby('BusID').apply(lambda x: x.sample(2)).reset_index(drop=True)\n",
        "\n",
        "bus_df.rename(columns = {'Latitude':'Source_Lat', 'Longitude':'Source_Long',\"Timestamp\":\"t1\"}, inplace = True) \n",
        "\n",
        "shifted_df=bus_df.shift(1)\n",
        "shifted_df.rename(columns = {'Source_Lat':'Dest_Lat', 'Source_Long':'Dest_Long',\"t1\":\"t2\"}, inplace = True)\n",
        "final_df=pd.concat([bus_df,shifted_df], axis=1)\n"
      ],
      "metadata": {
        "id": "TTQpinCECks7"
      },
      "execution_count": null,
      "outputs": []
    },
    {
      "cell_type": "code",
      "source": [
        "final_df=final_df.iloc[1::2].reset_index()"
      ],
      "metadata": {
        "id": "qsS92IGSLb6a"
      },
      "execution_count": null,
      "outputs": []
    },
    {
      "cell_type": "code",
      "source": [
        "\n",
        "time=abs(final_df[\"t2\"]-final_df[\"t1\"])\n",
        "\n",
        "final_df[\"Distance\"]=haversine(final_df['Dest_Long'],final_df['Dest_Lat'],final_df['Source_Long'],final_df['Source_Lat'])\n",
        "final_df[\"Duration\"]=time.apply(lambda x: x.seconds/60)"
      ],
      "metadata": {
        "id": "CouUJ1YZGFXE"
      },
      "execution_count": null,
      "outputs": []
    },
    {
      "cell_type": "code",
      "source": [
        "test_df=final_df.drop(columns=[\"index\",\"BusID\",\"t1\",\"BusID\",\"t2\"])"
      ],
      "metadata": {
        "id": "oPgHdu_1JUtX"
      },
      "execution_count": null,
      "outputs": []
    },
    {
      "cell_type": "code",
      "source": [
        "final_df"
      ],
      "metadata": {
        "id": "NI6AMZzHLP_-"
      },
      "execution_count": null,
      "outputs": []
    },
    {
      "cell_type": "code",
      "source": [
        "test_df"
      ],
      "metadata": {
        "id": "GPuw3a8pH7B1"
      },
      "execution_count": null,
      "outputs": []
    },
    {
      "cell_type": "code",
      "source": [
        "test_df[\"speed\"]=test_df[\"Distance\"]/test_df[\"Duration\"] #speed in km/min"
      ],
      "metadata": {
        "id": "yJk6pFx_J_Bb"
      },
      "execution_count": null,
      "outputs": []
    },
    {
      "cell_type": "code",
      "source": [
        "test_df"
      ],
      "metadata": {
        "id": "9OhTWIG3KQLF"
      },
      "execution_count": null,
      "outputs": []
    },
    {
      "cell_type": "code",
      "source": [
        "#test_df=test_df.sort_values(by=[\"speed\"],axis=0,ascending=False,na_position=\"last\",ignore_index=True)"
      ],
      "metadata": {
        "id": "D16TyVdTII-7"
      },
      "execution_count": null,
      "outputs": []
    },
    {
      "cell_type": "code",
      "source": [
        "test_df=test_df[test_df[\"speed\"]>0.02] #0.02km/min =1.2km/hr"
      ],
      "metadata": {
        "id": "3SULhNYgL5A-"
      },
      "execution_count": null,
      "outputs": []
    },
    {
      "cell_type": "code",
      "source": [
        "test_df.reset_index()"
      ],
      "metadata": {
        "id": "CZBkgyfhMCVU"
      },
      "execution_count": null,
      "outputs": []
    },
    {
      "cell_type": "code",
      "source": [
        "bus_df= pd.read_parquet('/content/drive/MyDrive/Data/BMTC.parquet.gzip', engine='pyarrow')"
      ],
      "metadata": {
        "id": "ONXheRtqMTxm"
      },
      "execution_count": null,
      "outputs": []
    },
    {
      "cell_type": "code",
      "source": [
        "g=bus_df.groupby('BusID')"
      ],
      "metadata": {
        "id": "8o4F5U_5X5NZ"
      },
      "execution_count": null,
      "outputs": []
    },
    {
      "cell_type": "code",
      "source": [
        "import random \n",
        "# random.sample(range(1, 50), 7)"
      ],
      "metadata": {
        "id": "qmYT4CX-ZyeG"
      },
      "execution_count": null,
      "outputs": []
    },
    {
      "cell_type": "code",
      "source": [],
      "metadata": {
        "id": "-nqlw1Vxar76"
      },
      "execution_count": null,
      "outputs": []
    },
    {
      "cell_type": "code",
      "source": [
        "random_df=g.nth([100,600])"
      ],
      "metadata": {
        "id": "wfyLVKdAYBKv"
      },
      "execution_count": null,
      "outputs": []
    },
    {
      "cell_type": "markdown",
      "source": [
        "# AutoML"
      ],
      "metadata": {
        "id": "F9fe63zYZktT"
      }
    },
    {
      "cell_type": "code",
      "source": [
        "#!apt install -y build-essential swig curl"
      ],
      "metadata": {
        "id": "9kBXiS9BadRm"
      },
      "execution_count": null,
      "outputs": []
    },
    {
      "cell_type": "code",
      "source": [
        "# !pip install auto-sklearn"
      ],
      "metadata": {
        "id": "JwqK6AXU2DHN"
      },
      "execution_count": null,
      "outputs": []
    },
    {
      "cell_type": "code",
      "source": [
        "# Install packages\n",
        "# !curl https://raw.githubusercontent.com/automl/auto-sklearn/master/requirements.txt | xargs -n 1 -L 1 pip install\n",
        "# !pip install auto-sklearn"
      ],
      "metadata": {
        "id": "6hgd3gZTF9e5"
      },
      "execution_count": null,
      "outputs": []
    },
    {
      "cell_type": "code",
      "source": [
        "# from autosklearn.regression import AutoSklearnRegressor\n",
        "# # Create the AutoSklearnRegessor\n",
        "# sklearn = AutoSklearnRegressor(time_left_for_this_task=360,per_run_time_limit=30,memory_limit=5000,n_jobs=-1)\n",
        "# # Fit the training data\n",
        "# sklearn.fit(Xtrain, ytrain)\n",
        "# # Sprint Statistics\n",
        "# print(sklearn.sprint_statistics())\n",
        "# # Predict the validation data\n",
        "# pred_sklearn = sklearn.predict(X_test)\n",
        "# # Compute the RMSE\n",
        "# rmse_sklearn=MSE(y_test, pred_sklearn)**0.5\n",
        "# print('RMSE: ' + str(rmse_sklearn))"
      ],
      "metadata": {
        "id": "aw8BukKZ3jZ3"
      },
      "execution_count": null,
      "outputs": []
    },
    {
      "cell_type": "code",
      "source": [
        "# sklearn.get_models_with_weights()"
      ],
      "metadata": {
        "id": "zi6Oc-z097qN"
      },
      "execution_count": null,
      "outputs": []
    },
    {
      "cell_type": "code",
      "source": [
        "# sklearn.leaderboard()"
      ],
      "metadata": {
        "id": "V4LpP7Dw-IJL"
      },
      "execution_count": null,
      "outputs": []
    },
    {
      "cell_type": "code",
      "source": [
        "# from autosklearn.regression import AutoSklearnRegressor\n",
        "# # Create the AutoSklearnRegessor\n",
        "# sklearn = AutoSklearnRegressor(time_left_for_this_task=360,per_run_time_limit=45,memory_limit=5500,n_jobs=-1)\n",
        "# # Fit the training data\n",
        "# sklearn.fit(Xtrain, ytrain)\n",
        "# # Sprint Statistics\n",
        "# print(sklearn.sprint_statistics())\n",
        "# # Predict the validation data\n",
        "# pred_sklearn = sklearn.predict(X_test)\n",
        "# # Compute the RMSE\n",
        "# rmse_sklearn=MSE(y_test, pred_sklearn)**0.5\n",
        "# print('RMSE: ' + str(rmse_sklearn))"
      ],
      "metadata": {
        "id": "kaOkbJPuqD-O"
      },
      "execution_count": null,
      "outputs": []
    },
    {
      "cell_type": "code",
      "source": [
        "# sklearn.leaderboard()"
      ],
      "metadata": {
        "id": "g9Y-YZVW-mLp"
      },
      "execution_count": null,
      "outputs": []
    },
    {
      "cell_type": "code",
      "source": [
        "# from autosklearn.regression import AutoSklearnRegressor\n",
        "# # Create the AutoSklearnRegessor\n",
        "# sklearn = AutoSklearnRegressor(time_left_for_this_task=36000,per_run_time_limit=3600,memory_limit=5000,n_jobs=-1)\n",
        "# # Fit the training data\n",
        "# sklearn.fit(Xtrain, ytrain)\n",
        "# # Sprint Statistics\n",
        "# print(sklearn.sprint_statistics())\n",
        "# # Predict the validation data\n",
        "# pred_sklearn = sklearn.predict(X_test)\n",
        "# # Compute the RMSE\n",
        "# rmse_sklearn=MSE(y_test, pred_sklearn)**0.5\n",
        "# print('RMSE: ' + str(rmse_sklearn))"
      ],
      "metadata": {
        "id": "XcKyrGSOv7jy"
      },
      "execution_count": null,
      "outputs": []
    },
    {
      "cell_type": "code",
      "source": [
        "# import matplotlib.pyplot as plt \n",
        "# # Scatter plot true and predicted values\n",
        "# plt.scatter(pred_sklearn, y_val, alpha=0.2)\n",
        "# plt.xlabel('predicted')\n",
        "# plt.ylabel('true value')"
      ],
      "metadata": {
        "id": "SCCE6N6xlqKz"
      },
      "execution_count": null,
      "outputs": []
    },
    {
      "cell_type": "code",
      "source": [],
      "metadata": {
        "id": "BBT32z3pvqX6"
      },
      "execution_count": null,
      "outputs": []
    }
  ]
}