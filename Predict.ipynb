{
  "nbformat": 4,
  "nbformat_minor": 0,
  "metadata": {
    "colab": {
      "provenance": []
    },
    "kernelspec": {
      "name": "python3",
      "display_name": "Python 3"
    },
    "language_info": {
      "name": "python"
    },
    "accelerator": "GPU",
    "gpuClass": "standard"
  },
  "cells": [
    {
      "cell_type": "code",
      "execution_count": 1,
      "metadata": {
        "id": "OicdY7e2XUA5"
      },
      "outputs": [],
      "source": [
        "import pandas as pd"
      ]
    },
    {
      "cell_type": "code",
      "source": [
        "from google.colab import drive\n",
        "drive.mount('/content/drive')"
      ],
      "metadata": {
        "colab": {
          "base_uri": "https://localhost:8080/"
        },
        "id": "qC4Q5mgWYUeF",
        "outputId": "54743487-db22-4ede-b67c-1619eb508c63"
      },
      "execution_count": 2,
      "outputs": [
        {
          "output_type": "stream",
          "name": "stdout",
          "text": [
            "Drive already mounted at /content/drive; to attempt to forcibly remount, call drive.mount(\"/content/drive\", force_remount=True).\n"
          ]
        }
      ]
    },
    {
      "cell_type": "markdown",
      "source": [
        "# Loading data"
      ],
      "metadata": {
        "id": "HN2narI9_1Pd"
      }
    },
    {
      "cell_type": "code",
      "source": [
        "df = pd.read_parquet('/content/drive/MyDrive/Data/BMTC.parquet.gzip', engine='pyarrow') # This command loads BMTC data into a dataframe. \n",
        "                                                                      # In case of error, install pyarrow using: \n",
        "                                                                      # pip install pyarrow\n",
        "dfInput = pd.read_csv('/content/drive/MyDrive/Data/Input.csv')\n",
        "dfGroundTruth = pd.read_csv('/content/drive/MyDrive/Data/GroundTruth.csv')"
      ],
      "metadata": {
        "id": "q55fwfyJYZUB"
      },
      "execution_count": 3,
      "outputs": []
    },
    {
      "cell_type": "markdown",
      "source": [
        "# EDA"
      ],
      "metadata": {
        "id": "fhPgwvyV_7Qc"
      }
    },
    {
      "cell_type": "code",
      "source": [
        "g1=df.groupby('BusID')\n",
        "unique=df.BusID.unique()"
      ],
      "metadata": {
        "id": "yj96k9CKY7Az"
      },
      "execution_count": 4,
      "outputs": []
    },
    {
      "cell_type": "code",
      "source": [
        "d1 = df.drop_duplicates(subset=['Latitude','Longitude','Speed'],keep=(\"first\"),inplace=False)\n",
        "d2 = df.drop_duplicates(subset=['Latitude','Longitude','Speed'],keep=(\"last\"),inplace=False)\n",
        "d3 = pd.concat([d1,d2.loc[set(d2.index) - set(d1.index)]])"
      ],
      "metadata": {
        "id": "r90ltSM0Zgds"
      },
      "execution_count": 5,
      "outputs": []
    },
    {
      "cell_type": "code",
      "source": [
        "import numpy as np\n",
        "#haversine\n",
        "from numpy import radians, cos, sin, arcsin, sqrt\n",
        "\n",
        "def haversine(lon1, lat1, lon2, lat2):\n",
        "    \"\"\"\n",
        "    Calculate the great circle distance between two points \n",
        "    on the earth (specified in decimal degrees)\n",
        "    \"\"\"\n",
        "\n",
        "    #Convert decimal degrees to Radians:\n",
        "    lon1 = np.radians(lon1.values)\n",
        "    lat1 = np.radians(lat1.values)\n",
        "    lon2 = np.radians(lon2.values)\n",
        "    lat2 = np.radians(lat2.values)\n",
        "\n",
        "    #Implementing Haversine Formula: \n",
        "    dlon = np.subtract(lon2, lon1)\n",
        "    dlat = np.subtract(lat2, lat1)\n",
        "\n",
        "    a = np.add(np.power(np.sin(np.divide(dlat, 2)), 2),  \n",
        "                          np.multiply(np.cos(lat1), \n",
        "                                      np.multiply(np.cos(lat2), \n",
        "                                                  np.power(np.sin(np.divide(dlon, 2)), 2))))\n",
        "    c = np.multiply(2, np.arcsin(np.sqrt(a)))\n",
        "    r = 6371\n",
        "\n",
        "    return c*r"
      ],
      "metadata": {
        "id": "S5uGEqw_ZoEw"
      },
      "execution_count": 6,
      "outputs": []
    },
    {
      "cell_type": "code",
      "source": [
        "from datetime import datetime\n",
        "def time_delta(initial,final):\n",
        "                       # Now\n",
        "  final1=datetime(final)\n",
        "  initial1=datetime(initial)\n",
        "  duration = final1-initial1                        # For build-in functions\n",
        "  duration_in_s = duration.total_seconds()\n",
        "        # Total number of seconds between dates\n",
        "  return duration_in_s"
      ],
      "metadata": {
        "id": "eLzafWzGaayv"
      },
      "execution_count": 7,
      "outputs": []
    },
    {
      "cell_type": "code",
      "source": [
        "d4=d3.loc[:,[\"Latitude\",'Longitude']]\n",
        "d7=d3.shift(1)\n",
        "d5=d4.shift(periods=1, freq=None, axis=0)\n",
        "d5.rename(columns = {'Latitude':'Source_Lat', 'Longitude':'Source_Long'}, inplace = True)\n",
        "d4.rename(columns = {'Latitude':'Dest_Lat', 'Longitude':'Dest_Long'}, inplace = True)\n",
        "d6=pd.concat([d5,d4], axis=1)\n",
        "distance=haversine(d4['Dest_Long'],d4['Dest_Lat'],d5['Source_Long'],d5['Source_Lat'])\n",
        "time=d3['Timestamp']-d7['Timestamp']\n",
        "time=time.apply(lambda x: x.seconds/60)\n",
        "d6['Distance']=distance\n",
        "d6['Duration']=time\n",
        "\n",
        "\n",
        "# speed=d6['Distance']/d6['Duration']\n",
        "# d6['Speed']=speed\n",
        "\n",
        "\n"
      ],
      "metadata": {
        "id": "CZdW1ourypyV"
      },
      "execution_count": 8,
      "outputs": []
    },
    {
      "cell_type": "code",
      "source": [
        "\n",
        "d6.columns\n",
        "\n",
        "d6.columns"
      ],
      "metadata": {
        "colab": {
          "base_uri": "https://localhost:8080/"
        },
        "id": "itB7VvyuatlB",
        "outputId": "8b27a5df-7bf9-4659-feba-58600b8fc124"
      },
      "execution_count": 9,
      "outputs": [
        {
          "output_type": "execute_result",
          "data": {
            "text/plain": [
              "Index(['Source_Lat', 'Source_Long', 'Dest_Lat', 'Dest_Long', 'Distance',\n",
              "       'Duration'],\n",
              "      dtype='object')"
            ]
          },
          "metadata": {},
          "execution_count": 9
        }
      ]
    },
    {
      "cell_type": "code",
      "source": [
        "d6.head()"
      ],
      "metadata": {
        "colab": {
          "base_uri": "https://localhost:8080/",
          "height": 206
        },
        "id": "larLmW-rcGsN",
        "outputId": "5a8aef6d-e037-43e5-f75f-e39c5c97a008"
      },
      "execution_count": 10,
      "outputs": [
        {
          "output_type": "execute_result",
          "data": {
            "text/plain": [
              "     Source_Lat  Source_Long   Dest_Lat  Dest_Long  Distance   Duration\n",
              "0           NaN          NaN  13.074558  77.445549       NaN        NaN\n",
              "152   13.074558    77.445549  13.074558  77.445549  0.000000  25.233333\n",
              "153   13.074558    77.445549  13.074113  77.445282  0.057313   0.166667\n",
              "154   13.074113    77.445282  13.074060  77.445267  0.006113   0.166667\n",
              "173   13.074060    77.445267  13.074060  77.445267  0.000000   3.150000"
            ],
            "text/html": [
              "\n",
              "  <div id=\"df-7d77b117-f60b-4196-bc9c-e1527e68b944\">\n",
              "    <div class=\"colab-df-container\">\n",
              "      <div>\n",
              "<style scoped>\n",
              "    .dataframe tbody tr th:only-of-type {\n",
              "        vertical-align: middle;\n",
              "    }\n",
              "\n",
              "    .dataframe tbody tr th {\n",
              "        vertical-align: top;\n",
              "    }\n",
              "\n",
              "    .dataframe thead th {\n",
              "        text-align: right;\n",
              "    }\n",
              "</style>\n",
              "<table border=\"1\" class=\"dataframe\">\n",
              "  <thead>\n",
              "    <tr style=\"text-align: right;\">\n",
              "      <th></th>\n",
              "      <th>Source_Lat</th>\n",
              "      <th>Source_Long</th>\n",
              "      <th>Dest_Lat</th>\n",
              "      <th>Dest_Long</th>\n",
              "      <th>Distance</th>\n",
              "      <th>Duration</th>\n",
              "    </tr>\n",
              "  </thead>\n",
              "  <tbody>\n",
              "    <tr>\n",
              "      <th>0</th>\n",
              "      <td>NaN</td>\n",
              "      <td>NaN</td>\n",
              "      <td>13.074558</td>\n",
              "      <td>77.445549</td>\n",
              "      <td>NaN</td>\n",
              "      <td>NaN</td>\n",
              "    </tr>\n",
              "    <tr>\n",
              "      <th>152</th>\n",
              "      <td>13.074558</td>\n",
              "      <td>77.445549</td>\n",
              "      <td>13.074558</td>\n",
              "      <td>77.445549</td>\n",
              "      <td>0.000000</td>\n",
              "      <td>25.233333</td>\n",
              "    </tr>\n",
              "    <tr>\n",
              "      <th>153</th>\n",
              "      <td>13.074558</td>\n",
              "      <td>77.445549</td>\n",
              "      <td>13.074113</td>\n",
              "      <td>77.445282</td>\n",
              "      <td>0.057313</td>\n",
              "      <td>0.166667</td>\n",
              "    </tr>\n",
              "    <tr>\n",
              "      <th>154</th>\n",
              "      <td>13.074113</td>\n",
              "      <td>77.445282</td>\n",
              "      <td>13.074060</td>\n",
              "      <td>77.445267</td>\n",
              "      <td>0.006113</td>\n",
              "      <td>0.166667</td>\n",
              "    </tr>\n",
              "    <tr>\n",
              "      <th>173</th>\n",
              "      <td>13.074060</td>\n",
              "      <td>77.445267</td>\n",
              "      <td>13.074060</td>\n",
              "      <td>77.445267</td>\n",
              "      <td>0.000000</td>\n",
              "      <td>3.150000</td>\n",
              "    </tr>\n",
              "  </tbody>\n",
              "</table>\n",
              "</div>\n",
              "      <button class=\"colab-df-convert\" onclick=\"convertToInteractive('df-7d77b117-f60b-4196-bc9c-e1527e68b944')\"\n",
              "              title=\"Convert this dataframe to an interactive table.\"\n",
              "              style=\"display:none;\">\n",
              "        \n",
              "  <svg xmlns=\"http://www.w3.org/2000/svg\" height=\"24px\"viewBox=\"0 0 24 24\"\n",
              "       width=\"24px\">\n",
              "    <path d=\"M0 0h24v24H0V0z\" fill=\"none\"/>\n",
              "    <path d=\"M18.56 5.44l.94 2.06.94-2.06 2.06-.94-2.06-.94-.94-2.06-.94 2.06-2.06.94zm-11 1L8.5 8.5l.94-2.06 2.06-.94-2.06-.94L8.5 2.5l-.94 2.06-2.06.94zm10 10l.94 2.06.94-2.06 2.06-.94-2.06-.94-.94-2.06-.94 2.06-2.06.94z\"/><path d=\"M17.41 7.96l-1.37-1.37c-.4-.4-.92-.59-1.43-.59-.52 0-1.04.2-1.43.59L10.3 9.45l-7.72 7.72c-.78.78-.78 2.05 0 2.83L4 21.41c.39.39.9.59 1.41.59.51 0 1.02-.2 1.41-.59l7.78-7.78 2.81-2.81c.8-.78.8-2.07 0-2.86zM5.41 20L4 18.59l7.72-7.72 1.47 1.35L5.41 20z\"/>\n",
              "  </svg>\n",
              "      </button>\n",
              "      \n",
              "  <style>\n",
              "    .colab-df-container {\n",
              "      display:flex;\n",
              "      flex-wrap:wrap;\n",
              "      gap: 12px;\n",
              "    }\n",
              "\n",
              "    .colab-df-convert {\n",
              "      background-color: #E8F0FE;\n",
              "      border: none;\n",
              "      border-radius: 50%;\n",
              "      cursor: pointer;\n",
              "      display: none;\n",
              "      fill: #1967D2;\n",
              "      height: 32px;\n",
              "      padding: 0 0 0 0;\n",
              "      width: 32px;\n",
              "    }\n",
              "\n",
              "    .colab-df-convert:hover {\n",
              "      background-color: #E2EBFA;\n",
              "      box-shadow: 0px 1px 2px rgba(60, 64, 67, 0.3), 0px 1px 3px 1px rgba(60, 64, 67, 0.15);\n",
              "      fill: #174EA6;\n",
              "    }\n",
              "\n",
              "    [theme=dark] .colab-df-convert {\n",
              "      background-color: #3B4455;\n",
              "      fill: #D2E3FC;\n",
              "    }\n",
              "\n",
              "    [theme=dark] .colab-df-convert:hover {\n",
              "      background-color: #434B5C;\n",
              "      box-shadow: 0px 1px 3px 1px rgba(0, 0, 0, 0.15);\n",
              "      filter: drop-shadow(0px 1px 2px rgba(0, 0, 0, 0.3));\n",
              "      fill: #FFFFFF;\n",
              "    }\n",
              "  </style>\n",
              "\n",
              "      <script>\n",
              "        const buttonEl =\n",
              "          document.querySelector('#df-7d77b117-f60b-4196-bc9c-e1527e68b944 button.colab-df-convert');\n",
              "        buttonEl.style.display =\n",
              "          google.colab.kernel.accessAllowed ? 'block' : 'none';\n",
              "\n",
              "        async function convertToInteractive(key) {\n",
              "          const element = document.querySelector('#df-7d77b117-f60b-4196-bc9c-e1527e68b944');\n",
              "          const dataTable =\n",
              "            await google.colab.kernel.invokeFunction('convertToInteractive',\n",
              "                                                     [key], {});\n",
              "          if (!dataTable) return;\n",
              "\n",
              "          const docLinkHtml = 'Like what you see? Visit the ' +\n",
              "            '<a target=\"_blank\" href=https://colab.research.google.com/notebooks/data_table.ipynb>data table notebook</a>'\n",
              "            + ' to learn more about interactive tables.';\n",
              "          element.innerHTML = '';\n",
              "          dataTable['output_type'] = 'display_data';\n",
              "          await google.colab.output.renderOutput(dataTable, element);\n",
              "          const docLink = document.createElement('div');\n",
              "          docLink.innerHTML = docLinkHtml;\n",
              "          element.appendChild(docLink);\n",
              "        }\n",
              "      </script>\n",
              "    </div>\n",
              "  </div>\n",
              "  "
            ]
          },
          "metadata": {},
          "execution_count": 10
        }
      ]
    },
    {
      "cell_type": "code",
      "source": [
        "d6.replace([np.inf, -np.inf], np.nan, inplace=True)\n",
        "d6.drop(d6.tail(2).index,\n",
        "        inplace = True)\n",
        "d6.drop(d6.head(2).index,\n",
        "        inplace = True)\n",
        "\n",
        "pd.set_option('mode.use_inf_as_na', True)\n",
        "d6.dropna(how='any', inplace=True)\n",
        "# check = d6[d6.isna().any(axis=1)]\n",
        "# check\n",
        "# yy=d6['Duration']\n",
        "# d6.drop(['Duration'],axis=1)"
      ],
      "metadata": {
        "id": "BJg6QTsocJ7Y"
      },
      "execution_count": 11,
      "outputs": []
    },
    {
      "cell_type": "code",
      "source": [
        "d6"
      ],
      "metadata": {
        "colab": {
          "base_uri": "https://localhost:8080/",
          "height": 424
        },
        "id": "EROMyIWdcTvr",
        "outputId": "4169ebd8-8f3a-40ef-cc0b-34a84f137bb5"
      },
      "execution_count": 12,
      "outputs": [
        {
          "output_type": "execute_result",
          "data": {
            "text/plain": [
              "         Source_Lat  Source_Long   Dest_Lat  Dest_Long   Distance     Duration\n",
              "153       13.074558    77.445549  13.074113  77.445282   0.057313     0.166667\n",
              "154       13.074113    77.445282  13.074060  77.445267   0.006113     0.166667\n",
              "173       13.074060    77.445267  13.074060  77.445267   0.000000     3.150000\n",
              "174       13.074060    77.445267  13.074060  77.445267   0.000000     0.166667\n",
              "175       13.074060    77.445267  13.074060  77.445267   0.000000     0.166667\n",
              "...             ...          ...        ...        ...        ...          ...\n",
              "3145719   12.916972    77.586678  13.019111  77.501274  14.650288   300.516667\n",
              "1572856   13.019111    77.501274  12.916972  77.586678  14.650288  1139.800000\n",
              "1572857   12.916972    77.586678  12.916972  77.586678   0.000000     0.166667\n",
              "1572858   12.916972    77.586678  12.916972  77.586678   0.000000     0.166667\n",
              "3670005   12.916972    77.586678  13.039934  77.518570  15.537231   299.700000\n",
              "\n",
              "[4434304 rows x 6 columns]"
            ],
            "text/html": [
              "\n",
              "  <div id=\"df-98d4c76b-c6e6-4158-9490-8b18c5c2e85a\">\n",
              "    <div class=\"colab-df-container\">\n",
              "      <div>\n",
              "<style scoped>\n",
              "    .dataframe tbody tr th:only-of-type {\n",
              "        vertical-align: middle;\n",
              "    }\n",
              "\n",
              "    .dataframe tbody tr th {\n",
              "        vertical-align: top;\n",
              "    }\n",
              "\n",
              "    .dataframe thead th {\n",
              "        text-align: right;\n",
              "    }\n",
              "</style>\n",
              "<table border=\"1\" class=\"dataframe\">\n",
              "  <thead>\n",
              "    <tr style=\"text-align: right;\">\n",
              "      <th></th>\n",
              "      <th>Source_Lat</th>\n",
              "      <th>Source_Long</th>\n",
              "      <th>Dest_Lat</th>\n",
              "      <th>Dest_Long</th>\n",
              "      <th>Distance</th>\n",
              "      <th>Duration</th>\n",
              "    </tr>\n",
              "  </thead>\n",
              "  <tbody>\n",
              "    <tr>\n",
              "      <th>153</th>\n",
              "      <td>13.074558</td>\n",
              "      <td>77.445549</td>\n",
              "      <td>13.074113</td>\n",
              "      <td>77.445282</td>\n",
              "      <td>0.057313</td>\n",
              "      <td>0.166667</td>\n",
              "    </tr>\n",
              "    <tr>\n",
              "      <th>154</th>\n",
              "      <td>13.074113</td>\n",
              "      <td>77.445282</td>\n",
              "      <td>13.074060</td>\n",
              "      <td>77.445267</td>\n",
              "      <td>0.006113</td>\n",
              "      <td>0.166667</td>\n",
              "    </tr>\n",
              "    <tr>\n",
              "      <th>173</th>\n",
              "      <td>13.074060</td>\n",
              "      <td>77.445267</td>\n",
              "      <td>13.074060</td>\n",
              "      <td>77.445267</td>\n",
              "      <td>0.000000</td>\n",
              "      <td>3.150000</td>\n",
              "    </tr>\n",
              "    <tr>\n",
              "      <th>174</th>\n",
              "      <td>13.074060</td>\n",
              "      <td>77.445267</td>\n",
              "      <td>13.074060</td>\n",
              "      <td>77.445267</td>\n",
              "      <td>0.000000</td>\n",
              "      <td>0.166667</td>\n",
              "    </tr>\n",
              "    <tr>\n",
              "      <th>175</th>\n",
              "      <td>13.074060</td>\n",
              "      <td>77.445267</td>\n",
              "      <td>13.074060</td>\n",
              "      <td>77.445267</td>\n",
              "      <td>0.000000</td>\n",
              "      <td>0.166667</td>\n",
              "    </tr>\n",
              "    <tr>\n",
              "      <th>...</th>\n",
              "      <td>...</td>\n",
              "      <td>...</td>\n",
              "      <td>...</td>\n",
              "      <td>...</td>\n",
              "      <td>...</td>\n",
              "      <td>...</td>\n",
              "    </tr>\n",
              "    <tr>\n",
              "      <th>3145719</th>\n",
              "      <td>12.916972</td>\n",
              "      <td>77.586678</td>\n",
              "      <td>13.019111</td>\n",
              "      <td>77.501274</td>\n",
              "      <td>14.650288</td>\n",
              "      <td>300.516667</td>\n",
              "    </tr>\n",
              "    <tr>\n",
              "      <th>1572856</th>\n",
              "      <td>13.019111</td>\n",
              "      <td>77.501274</td>\n",
              "      <td>12.916972</td>\n",
              "      <td>77.586678</td>\n",
              "      <td>14.650288</td>\n",
              "      <td>1139.800000</td>\n",
              "    </tr>\n",
              "    <tr>\n",
              "      <th>1572857</th>\n",
              "      <td>12.916972</td>\n",
              "      <td>77.586678</td>\n",
              "      <td>12.916972</td>\n",
              "      <td>77.586678</td>\n",
              "      <td>0.000000</td>\n",
              "      <td>0.166667</td>\n",
              "    </tr>\n",
              "    <tr>\n",
              "      <th>1572858</th>\n",
              "      <td>12.916972</td>\n",
              "      <td>77.586678</td>\n",
              "      <td>12.916972</td>\n",
              "      <td>77.586678</td>\n",
              "      <td>0.000000</td>\n",
              "      <td>0.166667</td>\n",
              "    </tr>\n",
              "    <tr>\n",
              "      <th>3670005</th>\n",
              "      <td>12.916972</td>\n",
              "      <td>77.586678</td>\n",
              "      <td>13.039934</td>\n",
              "      <td>77.518570</td>\n",
              "      <td>15.537231</td>\n",
              "      <td>299.700000</td>\n",
              "    </tr>\n",
              "  </tbody>\n",
              "</table>\n",
              "<p>4434304 rows × 6 columns</p>\n",
              "</div>\n",
              "      <button class=\"colab-df-convert\" onclick=\"convertToInteractive('df-98d4c76b-c6e6-4158-9490-8b18c5c2e85a')\"\n",
              "              title=\"Convert this dataframe to an interactive table.\"\n",
              "              style=\"display:none;\">\n",
              "        \n",
              "  <svg xmlns=\"http://www.w3.org/2000/svg\" height=\"24px\"viewBox=\"0 0 24 24\"\n",
              "       width=\"24px\">\n",
              "    <path d=\"M0 0h24v24H0V0z\" fill=\"none\"/>\n",
              "    <path d=\"M18.56 5.44l.94 2.06.94-2.06 2.06-.94-2.06-.94-.94-2.06-.94 2.06-2.06.94zm-11 1L8.5 8.5l.94-2.06 2.06-.94-2.06-.94L8.5 2.5l-.94 2.06-2.06.94zm10 10l.94 2.06.94-2.06 2.06-.94-2.06-.94-.94-2.06-.94 2.06-2.06.94z\"/><path d=\"M17.41 7.96l-1.37-1.37c-.4-.4-.92-.59-1.43-.59-.52 0-1.04.2-1.43.59L10.3 9.45l-7.72 7.72c-.78.78-.78 2.05 0 2.83L4 21.41c.39.39.9.59 1.41.59.51 0 1.02-.2 1.41-.59l7.78-7.78 2.81-2.81c.8-.78.8-2.07 0-2.86zM5.41 20L4 18.59l7.72-7.72 1.47 1.35L5.41 20z\"/>\n",
              "  </svg>\n",
              "      </button>\n",
              "      \n",
              "  <style>\n",
              "    .colab-df-container {\n",
              "      display:flex;\n",
              "      flex-wrap:wrap;\n",
              "      gap: 12px;\n",
              "    }\n",
              "\n",
              "    .colab-df-convert {\n",
              "      background-color: #E8F0FE;\n",
              "      border: none;\n",
              "      border-radius: 50%;\n",
              "      cursor: pointer;\n",
              "      display: none;\n",
              "      fill: #1967D2;\n",
              "      height: 32px;\n",
              "      padding: 0 0 0 0;\n",
              "      width: 32px;\n",
              "    }\n",
              "\n",
              "    .colab-df-convert:hover {\n",
              "      background-color: #E2EBFA;\n",
              "      box-shadow: 0px 1px 2px rgba(60, 64, 67, 0.3), 0px 1px 3px 1px rgba(60, 64, 67, 0.15);\n",
              "      fill: #174EA6;\n",
              "    }\n",
              "\n",
              "    [theme=dark] .colab-df-convert {\n",
              "      background-color: #3B4455;\n",
              "      fill: #D2E3FC;\n",
              "    }\n",
              "\n",
              "    [theme=dark] .colab-df-convert:hover {\n",
              "      background-color: #434B5C;\n",
              "      box-shadow: 0px 1px 3px 1px rgba(0, 0, 0, 0.15);\n",
              "      filter: drop-shadow(0px 1px 2px rgba(0, 0, 0, 0.3));\n",
              "      fill: #FFFFFF;\n",
              "    }\n",
              "  </style>\n",
              "\n",
              "      <script>\n",
              "        const buttonEl =\n",
              "          document.querySelector('#df-98d4c76b-c6e6-4158-9490-8b18c5c2e85a button.colab-df-convert');\n",
              "        buttonEl.style.display =\n",
              "          google.colab.kernel.accessAllowed ? 'block' : 'none';\n",
              "\n",
              "        async function convertToInteractive(key) {\n",
              "          const element = document.querySelector('#df-98d4c76b-c6e6-4158-9490-8b18c5c2e85a');\n",
              "          const dataTable =\n",
              "            await google.colab.kernel.invokeFunction('convertToInteractive',\n",
              "                                                     [key], {});\n",
              "          if (!dataTable) return;\n",
              "\n",
              "          const docLinkHtml = 'Like what you see? Visit the ' +\n",
              "            '<a target=\"_blank\" href=https://colab.research.google.com/notebooks/data_table.ipynb>data table notebook</a>'\n",
              "            + ' to learn more about interactive tables.';\n",
              "          element.innerHTML = '';\n",
              "          dataTable['output_type'] = 'display_data';\n",
              "          await google.colab.output.renderOutput(dataTable, element);\n",
              "          const docLink = document.createElement('div');\n",
              "          docLink.innerHTML = docLinkHtml;\n",
              "          element.appendChild(docLink);\n",
              "        }\n",
              "      </script>\n",
              "    </div>\n",
              "  </div>\n",
              "  "
            ]
          },
          "metadata": {},
          "execution_count": 12
        }
      ]
    },
    {
      "cell_type": "code",
      "source": [
        "from sklearn.linear_model import LinearRegression"
      ],
      "metadata": {
        "id": "e9aRHL0qcWLK"
      },
      "execution_count": 13,
      "outputs": []
    },
    {
      "cell_type": "code",
      "source": [
        "X_train=d6.drop(['Duration'],axis=1)"
      ],
      "metadata": {
        "id": "ISycrFmbdUv5"
      },
      "execution_count": 14,
      "outputs": []
    },
    {
      "cell_type": "code",
      "source": [
        "X_train"
      ],
      "metadata": {
        "colab": {
          "base_uri": "https://localhost:8080/",
          "height": 424
        },
        "id": "lVkI7g69hi1m",
        "outputId": "6e6c67c2-b906-45ed-f02f-0af69cb9aa38"
      },
      "execution_count": 15,
      "outputs": [
        {
          "output_type": "execute_result",
          "data": {
            "text/plain": [
              "         Source_Lat  Source_Long   Dest_Lat  Dest_Long   Distance\n",
              "153       13.074558    77.445549  13.074113  77.445282   0.057313\n",
              "154       13.074113    77.445282  13.074060  77.445267   0.006113\n",
              "173       13.074060    77.445267  13.074060  77.445267   0.000000\n",
              "174       13.074060    77.445267  13.074060  77.445267   0.000000\n",
              "175       13.074060    77.445267  13.074060  77.445267   0.000000\n",
              "...             ...          ...        ...        ...        ...\n",
              "3145719   12.916972    77.586678  13.019111  77.501274  14.650288\n",
              "1572856   13.019111    77.501274  12.916972  77.586678  14.650288\n",
              "1572857   12.916972    77.586678  12.916972  77.586678   0.000000\n",
              "1572858   12.916972    77.586678  12.916972  77.586678   0.000000\n",
              "3670005   12.916972    77.586678  13.039934  77.518570  15.537231\n",
              "\n",
              "[4434304 rows x 5 columns]"
            ],
            "text/html": [
              "\n",
              "  <div id=\"df-dbc9bce4-0706-4626-a1de-da6bd23ad35b\">\n",
              "    <div class=\"colab-df-container\">\n",
              "      <div>\n",
              "<style scoped>\n",
              "    .dataframe tbody tr th:only-of-type {\n",
              "        vertical-align: middle;\n",
              "    }\n",
              "\n",
              "    .dataframe tbody tr th {\n",
              "        vertical-align: top;\n",
              "    }\n",
              "\n",
              "    .dataframe thead th {\n",
              "        text-align: right;\n",
              "    }\n",
              "</style>\n",
              "<table border=\"1\" class=\"dataframe\">\n",
              "  <thead>\n",
              "    <tr style=\"text-align: right;\">\n",
              "      <th></th>\n",
              "      <th>Source_Lat</th>\n",
              "      <th>Source_Long</th>\n",
              "      <th>Dest_Lat</th>\n",
              "      <th>Dest_Long</th>\n",
              "      <th>Distance</th>\n",
              "    </tr>\n",
              "  </thead>\n",
              "  <tbody>\n",
              "    <tr>\n",
              "      <th>153</th>\n",
              "      <td>13.074558</td>\n",
              "      <td>77.445549</td>\n",
              "      <td>13.074113</td>\n",
              "      <td>77.445282</td>\n",
              "      <td>0.057313</td>\n",
              "    </tr>\n",
              "    <tr>\n",
              "      <th>154</th>\n",
              "      <td>13.074113</td>\n",
              "      <td>77.445282</td>\n",
              "      <td>13.074060</td>\n",
              "      <td>77.445267</td>\n",
              "      <td>0.006113</td>\n",
              "    </tr>\n",
              "    <tr>\n",
              "      <th>173</th>\n",
              "      <td>13.074060</td>\n",
              "      <td>77.445267</td>\n",
              "      <td>13.074060</td>\n",
              "      <td>77.445267</td>\n",
              "      <td>0.000000</td>\n",
              "    </tr>\n",
              "    <tr>\n",
              "      <th>174</th>\n",
              "      <td>13.074060</td>\n",
              "      <td>77.445267</td>\n",
              "      <td>13.074060</td>\n",
              "      <td>77.445267</td>\n",
              "      <td>0.000000</td>\n",
              "    </tr>\n",
              "    <tr>\n",
              "      <th>175</th>\n",
              "      <td>13.074060</td>\n",
              "      <td>77.445267</td>\n",
              "      <td>13.074060</td>\n",
              "      <td>77.445267</td>\n",
              "      <td>0.000000</td>\n",
              "    </tr>\n",
              "    <tr>\n",
              "      <th>...</th>\n",
              "      <td>...</td>\n",
              "      <td>...</td>\n",
              "      <td>...</td>\n",
              "      <td>...</td>\n",
              "      <td>...</td>\n",
              "    </tr>\n",
              "    <tr>\n",
              "      <th>3145719</th>\n",
              "      <td>12.916972</td>\n",
              "      <td>77.586678</td>\n",
              "      <td>13.019111</td>\n",
              "      <td>77.501274</td>\n",
              "      <td>14.650288</td>\n",
              "    </tr>\n",
              "    <tr>\n",
              "      <th>1572856</th>\n",
              "      <td>13.019111</td>\n",
              "      <td>77.501274</td>\n",
              "      <td>12.916972</td>\n",
              "      <td>77.586678</td>\n",
              "      <td>14.650288</td>\n",
              "    </tr>\n",
              "    <tr>\n",
              "      <th>1572857</th>\n",
              "      <td>12.916972</td>\n",
              "      <td>77.586678</td>\n",
              "      <td>12.916972</td>\n",
              "      <td>77.586678</td>\n",
              "      <td>0.000000</td>\n",
              "    </tr>\n",
              "    <tr>\n",
              "      <th>1572858</th>\n",
              "      <td>12.916972</td>\n",
              "      <td>77.586678</td>\n",
              "      <td>12.916972</td>\n",
              "      <td>77.586678</td>\n",
              "      <td>0.000000</td>\n",
              "    </tr>\n",
              "    <tr>\n",
              "      <th>3670005</th>\n",
              "      <td>12.916972</td>\n",
              "      <td>77.586678</td>\n",
              "      <td>13.039934</td>\n",
              "      <td>77.518570</td>\n",
              "      <td>15.537231</td>\n",
              "    </tr>\n",
              "  </tbody>\n",
              "</table>\n",
              "<p>4434304 rows × 5 columns</p>\n",
              "</div>\n",
              "      <button class=\"colab-df-convert\" onclick=\"convertToInteractive('df-dbc9bce4-0706-4626-a1de-da6bd23ad35b')\"\n",
              "              title=\"Convert this dataframe to an interactive table.\"\n",
              "              style=\"display:none;\">\n",
              "        \n",
              "  <svg xmlns=\"http://www.w3.org/2000/svg\" height=\"24px\"viewBox=\"0 0 24 24\"\n",
              "       width=\"24px\">\n",
              "    <path d=\"M0 0h24v24H0V0z\" fill=\"none\"/>\n",
              "    <path d=\"M18.56 5.44l.94 2.06.94-2.06 2.06-.94-2.06-.94-.94-2.06-.94 2.06-2.06.94zm-11 1L8.5 8.5l.94-2.06 2.06-.94-2.06-.94L8.5 2.5l-.94 2.06-2.06.94zm10 10l.94 2.06.94-2.06 2.06-.94-2.06-.94-.94-2.06-.94 2.06-2.06.94z\"/><path d=\"M17.41 7.96l-1.37-1.37c-.4-.4-.92-.59-1.43-.59-.52 0-1.04.2-1.43.59L10.3 9.45l-7.72 7.72c-.78.78-.78 2.05 0 2.83L4 21.41c.39.39.9.59 1.41.59.51 0 1.02-.2 1.41-.59l7.78-7.78 2.81-2.81c.8-.78.8-2.07 0-2.86zM5.41 20L4 18.59l7.72-7.72 1.47 1.35L5.41 20z\"/>\n",
              "  </svg>\n",
              "      </button>\n",
              "      \n",
              "  <style>\n",
              "    .colab-df-container {\n",
              "      display:flex;\n",
              "      flex-wrap:wrap;\n",
              "      gap: 12px;\n",
              "    }\n",
              "\n",
              "    .colab-df-convert {\n",
              "      background-color: #E8F0FE;\n",
              "      border: none;\n",
              "      border-radius: 50%;\n",
              "      cursor: pointer;\n",
              "      display: none;\n",
              "      fill: #1967D2;\n",
              "      height: 32px;\n",
              "      padding: 0 0 0 0;\n",
              "      width: 32px;\n",
              "    }\n",
              "\n",
              "    .colab-df-convert:hover {\n",
              "      background-color: #E2EBFA;\n",
              "      box-shadow: 0px 1px 2px rgba(60, 64, 67, 0.3), 0px 1px 3px 1px rgba(60, 64, 67, 0.15);\n",
              "      fill: #174EA6;\n",
              "    }\n",
              "\n",
              "    [theme=dark] .colab-df-convert {\n",
              "      background-color: #3B4455;\n",
              "      fill: #D2E3FC;\n",
              "    }\n",
              "\n",
              "    [theme=dark] .colab-df-convert:hover {\n",
              "      background-color: #434B5C;\n",
              "      box-shadow: 0px 1px 3px 1px rgba(0, 0, 0, 0.15);\n",
              "      filter: drop-shadow(0px 1px 2px rgba(0, 0, 0, 0.3));\n",
              "      fill: #FFFFFF;\n",
              "    }\n",
              "  </style>\n",
              "\n",
              "      <script>\n",
              "        const buttonEl =\n",
              "          document.querySelector('#df-dbc9bce4-0706-4626-a1de-da6bd23ad35b button.colab-df-convert');\n",
              "        buttonEl.style.display =\n",
              "          google.colab.kernel.accessAllowed ? 'block' : 'none';\n",
              "\n",
              "        async function convertToInteractive(key) {\n",
              "          const element = document.querySelector('#df-dbc9bce4-0706-4626-a1de-da6bd23ad35b');\n",
              "          const dataTable =\n",
              "            await google.colab.kernel.invokeFunction('convertToInteractive',\n",
              "                                                     [key], {});\n",
              "          if (!dataTable) return;\n",
              "\n",
              "          const docLinkHtml = 'Like what you see? Visit the ' +\n",
              "            '<a target=\"_blank\" href=https://colab.research.google.com/notebooks/data_table.ipynb>data table notebook</a>'\n",
              "            + ' to learn more about interactive tables.';\n",
              "          element.innerHTML = '';\n",
              "          dataTable['output_type'] = 'display_data';\n",
              "          await google.colab.output.renderOutput(dataTable, element);\n",
              "          const docLink = document.createElement('div');\n",
              "          docLink.innerHTML = docLinkHtml;\n",
              "          element.appendChild(docLink);\n",
              "        }\n",
              "      </script>\n",
              "    </div>\n",
              "  </div>\n",
              "  "
            ]
          },
          "metadata": {},
          "execution_count": 15
        }
      ]
    },
    {
      "cell_type": "code",
      "source": [
        "y_train=d6['Duration']"
      ],
      "metadata": {
        "id": "dQReycKthpNU"
      },
      "execution_count": 16,
      "outputs": []
    },
    {
      "cell_type": "code",
      "source": [
        "y_train"
      ],
      "metadata": {
        "colab": {
          "base_uri": "https://localhost:8080/"
        },
        "id": "N2SekVU_hwQ1",
        "outputId": "a343e7db-1fa9-4a5c-dd42-855fa0e6d1c3"
      },
      "execution_count": 17,
      "outputs": [
        {
          "output_type": "execute_result",
          "data": {
            "text/plain": [
              "153           0.166667\n",
              "154           0.166667\n",
              "173           3.150000\n",
              "174           0.166667\n",
              "175           0.166667\n",
              "              ...     \n",
              "3145719     300.516667\n",
              "1572856    1139.800000\n",
              "1572857       0.166667\n",
              "1572858       0.166667\n",
              "3670005     299.700000\n",
              "Name: Duration, Length: 4434304, dtype: float64"
            ]
          },
          "metadata": {},
          "execution_count": 17
        }
      ]
    },
    {
      "cell_type": "code",
      "source": [
        "test_df=pd.read_csv('/content/drive/MyDrive/Data/Input.csv')\n",
        "distance1=haversine(test_df['Dest_Long'],test_df['Dest_Lat'],test_df['Source_Long'],test_df['Source_Lat'])\n",
        "test_df['Distance']=distance1\n",
        "print(test_df.columns)\n",
        "test_df.drop(\"Unnamed: 0\",axis=1,inplace=True)\n",
        "\n",
        "X_test=test_df"
      ],
      "metadata": {
        "colab": {
          "base_uri": "https://localhost:8080/"
        },
        "id": "okHKSY61hzhB",
        "outputId": "27060b05-c328-4528-823b-9e820b1c4e98"
      },
      "execution_count": 18,
      "outputs": [
        {
          "output_type": "stream",
          "name": "stdout",
          "text": [
            "Index(['Unnamed: 0', 'Source_Lat', 'Source_Long', 'Dest_Lat', 'Dest_Long',\n",
            "       'Distance'],\n",
            "      dtype='object')\n"
          ]
        }
      ]
    },
    {
      "cell_type": "code",
      "source": [
        "X_test\n",
        "X = X_test['Distance'].isna()\n",
        "c=0\n",
        "for i in X:\n",
        "  if i :\n",
        "    print(X_test[c])\n",
        "  c+=1\n",
        "print(c)\n"
      ],
      "metadata": {
        "colab": {
          "base_uri": "https://localhost:8080/"
        },
        "id": "hHPBexvJkF-x",
        "outputId": "573aa4f3-69ae-43fd-d337-7346cc9e354d"
      },
      "execution_count": 19,
      "outputs": [
        {
          "output_type": "stream",
          "name": "stdout",
          "text": [
            "1205\n"
          ]
        }
      ]
    },
    {
      "cell_type": "code",
      "source": [
        "X_test.replace([np.inf, -np.inf], np.nan, inplace=True)\n",
        "# X_test.drop(X_test.tail(2).index,\n",
        "#         inplace = True)\n",
        "# X_test.drop(X_test.head(2).index,\n",
        "#         inplace = True)\n",
        "\n",
        "#pd.set_option('mode.use_inf_as_na', True)\n"
      ],
      "metadata": {
        "id": "FnQwO1S-mOIZ"
      },
      "execution_count": 20,
      "outputs": []
    },
    {
      "cell_type": "code",
      "source": [
        "y_test=pd.read_csv('/content/drive/MyDrive/Data/GroundTruth.csv')\n",
        "print(y_test.columns)\n",
        "y_test.drop(\"Unnamed: 0\",axis=1,inplace=True)"
      ],
      "metadata": {
        "colab": {
          "base_uri": "https://localhost:8080/"
        },
        "id": "LMH36o2Hh5p6",
        "outputId": "4d77fa30-8cac-40e8-e6c6-607ae93210e9"
      },
      "execution_count": 21,
      "outputs": [
        {
          "output_type": "stream",
          "name": "stdout",
          "text": [
            "Index(['Unnamed: 0', 'TT'], dtype='object')\n"
          ]
        }
      ]
    },
    {
      "cell_type": "code",
      "source": [
        "X_test=pd.concat([X_test,y_test], axis=1)\n",
        "X_test.dropna(how='any', inplace=True)"
      ],
      "metadata": {
        "id": "i41q2dXVryqX"
      },
      "execution_count": 22,
      "outputs": []
    },
    {
      "cell_type": "code",
      "source": [
        "y_test=X_test['TT']\n",
        "X_test.drop('TT',axis=1,inplace=True)"
      ],
      "metadata": {
        "id": "SwTAYcHQsikf"
      },
      "execution_count": 23,
      "outputs": []
    },
    {
      "cell_type": "markdown",
      "source": [
        "# Linear Regression Model"
      ],
      "metadata": {
        "id": "5wFNDfnX_rFF"
      }
    },
    {
      "cell_type": "code",
      "source": [
        "reg_model=LinearRegression()"
      ],
      "metadata": {
        "id": "w3JqnOv2jJ9o"
      },
      "execution_count": 24,
      "outputs": []
    },
    {
      "cell_type": "code",
      "source": [
        "reg_model.fit(X_train, y_train)"
      ],
      "metadata": {
        "colab": {
          "base_uri": "https://localhost:8080/"
        },
        "id": "psM51fTSjTcT",
        "outputId": "a8bab724-1ac9-4a5b-c911-1e7013f71e62"
      },
      "execution_count": 25,
      "outputs": [
        {
          "output_type": "execute_result",
          "data": {
            "text/plain": [
              "LinearRegression()"
            ]
          },
          "metadata": {},
          "execution_count": 25
        }
      ]
    },
    {
      "cell_type": "code",
      "source": [
        "print(reg_model.score(X_test, y_test))"
      ],
      "metadata": {
        "colab": {
          "base_uri": "https://localhost:8080/"
        },
        "id": "qjAkZzwojYn2",
        "outputId": "a14e5449-fe81-494b-9ac1-d187b25489b6"
      },
      "execution_count": 26,
      "outputs": [
        {
          "output_type": "stream",
          "name": "stdout",
          "text": [
            "-185.51197284254383\n"
          ]
        }
      ]
    },
    {
      "cell_type": "markdown",
      "source": [],
      "metadata": {
        "id": "xuBNPj_4XZK1"
      }
    },
    {
      "cell_type": "markdown",
      "source": [
        "# Random Forest Model"
      ],
      "metadata": {
        "id": "q3iQL14-_QaM"
      }
    },
    {
      "cell_type": "code",
      "source": [
        "from sklearn.ensemble import RandomForestRegressor\n",
        "from sklearn.metrics import mean_absolute_error\n",
        "from tqdm import tqdm\n",
        "import time\n"
      ],
      "metadata": {
        "id": "7NzrlRTWvroZ"
      },
      "execution_count": 27,
      "outputs": []
    },
    {
      "cell_type": "code",
      "source": [
        "from sklearn.model_selection import train_test_split\n",
        "Xtrain,Xtest,ytrain,ytest = train_test_split(X_train,y_train, train_size = 0.006, random_state=42) "
      ],
      "metadata": {
        "id": "iQLhY64I6bck"
      },
      "execution_count": 71,
      "outputs": []
    },
    {
      "cell_type": "markdown",
      "source": [],
      "metadata": {
        "id": "D_r30HPb8YEv"
      }
    },
    {
      "cell_type": "code",
      "source": [
        "forest_model = RandomForestRegressor(random_state=1,oob_score=True,)\n",
        "forest_model.fit(Xtrain,ytrain)\n",
        "print(\"yes\")"
      ],
      "metadata": {
        "colab": {
          "base_uri": "https://localhost:8080/"
        },
        "id": "rFp612Om-PUt",
        "outputId": "4315072d-1ed7-4a8c-ff8c-a9c101575c37"
      },
      "execution_count": 72,
      "outputs": [
        {
          "output_type": "stream",
          "name": "stdout",
          "text": [
            "yes\n"
          ]
        }
      ]
    },
    {
      "cell_type": "code",
      "source": [
        "melb_preds = forest_model.predict(X_test)\n",
        "print(mean_absolute_error(y_test, melb_preds))"
      ],
      "metadata": {
        "colab": {
          "base_uri": "https://localhost:8080/"
        },
        "id": "9SWboOXP32nq",
        "outputId": "80cebe82-cf52-42da-dbe2-0432adf0c2c5"
      },
      "execution_count": 73,
      "outputs": [
        {
          "output_type": "stream",
          "name": "stdout",
          "text": [
            "485.8630272475795\n"
          ]
        }
      ]
    }
  ]
}