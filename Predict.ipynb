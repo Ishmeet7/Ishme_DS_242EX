{
  "nbformat": 4,
  "nbformat_minor": 0,
  "metadata": {
    "colab": {
      "provenance": []
    },
    "kernelspec": {
      "name": "python3",
      "display_name": "Python 3"
    },
    "language_info": {
      "name": "python"
    },
    "accelerator": "GPU",
    "gpuClass": "standard"
  },
  "cells": [
    {
      "cell_type": "markdown",
      "source": [
        "# Installing and Importing packages"
      ],
      "metadata": {
        "id": "r-Oi-plL8Y1B"
      }
    },
    {
      "cell_type": "code",
      "execution_count": 1,
      "metadata": {
        "id": "OicdY7e2XUA5"
      },
      "outputs": [],
      "source": [
        "import pandas as pd #importing libraries\n",
        "import numpy as np\n",
        "from numpy import radians, cos, sin, arcsin, sqrt\n",
        "from sklearn.linear_model import LinearRegression\n",
        "from sklearn.ensemble import RandomForestRegressor\n",
        "from sklearn.metrics import mean_absolute_error\n",
        "from sklearn.model_selection import train_test_split"
      ]
    },
    {
      "cell_type": "code",
      "source": [
        "from google.colab import drive   #mount drive\n",
        "drive.mount('/content/drive')"
      ],
      "metadata": {
        "colab": {
          "base_uri": "https://localhost:8080/"
        },
        "id": "qC4Q5mgWYUeF",
        "outputId": "00878249-3122-4d72-84ad-a2a88fcabecd"
      },
      "execution_count": 2,
      "outputs": [
        {
          "output_type": "stream",
          "name": "stdout",
          "text": [
            "Mounted at /content/drive\n"
          ]
        }
      ]
    },
    {
      "cell_type": "markdown",
      "source": [
        "# Loading data"
      ],
      "metadata": {
        "id": "HN2narI9_1Pd"
      }
    },
    {
      "cell_type": "code",
      "source": [
        "df = pd.read_parquet('/content/drive/MyDrive/Data/BMTC.parquet.gzip', engine='pyarrow') # This command loads BMTC data into a dataframe. \n",
        "                                                                      # In case of error, install pyarrow using: \n",
        "                                                                      # pip install pyarrow\n",
        "dfInput = pd.read_csv('/content/drive/MyDrive/Data/Input.csv')\n",
        "dfGroundTruth = pd.read_csv('/content/drive/MyDrive/Data/GroundTruth.csv')"
      ],
      "metadata": {
        "id": "q55fwfyJYZUB"
      },
      "execution_count": 3,
      "outputs": []
    },
    {
      "cell_type": "markdown",
      "source": [
        "# Exploratory Data Analysis"
      ],
      "metadata": {
        "id": "fhPgwvyV_7Qc"
      }
    },
    {
      "cell_type": "code",
      "source": [
        "g1=df.groupby('BusID') #grouping data using BusID\n",
        "unique=df.BusID.unique()"
      ],
      "metadata": {
        "id": "yj96k9CKY7Az"
      },
      "execution_count": 4,
      "outputs": []
    },
    {
      "cell_type": "markdown",
      "source": [
        "# Preprocessing"
      ],
      "metadata": {
        "id": "B9J5M4xI-EiH"
      }
    },
    {
      "cell_type": "code",
      "source": [
        "d1 = df.drop_duplicates(subset=['Latitude','Longitude','Speed'],keep=(\"first\"),inplace=False)        #If the consecutive rows have same latitude,longitude and speed values keeping only first and last row\n",
        "d2 = df.drop_duplicates(subset=['Latitude','Longitude','Speed'],keep=(\"last\"),inplace=False)\n",
        "d3 = pd.concat([d1,d2.loc[set(d2.index) - set(d1.index)]])"
      ],
      "metadata": {
        "id": "r90ltSM0Zgds"
      },
      "execution_count": 5,
      "outputs": []
    },
    {
      "cell_type": "markdown",
      "source": [
        "# Feature Extraction"
      ],
      "metadata": {
        "id": "EBx7ZZzW-P-O"
      }
    },
    {
      "cell_type": "code",
      "source": [
        "#calculating Haversine distance between two points on earth\n",
        "def haversine(lon1, lat1, lon2, lat2):\n",
        "    \"\"\"\n",
        "    Calculate the great circle distance between two points \n",
        "    on the earth (specified in decimal degrees)\n",
        "    \"\"\"\n",
        "\n",
        "    #Convert decimal degrees to Radians:\n",
        "    lon1 = np.radians(lon1.values)\n",
        "    lat1 = np.radians(lat1.values)\n",
        "    lon2 = np.radians(lon2.values)\n",
        "    lat2 = np.radians(lat2.values)\n",
        "\n",
        "    #Implementing Haversine Formula: \n",
        "    dlon = np.subtract(lon2, lon1)\n",
        "    dlat = np.subtract(lat2, lat1)\n",
        "\n",
        "    a = np.add(np.power(np.sin(np.divide(dlat, 2)), 2),  \n",
        "                          np.multiply(np.cos(lat1), \n",
        "                                      np.multiply(np.cos(lat2), \n",
        "                                                  np.power(np.sin(np.divide(dlon, 2)), 2))))\n",
        "    c = np.multiply(2, np.arcsin(np.sqrt(a)))\n",
        "    r = 6371\n",
        "    \n",
        "    return c*r"
      ],
      "metadata": {
        "id": "S5uGEqw_ZoEw"
      },
      "execution_count": 6,
      "outputs": []
    },
    {
      "cell_type": "code",
      "source": [
        "# from datetime import datetime    #calculating time required to travel distance between two consecutive rows of latitude and logitude\n",
        "# def time_delta(initial,final):\n",
        "                       \n",
        "#   final1=datetime(final)\n",
        "#   initial1=datetime(initial)\n",
        "#   duration = final1-initial1                       \n",
        "#   duration_in_s = duration.total_seconds()\n",
        "#         # Total number of seconds between dates\n",
        "#   return duration_in_s"
      ],
      "metadata": {
        "id": "eLzafWzGaayv"
      },
      "execution_count": 7,
      "outputs": []
    },
    {
      "cell_type": "code",
      "source": [
        "d4=d3.loc[:,[\"Latitude\",'Longitude']]\n",
        "d7=d3.shift(1)             #creating a lag of p=1\n",
        "d5=d4.shift(periods=1, freq=None, axis=0)\n",
        "\n",
        "d5.rename(columns = {'Latitude':'Source_Lat', 'Longitude':'Source_Long'}, inplace = True) #concatanating shifted dataframe to original dataframe and renaming columns\n",
        "d4.rename(columns = {'Latitude':'Dest_Lat', 'Longitude':'Dest_Long'}, inplace = True)\n",
        "d6=pd.concat([d5,d4], axis=1)\n",
        "\n",
        "distance=haversine(d4['Dest_Long'],d4['Dest_Lat'],d5['Source_Long'],d5['Source_Lat'])\n",
        "\n",
        "time=d3['Timestamp']-d7['Timestamp'] #calculating time required to travel distance between two consecutive rows of latitude and logitude\n",
        "time=time.apply(lambda x: x.seconds/60)\n",
        "\n",
        "d6['Distance']=distance   #adding new columns to dataframe\n",
        "d6['Duration']=time"
      ],
      "metadata": {
        "id": "CZdW1ourypyV"
      },
      "execution_count": 8,
      "outputs": []
    },
    {
      "cell_type": "code",
      "source": [
        "d6.columns"
      ],
      "metadata": {
        "colab": {
          "base_uri": "https://localhost:8080/"
        },
        "id": "itB7VvyuatlB",
        "outputId": "faa912df-119a-4daf-d83b-df8f326e2ce1"
      },
      "execution_count": 9,
      "outputs": [
        {
          "output_type": "execute_result",
          "data": {
            "text/plain": [
              "Index(['Source_Lat', 'Source_Long', 'Dest_Lat', 'Dest_Long', 'Distance',\n",
              "       'Duration'],\n",
              "      dtype='object')"
            ]
          },
          "metadata": {},
          "execution_count": 9
        }
      ]
    },
    {
      "cell_type": "code",
      "source": [
        "d6.head() #created dataframe"
      ],
      "metadata": {
        "colab": {
          "base_uri": "https://localhost:8080/",
          "height": 206
        },
        "id": "larLmW-rcGsN",
        "outputId": "e8b0f57b-ef95-41b9-dbc3-1d1daa8a47a4"
      },
      "execution_count": 10,
      "outputs": [
        {
          "output_type": "execute_result",
          "data": {
            "text/plain": [
              "     Source_Lat  Source_Long   Dest_Lat  Dest_Long  Distance   Duration\n",
              "0           NaN          NaN  13.074558  77.445549       NaN        NaN\n",
              "152   13.074558    77.445549  13.074558  77.445549  0.000000  25.233333\n",
              "153   13.074558    77.445549  13.074113  77.445282  0.057313   0.166667\n",
              "154   13.074113    77.445282  13.074060  77.445267  0.006113   0.166667\n",
              "173   13.074060    77.445267  13.074060  77.445267  0.000000   3.150000"
            ],
            "text/html": [
              "\n",
              "  <div id=\"df-6586165c-d9dc-42ac-82e8-a0de0c4914af\">\n",
              "    <div class=\"colab-df-container\">\n",
              "      <div>\n",
              "<style scoped>\n",
              "    .dataframe tbody tr th:only-of-type {\n",
              "        vertical-align: middle;\n",
              "    }\n",
              "\n",
              "    .dataframe tbody tr th {\n",
              "        vertical-align: top;\n",
              "    }\n",
              "\n",
              "    .dataframe thead th {\n",
              "        text-align: right;\n",
              "    }\n",
              "</style>\n",
              "<table border=\"1\" class=\"dataframe\">\n",
              "  <thead>\n",
              "    <tr style=\"text-align: right;\">\n",
              "      <th></th>\n",
              "      <th>Source_Lat</th>\n",
              "      <th>Source_Long</th>\n",
              "      <th>Dest_Lat</th>\n",
              "      <th>Dest_Long</th>\n",
              "      <th>Distance</th>\n",
              "      <th>Duration</th>\n",
              "    </tr>\n",
              "  </thead>\n",
              "  <tbody>\n",
              "    <tr>\n",
              "      <th>0</th>\n",
              "      <td>NaN</td>\n",
              "      <td>NaN</td>\n",
              "      <td>13.074558</td>\n",
              "      <td>77.445549</td>\n",
              "      <td>NaN</td>\n",
              "      <td>NaN</td>\n",
              "    </tr>\n",
              "    <tr>\n",
              "      <th>152</th>\n",
              "      <td>13.074558</td>\n",
              "      <td>77.445549</td>\n",
              "      <td>13.074558</td>\n",
              "      <td>77.445549</td>\n",
              "      <td>0.000000</td>\n",
              "      <td>25.233333</td>\n",
              "    </tr>\n",
              "    <tr>\n",
              "      <th>153</th>\n",
              "      <td>13.074558</td>\n",
              "      <td>77.445549</td>\n",
              "      <td>13.074113</td>\n",
              "      <td>77.445282</td>\n",
              "      <td>0.057313</td>\n",
              "      <td>0.166667</td>\n",
              "    </tr>\n",
              "    <tr>\n",
              "      <th>154</th>\n",
              "      <td>13.074113</td>\n",
              "      <td>77.445282</td>\n",
              "      <td>13.074060</td>\n",
              "      <td>77.445267</td>\n",
              "      <td>0.006113</td>\n",
              "      <td>0.166667</td>\n",
              "    </tr>\n",
              "    <tr>\n",
              "      <th>173</th>\n",
              "      <td>13.074060</td>\n",
              "      <td>77.445267</td>\n",
              "      <td>13.074060</td>\n",
              "      <td>77.445267</td>\n",
              "      <td>0.000000</td>\n",
              "      <td>3.150000</td>\n",
              "    </tr>\n",
              "  </tbody>\n",
              "</table>\n",
              "</div>\n",
              "      <button class=\"colab-df-convert\" onclick=\"convertToInteractive('df-6586165c-d9dc-42ac-82e8-a0de0c4914af')\"\n",
              "              title=\"Convert this dataframe to an interactive table.\"\n",
              "              style=\"display:none;\">\n",
              "        \n",
              "  <svg xmlns=\"http://www.w3.org/2000/svg\" height=\"24px\"viewBox=\"0 0 24 24\"\n",
              "       width=\"24px\">\n",
              "    <path d=\"M0 0h24v24H0V0z\" fill=\"none\"/>\n",
              "    <path d=\"M18.56 5.44l.94 2.06.94-2.06 2.06-.94-2.06-.94-.94-2.06-.94 2.06-2.06.94zm-11 1L8.5 8.5l.94-2.06 2.06-.94-2.06-.94L8.5 2.5l-.94 2.06-2.06.94zm10 10l.94 2.06.94-2.06 2.06-.94-2.06-.94-.94-2.06-.94 2.06-2.06.94z\"/><path d=\"M17.41 7.96l-1.37-1.37c-.4-.4-.92-.59-1.43-.59-.52 0-1.04.2-1.43.59L10.3 9.45l-7.72 7.72c-.78.78-.78 2.05 0 2.83L4 21.41c.39.39.9.59 1.41.59.51 0 1.02-.2 1.41-.59l7.78-7.78 2.81-2.81c.8-.78.8-2.07 0-2.86zM5.41 20L4 18.59l7.72-7.72 1.47 1.35L5.41 20z\"/>\n",
              "  </svg>\n",
              "      </button>\n",
              "      \n",
              "  <style>\n",
              "    .colab-df-container {\n",
              "      display:flex;\n",
              "      flex-wrap:wrap;\n",
              "      gap: 12px;\n",
              "    }\n",
              "\n",
              "    .colab-df-convert {\n",
              "      background-color: #E8F0FE;\n",
              "      border: none;\n",
              "      border-radius: 50%;\n",
              "      cursor: pointer;\n",
              "      display: none;\n",
              "      fill: #1967D2;\n",
              "      height: 32px;\n",
              "      padding: 0 0 0 0;\n",
              "      width: 32px;\n",
              "    }\n",
              "\n",
              "    .colab-df-convert:hover {\n",
              "      background-color: #E2EBFA;\n",
              "      box-shadow: 0px 1px 2px rgba(60, 64, 67, 0.3), 0px 1px 3px 1px rgba(60, 64, 67, 0.15);\n",
              "      fill: #174EA6;\n",
              "    }\n",
              "\n",
              "    [theme=dark] .colab-df-convert {\n",
              "      background-color: #3B4455;\n",
              "      fill: #D2E3FC;\n",
              "    }\n",
              "\n",
              "    [theme=dark] .colab-df-convert:hover {\n",
              "      background-color: #434B5C;\n",
              "      box-shadow: 0px 1px 3px 1px rgba(0, 0, 0, 0.15);\n",
              "      filter: drop-shadow(0px 1px 2px rgba(0, 0, 0, 0.3));\n",
              "      fill: #FFFFFF;\n",
              "    }\n",
              "  </style>\n",
              "\n",
              "      <script>\n",
              "        const buttonEl =\n",
              "          document.querySelector('#df-6586165c-d9dc-42ac-82e8-a0de0c4914af button.colab-df-convert');\n",
              "        buttonEl.style.display =\n",
              "          google.colab.kernel.accessAllowed ? 'block' : 'none';\n",
              "\n",
              "        async function convertToInteractive(key) {\n",
              "          const element = document.querySelector('#df-6586165c-d9dc-42ac-82e8-a0de0c4914af');\n",
              "          const dataTable =\n",
              "            await google.colab.kernel.invokeFunction('convertToInteractive',\n",
              "                                                     [key], {});\n",
              "          if (!dataTable) return;\n",
              "\n",
              "          const docLinkHtml = 'Like what you see? Visit the ' +\n",
              "            '<a target=\"_blank\" href=https://colab.research.google.com/notebooks/data_table.ipynb>data table notebook</a>'\n",
              "            + ' to learn more about interactive tables.';\n",
              "          element.innerHTML = '';\n",
              "          dataTable['output_type'] = 'display_data';\n",
              "          await google.colab.output.renderOutput(dataTable, element);\n",
              "          const docLink = document.createElement('div');\n",
              "          docLink.innerHTML = docLinkHtml;\n",
              "          element.appendChild(docLink);\n",
              "        }\n",
              "      </script>\n",
              "    </div>\n",
              "  </div>\n",
              "  "
            ]
          },
          "metadata": {},
          "execution_count": 10
        }
      ]
    },
    {
      "cell_type": "code",
      "source": [
        "d6.replace([np.inf, -np.inf], np.nan, inplace=True)    #replacing very large values with Nan\n",
        "d6.drop(d6.tail(2).index, #dropping the first and last 2 rows from dataframe\n",
        "        inplace = True)\n",
        "d6.drop(d6.head(2).index,\n",
        "        inplace = True)\n",
        "\n",
        "pd.set_option('mode.use_inf_as_na', True)\n",
        "d6.dropna(how='any', inplace=True)       #dropping rows with Nan values from new dataframe\n",
        "# check = d6[d6.isna().any(axis=1)]\n",
        "\n",
        "# d6.drop(['Duration'],axis=1)"
      ],
      "metadata": {
        "id": "BJg6QTsocJ7Y"
      },
      "execution_count": 11,
      "outputs": []
    },
    {
      "cell_type": "code",
      "source": [
        "d6"
      ],
      "metadata": {
        "colab": {
          "base_uri": "https://localhost:8080/",
          "height": 424
        },
        "id": "EROMyIWdcTvr",
        "outputId": "ab48002b-081f-4418-bd40-a2f1c4e6198d"
      },
      "execution_count": 12,
      "outputs": [
        {
          "output_type": "execute_result",
          "data": {
            "text/plain": [
              "         Source_Lat  Source_Long   Dest_Lat  Dest_Long   Distance     Duration\n",
              "153       13.074558    77.445549  13.074113  77.445282   0.057313     0.166667\n",
              "154       13.074113    77.445282  13.074060  77.445267   0.006113     0.166667\n",
              "173       13.074060    77.445267  13.074060  77.445267   0.000000     3.150000\n",
              "174       13.074060    77.445267  13.074060  77.445267   0.000000     0.166667\n",
              "175       13.074060    77.445267  13.074060  77.445267   0.000000     0.166667\n",
              "...             ...          ...        ...        ...        ...          ...\n",
              "3145719   12.916972    77.586678  13.019111  77.501274  14.650288   300.516667\n",
              "1572856   13.019111    77.501274  12.916972  77.586678  14.650288  1139.800000\n",
              "1572857   12.916972    77.586678  12.916972  77.586678   0.000000     0.166667\n",
              "1572858   12.916972    77.586678  12.916972  77.586678   0.000000     0.166667\n",
              "3670005   12.916972    77.586678  13.039934  77.518570  15.537231   299.700000\n",
              "\n",
              "[4434304 rows x 6 columns]"
            ],
            "text/html": [
              "\n",
              "  <div id=\"df-8e56bbba-f010-42fe-974c-fd5cc5a7b37c\">\n",
              "    <div class=\"colab-df-container\">\n",
              "      <div>\n",
              "<style scoped>\n",
              "    .dataframe tbody tr th:only-of-type {\n",
              "        vertical-align: middle;\n",
              "    }\n",
              "\n",
              "    .dataframe tbody tr th {\n",
              "        vertical-align: top;\n",
              "    }\n",
              "\n",
              "    .dataframe thead th {\n",
              "        text-align: right;\n",
              "    }\n",
              "</style>\n",
              "<table border=\"1\" class=\"dataframe\">\n",
              "  <thead>\n",
              "    <tr style=\"text-align: right;\">\n",
              "      <th></th>\n",
              "      <th>Source_Lat</th>\n",
              "      <th>Source_Long</th>\n",
              "      <th>Dest_Lat</th>\n",
              "      <th>Dest_Long</th>\n",
              "      <th>Distance</th>\n",
              "      <th>Duration</th>\n",
              "    </tr>\n",
              "  </thead>\n",
              "  <tbody>\n",
              "    <tr>\n",
              "      <th>153</th>\n",
              "      <td>13.074558</td>\n",
              "      <td>77.445549</td>\n",
              "      <td>13.074113</td>\n",
              "      <td>77.445282</td>\n",
              "      <td>0.057313</td>\n",
              "      <td>0.166667</td>\n",
              "    </tr>\n",
              "    <tr>\n",
              "      <th>154</th>\n",
              "      <td>13.074113</td>\n",
              "      <td>77.445282</td>\n",
              "      <td>13.074060</td>\n",
              "      <td>77.445267</td>\n",
              "      <td>0.006113</td>\n",
              "      <td>0.166667</td>\n",
              "    </tr>\n",
              "    <tr>\n",
              "      <th>173</th>\n",
              "      <td>13.074060</td>\n",
              "      <td>77.445267</td>\n",
              "      <td>13.074060</td>\n",
              "      <td>77.445267</td>\n",
              "      <td>0.000000</td>\n",
              "      <td>3.150000</td>\n",
              "    </tr>\n",
              "    <tr>\n",
              "      <th>174</th>\n",
              "      <td>13.074060</td>\n",
              "      <td>77.445267</td>\n",
              "      <td>13.074060</td>\n",
              "      <td>77.445267</td>\n",
              "      <td>0.000000</td>\n",
              "      <td>0.166667</td>\n",
              "    </tr>\n",
              "    <tr>\n",
              "      <th>175</th>\n",
              "      <td>13.074060</td>\n",
              "      <td>77.445267</td>\n",
              "      <td>13.074060</td>\n",
              "      <td>77.445267</td>\n",
              "      <td>0.000000</td>\n",
              "      <td>0.166667</td>\n",
              "    </tr>\n",
              "    <tr>\n",
              "      <th>...</th>\n",
              "      <td>...</td>\n",
              "      <td>...</td>\n",
              "      <td>...</td>\n",
              "      <td>...</td>\n",
              "      <td>...</td>\n",
              "      <td>...</td>\n",
              "    </tr>\n",
              "    <tr>\n",
              "      <th>3145719</th>\n",
              "      <td>12.916972</td>\n",
              "      <td>77.586678</td>\n",
              "      <td>13.019111</td>\n",
              "      <td>77.501274</td>\n",
              "      <td>14.650288</td>\n",
              "      <td>300.516667</td>\n",
              "    </tr>\n",
              "    <tr>\n",
              "      <th>1572856</th>\n",
              "      <td>13.019111</td>\n",
              "      <td>77.501274</td>\n",
              "      <td>12.916972</td>\n",
              "      <td>77.586678</td>\n",
              "      <td>14.650288</td>\n",
              "      <td>1139.800000</td>\n",
              "    </tr>\n",
              "    <tr>\n",
              "      <th>1572857</th>\n",
              "      <td>12.916972</td>\n",
              "      <td>77.586678</td>\n",
              "      <td>12.916972</td>\n",
              "      <td>77.586678</td>\n",
              "      <td>0.000000</td>\n",
              "      <td>0.166667</td>\n",
              "    </tr>\n",
              "    <tr>\n",
              "      <th>1572858</th>\n",
              "      <td>12.916972</td>\n",
              "      <td>77.586678</td>\n",
              "      <td>12.916972</td>\n",
              "      <td>77.586678</td>\n",
              "      <td>0.000000</td>\n",
              "      <td>0.166667</td>\n",
              "    </tr>\n",
              "    <tr>\n",
              "      <th>3670005</th>\n",
              "      <td>12.916972</td>\n",
              "      <td>77.586678</td>\n",
              "      <td>13.039934</td>\n",
              "      <td>77.518570</td>\n",
              "      <td>15.537231</td>\n",
              "      <td>299.700000</td>\n",
              "    </tr>\n",
              "  </tbody>\n",
              "</table>\n",
              "<p>4434304 rows × 6 columns</p>\n",
              "</div>\n",
              "      <button class=\"colab-df-convert\" onclick=\"convertToInteractive('df-8e56bbba-f010-42fe-974c-fd5cc5a7b37c')\"\n",
              "              title=\"Convert this dataframe to an interactive table.\"\n",
              "              style=\"display:none;\">\n",
              "        \n",
              "  <svg xmlns=\"http://www.w3.org/2000/svg\" height=\"24px\"viewBox=\"0 0 24 24\"\n",
              "       width=\"24px\">\n",
              "    <path d=\"M0 0h24v24H0V0z\" fill=\"none\"/>\n",
              "    <path d=\"M18.56 5.44l.94 2.06.94-2.06 2.06-.94-2.06-.94-.94-2.06-.94 2.06-2.06.94zm-11 1L8.5 8.5l.94-2.06 2.06-.94-2.06-.94L8.5 2.5l-.94 2.06-2.06.94zm10 10l.94 2.06.94-2.06 2.06-.94-2.06-.94-.94-2.06-.94 2.06-2.06.94z\"/><path d=\"M17.41 7.96l-1.37-1.37c-.4-.4-.92-.59-1.43-.59-.52 0-1.04.2-1.43.59L10.3 9.45l-7.72 7.72c-.78.78-.78 2.05 0 2.83L4 21.41c.39.39.9.59 1.41.59.51 0 1.02-.2 1.41-.59l7.78-7.78 2.81-2.81c.8-.78.8-2.07 0-2.86zM5.41 20L4 18.59l7.72-7.72 1.47 1.35L5.41 20z\"/>\n",
              "  </svg>\n",
              "      </button>\n",
              "      \n",
              "  <style>\n",
              "    .colab-df-container {\n",
              "      display:flex;\n",
              "      flex-wrap:wrap;\n",
              "      gap: 12px;\n",
              "    }\n",
              "\n",
              "    .colab-df-convert {\n",
              "      background-color: #E8F0FE;\n",
              "      border: none;\n",
              "      border-radius: 50%;\n",
              "      cursor: pointer;\n",
              "      display: none;\n",
              "      fill: #1967D2;\n",
              "      height: 32px;\n",
              "      padding: 0 0 0 0;\n",
              "      width: 32px;\n",
              "    }\n",
              "\n",
              "    .colab-df-convert:hover {\n",
              "      background-color: #E2EBFA;\n",
              "      box-shadow: 0px 1px 2px rgba(60, 64, 67, 0.3), 0px 1px 3px 1px rgba(60, 64, 67, 0.15);\n",
              "      fill: #174EA6;\n",
              "    }\n",
              "\n",
              "    [theme=dark] .colab-df-convert {\n",
              "      background-color: #3B4455;\n",
              "      fill: #D2E3FC;\n",
              "    }\n",
              "\n",
              "    [theme=dark] .colab-df-convert:hover {\n",
              "      background-color: #434B5C;\n",
              "      box-shadow: 0px 1px 3px 1px rgba(0, 0, 0, 0.15);\n",
              "      filter: drop-shadow(0px 1px 2px rgba(0, 0, 0, 0.3));\n",
              "      fill: #FFFFFF;\n",
              "    }\n",
              "  </style>\n",
              "\n",
              "      <script>\n",
              "        const buttonEl =\n",
              "          document.querySelector('#df-8e56bbba-f010-42fe-974c-fd5cc5a7b37c button.colab-df-convert');\n",
              "        buttonEl.style.display =\n",
              "          google.colab.kernel.accessAllowed ? 'block' : 'none';\n",
              "\n",
              "        async function convertToInteractive(key) {\n",
              "          const element = document.querySelector('#df-8e56bbba-f010-42fe-974c-fd5cc5a7b37c');\n",
              "          const dataTable =\n",
              "            await google.colab.kernel.invokeFunction('convertToInteractive',\n",
              "                                                     [key], {});\n",
              "          if (!dataTable) return;\n",
              "\n",
              "          const docLinkHtml = 'Like what you see? Visit the ' +\n",
              "            '<a target=\"_blank\" href=https://colab.research.google.com/notebooks/data_table.ipynb>data table notebook</a>'\n",
              "            + ' to learn more about interactive tables.';\n",
              "          element.innerHTML = '';\n",
              "          dataTable['output_type'] = 'display_data';\n",
              "          await google.colab.output.renderOutput(dataTable, element);\n",
              "          const docLink = document.createElement('div');\n",
              "          docLink.innerHTML = docLinkHtml;\n",
              "          element.appendChild(docLink);\n",
              "        }\n",
              "      </script>\n",
              "    </div>\n",
              "  </div>\n",
              "  "
            ]
          },
          "metadata": {},
          "execution_count": 12
        }
      ]
    },
    {
      "cell_type": "code",
      "source": [
        "X_train=d6.drop(['Duration'],axis=1) #creating training dataset \n",
        "#dropping Duration attribute"
      ],
      "metadata": {
        "id": "ISycrFmbdUv5"
      },
      "execution_count": 13,
      "outputs": []
    },
    {
      "cell_type": "code",
      "source": [
        "X_train"
      ],
      "metadata": {
        "colab": {
          "base_uri": "https://localhost:8080/",
          "height": 424
        },
        "id": "lVkI7g69hi1m",
        "outputId": "fc64bc75-0da2-4344-a975-da1bdcab655d"
      },
      "execution_count": 14,
      "outputs": [
        {
          "output_type": "execute_result",
          "data": {
            "text/plain": [
              "         Source_Lat  Source_Long   Dest_Lat  Dest_Long   Distance\n",
              "153       13.074558    77.445549  13.074113  77.445282   0.057313\n",
              "154       13.074113    77.445282  13.074060  77.445267   0.006113\n",
              "173       13.074060    77.445267  13.074060  77.445267   0.000000\n",
              "174       13.074060    77.445267  13.074060  77.445267   0.000000\n",
              "175       13.074060    77.445267  13.074060  77.445267   0.000000\n",
              "...             ...          ...        ...        ...        ...\n",
              "3145719   12.916972    77.586678  13.019111  77.501274  14.650288\n",
              "1572856   13.019111    77.501274  12.916972  77.586678  14.650288\n",
              "1572857   12.916972    77.586678  12.916972  77.586678   0.000000\n",
              "1572858   12.916972    77.586678  12.916972  77.586678   0.000000\n",
              "3670005   12.916972    77.586678  13.039934  77.518570  15.537231\n",
              "\n",
              "[4434304 rows x 5 columns]"
            ],
            "text/html": [
              "\n",
              "  <div id=\"df-6df27721-f8a7-45ca-990c-8b7499ec7dee\">\n",
              "    <div class=\"colab-df-container\">\n",
              "      <div>\n",
              "<style scoped>\n",
              "    .dataframe tbody tr th:only-of-type {\n",
              "        vertical-align: middle;\n",
              "    }\n",
              "\n",
              "    .dataframe tbody tr th {\n",
              "        vertical-align: top;\n",
              "    }\n",
              "\n",
              "    .dataframe thead th {\n",
              "        text-align: right;\n",
              "    }\n",
              "</style>\n",
              "<table border=\"1\" class=\"dataframe\">\n",
              "  <thead>\n",
              "    <tr style=\"text-align: right;\">\n",
              "      <th></th>\n",
              "      <th>Source_Lat</th>\n",
              "      <th>Source_Long</th>\n",
              "      <th>Dest_Lat</th>\n",
              "      <th>Dest_Long</th>\n",
              "      <th>Distance</th>\n",
              "    </tr>\n",
              "  </thead>\n",
              "  <tbody>\n",
              "    <tr>\n",
              "      <th>153</th>\n",
              "      <td>13.074558</td>\n",
              "      <td>77.445549</td>\n",
              "      <td>13.074113</td>\n",
              "      <td>77.445282</td>\n",
              "      <td>0.057313</td>\n",
              "    </tr>\n",
              "    <tr>\n",
              "      <th>154</th>\n",
              "      <td>13.074113</td>\n",
              "      <td>77.445282</td>\n",
              "      <td>13.074060</td>\n",
              "      <td>77.445267</td>\n",
              "      <td>0.006113</td>\n",
              "    </tr>\n",
              "    <tr>\n",
              "      <th>173</th>\n",
              "      <td>13.074060</td>\n",
              "      <td>77.445267</td>\n",
              "      <td>13.074060</td>\n",
              "      <td>77.445267</td>\n",
              "      <td>0.000000</td>\n",
              "    </tr>\n",
              "    <tr>\n",
              "      <th>174</th>\n",
              "      <td>13.074060</td>\n",
              "      <td>77.445267</td>\n",
              "      <td>13.074060</td>\n",
              "      <td>77.445267</td>\n",
              "      <td>0.000000</td>\n",
              "    </tr>\n",
              "    <tr>\n",
              "      <th>175</th>\n",
              "      <td>13.074060</td>\n",
              "      <td>77.445267</td>\n",
              "      <td>13.074060</td>\n",
              "      <td>77.445267</td>\n",
              "      <td>0.000000</td>\n",
              "    </tr>\n",
              "    <tr>\n",
              "      <th>...</th>\n",
              "      <td>...</td>\n",
              "      <td>...</td>\n",
              "      <td>...</td>\n",
              "      <td>...</td>\n",
              "      <td>...</td>\n",
              "    </tr>\n",
              "    <tr>\n",
              "      <th>3145719</th>\n",
              "      <td>12.916972</td>\n",
              "      <td>77.586678</td>\n",
              "      <td>13.019111</td>\n",
              "      <td>77.501274</td>\n",
              "      <td>14.650288</td>\n",
              "    </tr>\n",
              "    <tr>\n",
              "      <th>1572856</th>\n",
              "      <td>13.019111</td>\n",
              "      <td>77.501274</td>\n",
              "      <td>12.916972</td>\n",
              "      <td>77.586678</td>\n",
              "      <td>14.650288</td>\n",
              "    </tr>\n",
              "    <tr>\n",
              "      <th>1572857</th>\n",
              "      <td>12.916972</td>\n",
              "      <td>77.586678</td>\n",
              "      <td>12.916972</td>\n",
              "      <td>77.586678</td>\n",
              "      <td>0.000000</td>\n",
              "    </tr>\n",
              "    <tr>\n",
              "      <th>1572858</th>\n",
              "      <td>12.916972</td>\n",
              "      <td>77.586678</td>\n",
              "      <td>12.916972</td>\n",
              "      <td>77.586678</td>\n",
              "      <td>0.000000</td>\n",
              "    </tr>\n",
              "    <tr>\n",
              "      <th>3670005</th>\n",
              "      <td>12.916972</td>\n",
              "      <td>77.586678</td>\n",
              "      <td>13.039934</td>\n",
              "      <td>77.518570</td>\n",
              "      <td>15.537231</td>\n",
              "    </tr>\n",
              "  </tbody>\n",
              "</table>\n",
              "<p>4434304 rows × 5 columns</p>\n",
              "</div>\n",
              "      <button class=\"colab-df-convert\" onclick=\"convertToInteractive('df-6df27721-f8a7-45ca-990c-8b7499ec7dee')\"\n",
              "              title=\"Convert this dataframe to an interactive table.\"\n",
              "              style=\"display:none;\">\n",
              "        \n",
              "  <svg xmlns=\"http://www.w3.org/2000/svg\" height=\"24px\"viewBox=\"0 0 24 24\"\n",
              "       width=\"24px\">\n",
              "    <path d=\"M0 0h24v24H0V0z\" fill=\"none\"/>\n",
              "    <path d=\"M18.56 5.44l.94 2.06.94-2.06 2.06-.94-2.06-.94-.94-2.06-.94 2.06-2.06.94zm-11 1L8.5 8.5l.94-2.06 2.06-.94-2.06-.94L8.5 2.5l-.94 2.06-2.06.94zm10 10l.94 2.06.94-2.06 2.06-.94-2.06-.94-.94-2.06-.94 2.06-2.06.94z\"/><path d=\"M17.41 7.96l-1.37-1.37c-.4-.4-.92-.59-1.43-.59-.52 0-1.04.2-1.43.59L10.3 9.45l-7.72 7.72c-.78.78-.78 2.05 0 2.83L4 21.41c.39.39.9.59 1.41.59.51 0 1.02-.2 1.41-.59l7.78-7.78 2.81-2.81c.8-.78.8-2.07 0-2.86zM5.41 20L4 18.59l7.72-7.72 1.47 1.35L5.41 20z\"/>\n",
              "  </svg>\n",
              "      </button>\n",
              "      \n",
              "  <style>\n",
              "    .colab-df-container {\n",
              "      display:flex;\n",
              "      flex-wrap:wrap;\n",
              "      gap: 12px;\n",
              "    }\n",
              "\n",
              "    .colab-df-convert {\n",
              "      background-color: #E8F0FE;\n",
              "      border: none;\n",
              "      border-radius: 50%;\n",
              "      cursor: pointer;\n",
              "      display: none;\n",
              "      fill: #1967D2;\n",
              "      height: 32px;\n",
              "      padding: 0 0 0 0;\n",
              "      width: 32px;\n",
              "    }\n",
              "\n",
              "    .colab-df-convert:hover {\n",
              "      background-color: #E2EBFA;\n",
              "      box-shadow: 0px 1px 2px rgba(60, 64, 67, 0.3), 0px 1px 3px 1px rgba(60, 64, 67, 0.15);\n",
              "      fill: #174EA6;\n",
              "    }\n",
              "\n",
              "    [theme=dark] .colab-df-convert {\n",
              "      background-color: #3B4455;\n",
              "      fill: #D2E3FC;\n",
              "    }\n",
              "\n",
              "    [theme=dark] .colab-df-convert:hover {\n",
              "      background-color: #434B5C;\n",
              "      box-shadow: 0px 1px 3px 1px rgba(0, 0, 0, 0.15);\n",
              "      filter: drop-shadow(0px 1px 2px rgba(0, 0, 0, 0.3));\n",
              "      fill: #FFFFFF;\n",
              "    }\n",
              "  </style>\n",
              "\n",
              "      <script>\n",
              "        const buttonEl =\n",
              "          document.querySelector('#df-6df27721-f8a7-45ca-990c-8b7499ec7dee button.colab-df-convert');\n",
              "        buttonEl.style.display =\n",
              "          google.colab.kernel.accessAllowed ? 'block' : 'none';\n",
              "\n",
              "        async function convertToInteractive(key) {\n",
              "          const element = document.querySelector('#df-6df27721-f8a7-45ca-990c-8b7499ec7dee');\n",
              "          const dataTable =\n",
              "            await google.colab.kernel.invokeFunction('convertToInteractive',\n",
              "                                                     [key], {});\n",
              "          if (!dataTable) return;\n",
              "\n",
              "          const docLinkHtml = 'Like what you see? Visit the ' +\n",
              "            '<a target=\"_blank\" href=https://colab.research.google.com/notebooks/data_table.ipynb>data table notebook</a>'\n",
              "            + ' to learn more about interactive tables.';\n",
              "          element.innerHTML = '';\n",
              "          dataTable['output_type'] = 'display_data';\n",
              "          await google.colab.output.renderOutput(dataTable, element);\n",
              "          const docLink = document.createElement('div');\n",
              "          docLink.innerHTML = docLinkHtml;\n",
              "          element.appendChild(docLink);\n",
              "        }\n",
              "      </script>\n",
              "    </div>\n",
              "  </div>\n",
              "  "
            ]
          },
          "metadata": {},
          "execution_count": 14
        }
      ]
    },
    {
      "cell_type": "code",
      "source": [
        "y_train=d6['Duration']  #creating target variable"
      ],
      "metadata": {
        "id": "dQReycKthpNU"
      },
      "execution_count": 15,
      "outputs": []
    },
    {
      "cell_type": "code",
      "source": [
        "y_train"
      ],
      "metadata": {
        "colab": {
          "base_uri": "https://localhost:8080/"
        },
        "id": "N2SekVU_hwQ1",
        "outputId": "c12f4c4c-b942-472c-b50f-fd357a7d6029"
      },
      "execution_count": 16,
      "outputs": [
        {
          "output_type": "execute_result",
          "data": {
            "text/plain": [
              "153           0.166667\n",
              "154           0.166667\n",
              "173           3.150000\n",
              "174           0.166667\n",
              "175           0.166667\n",
              "              ...     \n",
              "3145719     300.516667\n",
              "1572856    1139.800000\n",
              "1572857       0.166667\n",
              "1572858       0.166667\n",
              "3670005     299.700000\n",
              "Name: Duration, Length: 4434304, dtype: float64"
            ]
          },
          "metadata": {},
          "execution_count": 16
        }
      ]
    },
    {
      "cell_type": "code",
      "source": [
        "test_df=dfInput\n",
        "\n",
        "distance1=haversine(test_df['Dest_Long'],test_df['Dest_Lat'],test_df['Source_Long'],test_df['Source_Lat'])\n",
        "\n",
        "test_df['Distance']=distance1         #creating distance attribute in testing csv\n",
        "print(test_df.columns)\n",
        "\n",
        "test_df.drop(\"Unnamed: 0\",axis=1,inplace=True) #dropping extra column from testing csv\n",
        "\n",
        "X_test=test_df"
      ],
      "metadata": {
        "colab": {
          "base_uri": "https://localhost:8080/"
        },
        "id": "okHKSY61hzhB",
        "outputId": "131d54b1-3ebc-46e2-c57e-a5e09fe73d00"
      },
      "execution_count": 17,
      "outputs": [
        {
          "output_type": "stream",
          "name": "stdout",
          "text": [
            "Index(['Unnamed: 0', 'Source_Lat', 'Source_Long', 'Dest_Lat', 'Dest_Long',\n",
            "       'Distance'],\n",
            "      dtype='object')\n"
          ]
        }
      ]
    },
    {
      "cell_type": "code",
      "source": [
        "X_test.replace([np.inf, -np.inf], np.nan, inplace=True) #replacing very large values with Nan\n"
      ],
      "metadata": {
        "id": "FnQwO1S-mOIZ"
      },
      "execution_count": 18,
      "outputs": []
    },
    {
      "cell_type": "code",
      "source": [
        "X_test      #checking for Nan value of distance in testing csv\n",
        "X = X_test['Distance'].isna()\n",
        "c=0\n",
        "for i in X:\n",
        "  if i :\n",
        "    print(X_test[c])\n",
        "  c+=1\n",
        "print(c)\n"
      ],
      "metadata": {
        "colab": {
          "base_uri": "https://localhost:8080/"
        },
        "id": "hHPBexvJkF-x",
        "outputId": "b1f86a81-cb4b-462b-dc70-738160c0777a"
      },
      "execution_count": 19,
      "outputs": [
        {
          "output_type": "stream",
          "name": "stdout",
          "text": [
            "1205\n"
          ]
        }
      ]
    },
    {
      "cell_type": "code",
      "source": [
        "y_test=dfGroundTruth\n",
        "print(y_test.columns)\n",
        "# y_test.drop(\"Unnamed: 0\",axis=1,inplace=True)"
      ],
      "metadata": {
        "colab": {
          "base_uri": "https://localhost:8080/"
        },
        "id": "LMH36o2Hh5p6",
        "outputId": "6da7c885-1732-48a3-a41a-1728a695d7b6"
      },
      "execution_count": 41,
      "outputs": [
        {
          "output_type": "stream",
          "name": "stdout",
          "text": [
            "Index(['TT'], dtype='object')\n"
          ]
        }
      ]
    },
    {
      "cell_type": "code",
      "source": [
        "X_test=pd.concat([X_test,y_test], axis=1)  \n",
        "X_test.dropna(how='any', inplace=True) #dropping  rows containing Nan values from dataset"
      ],
      "metadata": {
        "id": "i41q2dXVryqX"
      },
      "execution_count": 42,
      "outputs": []
    },
    {
      "cell_type": "code",
      "source": [
        "y_test=X_test['TT']\n",
        "X_test.drop('TT',axis=1,inplace=True)"
      ],
      "metadata": {
        "id": "SwTAYcHQsikf"
      },
      "execution_count": 43,
      "outputs": []
    },
    {
      "cell_type": "markdown",
      "source": [
        "# Linear Regression Model"
      ],
      "metadata": {
        "id": "5wFNDfnX_rFF"
      }
    },
    {
      "cell_type": "code",
      "source": [
        "reg_model=LinearRegression() "
      ],
      "metadata": {
        "id": "w3JqnOv2jJ9o"
      },
      "execution_count": 44,
      "outputs": []
    },
    {
      "cell_type": "code",
      "source": [
        "reg_model.fit(X_train, y_train)"
      ],
      "metadata": {
        "colab": {
          "base_uri": "https://localhost:8080/"
        },
        "id": "psM51fTSjTcT",
        "outputId": "59ebc437-9a69-4973-b67b-1b9b4e65596d"
      },
      "execution_count": 45,
      "outputs": [
        {
          "output_type": "execute_result",
          "data": {
            "text/plain": [
              "LinearRegression()"
            ]
          },
          "metadata": {},
          "execution_count": 45
        }
      ]
    },
    {
      "cell_type": "code",
      "source": [
        "print(reg_model.score(X_test, y_test))"
      ],
      "metadata": {
        "colab": {
          "base_uri": "https://localhost:8080/"
        },
        "id": "qjAkZzwojYn2",
        "outputId": "0979eb07-b78d-4188-facd-a113857c30fc"
      },
      "execution_count": 46,
      "outputs": [
        {
          "output_type": "stream",
          "name": "stdout",
          "text": [
            "-185.51197284254383\n"
          ]
        }
      ]
    },
    {
      "cell_type": "markdown",
      "source": [],
      "metadata": {
        "id": "xuBNPj_4XZK1"
      }
    },
    {
      "cell_type": "markdown",
      "source": [
        "# Random Forest Model"
      ],
      "metadata": {
        "id": "q3iQL14-_QaM"
      }
    },
    {
      "cell_type": "code",
      "source": [
        "Xtrain,Xtest,ytrain,ytest = train_test_split(X_train,y_train, train_size = 0.006, random_state=42) "
      ],
      "metadata": {
        "id": "iQLhY64I6bck"
      },
      "execution_count": 47,
      "outputs": []
    },
    {
      "cell_type": "markdown",
      "source": [],
      "metadata": {
        "id": "D_r30HPb8YEv"
      }
    },
    {
      "cell_type": "code",
      "source": [
        "forest_model = RandomForestRegressor(random_state=1,oob_score=True,)\n",
        "forest_model.fit(Xtrain,ytrain)\n",
        "#print(\"yes\")"
      ],
      "metadata": {
        "colab": {
          "base_uri": "https://localhost:8080/"
        },
        "id": "rFp612Om-PUt",
        "outputId": "d9d20cce-9997-48ab-942b-74da2749e5d1"
      },
      "execution_count": 29,
      "outputs": [
        {
          "output_type": "execute_result",
          "data": {
            "text/plain": [
              "RandomForestRegressor(oob_score=True, random_state=1)"
            ]
          },
          "metadata": {},
          "execution_count": 29
        }
      ]
    },
    {
      "cell_type": "code",
      "source": [
        "pred = forest_model.predict(X_test)\n",
        "print(mean_absolute_error(y_test, pred))"
      ],
      "metadata": {
        "colab": {
          "base_uri": "https://localhost:8080/"
        },
        "id": "9SWboOXP32nq",
        "outputId": "e105ee8d-8370-4c2b-ed79-18da67df7317"
      },
      "execution_count": 30,
      "outputs": [
        {
          "output_type": "stream",
          "name": "stdout",
          "text": [
            "485.8630272475795\n"
          ]
        }
      ]
    },
    {
      "cell_type": "markdown",
      "source": [
        "# AutoML"
      ],
      "metadata": {
        "id": "F9fe63zYZktT"
      }
    },
    {
      "cell_type": "code",
      "source": [
        "#!apt install -y build-essential swig curl"
      ],
      "metadata": {
        "id": "9kBXiS9BadRm"
      },
      "execution_count": 31,
      "outputs": []
    },
    {
      "cell_type": "code",
      "source": [
        "# !pip install auto-sklearn"
      ],
      "metadata": {
        "id": "JwqK6AXU2DHN"
      },
      "execution_count": 32,
      "outputs": []
    },
    {
      "cell_type": "code",
      "source": [
        "# Install packages\n",
        "# !curl https://raw.githubusercontent.com/automl/auto-sklearn/master/requirements.txt | xargs -n 1 -L 1 pip install\n",
        "# !pip install auto-sklearn"
      ],
      "metadata": {
        "id": "6hgd3gZTF9e5"
      },
      "execution_count": 33,
      "outputs": []
    },
    {
      "cell_type": "code",
      "source": [
        "# from autosklearn.regression import AutoSklearnRegressor\n",
        "# # Create the AutoSklearnRegessor\n",
        "# sklearn = AutoSklearnRegressor(time_left_for_this_task=360,per_run_time_limit=30,memory_limit=5000,n_jobs=-1)\n",
        "# # Fit the training data\n",
        "# sklearn.fit(Xtrain, ytrain)\n",
        "# # Sprint Statistics\n",
        "# print(sklearn.sprint_statistics())\n",
        "# # Predict the validation data\n",
        "# pred_sklearn = sklearn.predict(X_test)\n",
        "# # Compute the RMSE\n",
        "# rmse_sklearn=MSE(y_test, pred_sklearn)**0.5\n",
        "# print('RMSE: ' + str(rmse_sklearn))"
      ],
      "metadata": {
        "id": "aw8BukKZ3jZ3"
      },
      "execution_count": 34,
      "outputs": []
    },
    {
      "cell_type": "code",
      "source": [
        "# sklearn.get_models_with_weights()"
      ],
      "metadata": {
        "id": "zi6Oc-z097qN"
      },
      "execution_count": 35,
      "outputs": []
    },
    {
      "cell_type": "code",
      "source": [
        "# sklearn.leaderboard()"
      ],
      "metadata": {
        "id": "V4LpP7Dw-IJL"
      },
      "execution_count": 36,
      "outputs": []
    },
    {
      "cell_type": "code",
      "source": [
        "# from autosklearn.regression import AutoSklearnRegressor\n",
        "# # Create the AutoSklearnRegessor\n",
        "# sklearn = AutoSklearnRegressor(time_left_for_this_task=360,per_run_time_limit=45,memory_limit=5500,n_jobs=-1)\n",
        "# # Fit the training data\n",
        "# sklearn.fit(Xtrain, ytrain)\n",
        "# # Sprint Statistics\n",
        "# print(sklearn.sprint_statistics())\n",
        "# # Predict the validation data\n",
        "# pred_sklearn = sklearn.predict(X_test)\n",
        "# # Compute the RMSE\n",
        "# rmse_sklearn=MSE(y_test, pred_sklearn)**0.5\n",
        "# print('RMSE: ' + str(rmse_sklearn))"
      ],
      "metadata": {
        "id": "kaOkbJPuqD-O"
      },
      "execution_count": 37,
      "outputs": []
    },
    {
      "cell_type": "code",
      "source": [
        "# sklearn.leaderboard()"
      ],
      "metadata": {
        "id": "g9Y-YZVW-mLp"
      },
      "execution_count": 38,
      "outputs": []
    },
    {
      "cell_type": "code",
      "source": [
        "# from autosklearn.regression import AutoSklearnRegressor\n",
        "# # Create the AutoSklearnRegessor\n",
        "# sklearn = AutoSklearnRegressor(time_left_for_this_task=36000,per_run_time_limit=3600,memory_limit=5000,n_jobs=-1)\n",
        "# # Fit the training data\n",
        "# sklearn.fit(Xtrain, ytrain)\n",
        "# # Sprint Statistics\n",
        "# print(sklearn.sprint_statistics())\n",
        "# # Predict the validation data\n",
        "# pred_sklearn = sklearn.predict(X_test)\n",
        "# # Compute the RMSE\n",
        "# rmse_sklearn=MSE(y_test, pred_sklearn)**0.5\n",
        "# print('RMSE: ' + str(rmse_sklearn))"
      ],
      "metadata": {
        "id": "XcKyrGSOv7jy"
      },
      "execution_count": 39,
      "outputs": []
    },
    {
      "cell_type": "code",
      "source": [
        "# import matplotlib.pyplot as plt \n",
        "# # Scatter plot true and predicted values\n",
        "# plt.scatter(pred_sklearn, y_val, alpha=0.2)\n",
        "# plt.xlabel('predicted')\n",
        "# plt.ylabel('true value')"
      ],
      "metadata": {
        "id": "SCCE6N6xlqKz"
      },
      "execution_count": 40,
      "outputs": []
    }
  ]
}